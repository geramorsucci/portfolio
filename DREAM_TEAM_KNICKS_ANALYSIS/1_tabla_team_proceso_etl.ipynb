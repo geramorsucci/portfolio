{
 "cells": [
  {
   "cell_type": "markdown",
   "metadata": {},
   "source": [
    "# Tabla Team"
   ]
  },
  {
   "cell_type": "code",
   "execution_count": 39,
   "metadata": {},
   "outputs": [],
   "source": [
    "import numpy as np\n",
    "import pandas as pd\n",
    "import matplotlib.pyplot as plt\n",
    "import seaborn as sns"
   ]
  },
  {
   "cell_type": "markdown",
   "metadata": {},
   "source": [
    "### Carga de team"
   ]
  },
  {
   "cell_type": "code",
   "execution_count": 40,
   "metadata": {},
   "outputs": [],
   "source": [
    "team = pd.read_csv('team.csv')"
   ]
  },
  {
   "cell_type": "code",
   "execution_count": 41,
   "metadata": {},
   "outputs": [
    {
     "data": {
      "text/plain": [
       "(30, 7)"
      ]
     },
     "execution_count": 41,
     "metadata": {},
     "output_type": "execute_result"
    }
   ],
   "source": [
    "np.shape(team)"
   ]
  },
  {
   "cell_type": "markdown",
   "metadata": {},
   "source": [
    "### Vista preeliminar de los datos"
   ]
  },
  {
   "cell_type": "code",
   "execution_count": 42,
   "metadata": {},
   "outputs": [
    {
     "data": {
      "text/html": [
       "<div>\n",
       "<style scoped>\n",
       "    .dataframe tbody tr th:only-of-type {\n",
       "        vertical-align: middle;\n",
       "    }\n",
       "\n",
       "    .dataframe tbody tr th {\n",
       "        vertical-align: top;\n",
       "    }\n",
       "\n",
       "    .dataframe thead th {\n",
       "        text-align: right;\n",
       "    }\n",
       "</style>\n",
       "<table border=\"1\" class=\"dataframe\">\n",
       "  <thead>\n",
       "    <tr style=\"text-align: right;\">\n",
       "      <th></th>\n",
       "      <th>id</th>\n",
       "      <th>full_name</th>\n",
       "      <th>abbreviation</th>\n",
       "      <th>nickname</th>\n",
       "      <th>city</th>\n",
       "      <th>state</th>\n",
       "      <th>year_founded</th>\n",
       "    </tr>\n",
       "  </thead>\n",
       "  <tbody>\n",
       "    <tr>\n",
       "      <th>0</th>\n",
       "      <td>1610612737</td>\n",
       "      <td>Atlanta Hawks</td>\n",
       "      <td>ATL</td>\n",
       "      <td>Hawks</td>\n",
       "      <td>Atlanta</td>\n",
       "      <td>Atlanta</td>\n",
       "      <td>1949.0</td>\n",
       "    </tr>\n",
       "    <tr>\n",
       "      <th>1</th>\n",
       "      <td>1610612738</td>\n",
       "      <td>Boston Celtics</td>\n",
       "      <td>BOS</td>\n",
       "      <td>Celtics</td>\n",
       "      <td>Boston</td>\n",
       "      <td>Massachusetts</td>\n",
       "      <td>1946.0</td>\n",
       "    </tr>\n",
       "    <tr>\n",
       "      <th>2</th>\n",
       "      <td>1610612739</td>\n",
       "      <td>Cleveland Cavaliers</td>\n",
       "      <td>CLE</td>\n",
       "      <td>Cavaliers</td>\n",
       "      <td>Cleveland</td>\n",
       "      <td>Ohio</td>\n",
       "      <td>1970.0</td>\n",
       "    </tr>\n",
       "    <tr>\n",
       "      <th>3</th>\n",
       "      <td>1610612740</td>\n",
       "      <td>New Orleans Pelicans</td>\n",
       "      <td>NOP</td>\n",
       "      <td>Pelicans</td>\n",
       "      <td>New Orleans</td>\n",
       "      <td>Louisiana</td>\n",
       "      <td>2002.0</td>\n",
       "    </tr>\n",
       "    <tr>\n",
       "      <th>4</th>\n",
       "      <td>1610612741</td>\n",
       "      <td>Chicago Bulls</td>\n",
       "      <td>CHI</td>\n",
       "      <td>Bulls</td>\n",
       "      <td>Chicago</td>\n",
       "      <td>Illinois</td>\n",
       "      <td>1966.0</td>\n",
       "    </tr>\n",
       "  </tbody>\n",
       "</table>\n",
       "</div>"
      ],
      "text/plain": [
       "           id             full_name abbreviation   nickname         city  \\\n",
       "0  1610612737         Atlanta Hawks          ATL      Hawks      Atlanta   \n",
       "1  1610612738        Boston Celtics          BOS    Celtics       Boston   \n",
       "2  1610612739   Cleveland Cavaliers          CLE  Cavaliers    Cleveland   \n",
       "3  1610612740  New Orleans Pelicans          NOP   Pelicans  New Orleans   \n",
       "4  1610612741         Chicago Bulls          CHI      Bulls      Chicago   \n",
       "\n",
       "           state  year_founded  \n",
       "0        Atlanta        1949.0  \n",
       "1  Massachusetts        1946.0  \n",
       "2           Ohio        1970.0  \n",
       "3      Louisiana        2002.0  \n",
       "4       Illinois        1966.0  "
      ]
     },
     "execution_count": 42,
     "metadata": {},
     "output_type": "execute_result"
    }
   ],
   "source": [
    "team.head()"
   ]
  },
  {
   "cell_type": "markdown",
   "metadata": {},
   "source": [
    "### Tipo de datos del dataframe"
   ]
  },
  {
   "cell_type": "code",
   "execution_count": 43,
   "metadata": {},
   "outputs": [
    {
     "name": "stdout",
     "output_type": "stream",
     "text": [
      "<class 'pandas.core.frame.DataFrame'>\n",
      "RangeIndex: 30 entries, 0 to 29\n",
      "Data columns (total 7 columns):\n",
      " #   Column        Non-Null Count  Dtype  \n",
      "---  ------        --------------  -----  \n",
      " 0   id            30 non-null     int64  \n",
      " 1   full_name     30 non-null     object \n",
      " 2   abbreviation  30 non-null     object \n",
      " 3   nickname      30 non-null     object \n",
      " 4   city          30 non-null     object \n",
      " 5   state         30 non-null     object \n",
      " 6   year_founded  30 non-null     float64\n",
      "dtypes: float64(1), int64(1), object(5)\n",
      "memory usage: 1.8+ KB\n"
     ]
    }
   ],
   "source": [
    "team.info()"
   ]
  },
  {
   "cell_type": "markdown",
   "metadata": {},
   "source": [
    "### Conversion de la columna year_founded a INT"
   ]
  },
  {
   "cell_type": "code",
   "execution_count": 44,
   "metadata": {},
   "outputs": [],
   "source": [
    "team['year_founded'] = team['year_founded'].astype(int)"
   ]
  },
  {
   "cell_type": "code",
   "execution_count": 45,
   "metadata": {},
   "outputs": [
    {
     "name": "stdout",
     "output_type": "stream",
     "text": [
      "<class 'pandas.core.frame.DataFrame'>\n",
      "RangeIndex: 30 entries, 0 to 29\n",
      "Data columns (total 7 columns):\n",
      " #   Column        Non-Null Count  Dtype \n",
      "---  ------        --------------  ----- \n",
      " 0   id            30 non-null     int64 \n",
      " 1   full_name     30 non-null     object\n",
      " 2   abbreviation  30 non-null     object\n",
      " 3   nickname      30 non-null     object\n",
      " 4   city          30 non-null     object\n",
      " 5   state         30 non-null     object\n",
      " 6   year_founded  30 non-null     int64 \n",
      "dtypes: int64(2), object(5)\n",
      "memory usage: 1.8+ KB\n"
     ]
    }
   ],
   "source": [
    "team.info()"
   ]
  },
  {
   "cell_type": "markdown",
   "metadata": {},
   "source": [
    "### Visualizar valores nulos"
   ]
  },
  {
   "cell_type": "code",
   "execution_count": 46,
   "metadata": {},
   "outputs": [
    {
     "data": {
      "text/plain": [
       "id              0\n",
       "full_name       0\n",
       "abbreviation    0\n",
       "nickname        0\n",
       "city            0\n",
       "state           0\n",
       "year_founded    0\n",
       "dtype: int64"
      ]
     },
     "execution_count": 46,
     "metadata": {},
     "output_type": "execute_result"
    }
   ],
   "source": [
    "team.isnull().sum()"
   ]
  },
  {
   "cell_type": "markdown",
   "metadata": {},
   "source": [
    "# Carga de team_details"
   ]
  },
  {
   "cell_type": "code",
   "execution_count": 47,
   "metadata": {},
   "outputs": [],
   "source": [
    "team_details = pd.read_csv('team_details.csv')"
   ]
  },
  {
   "cell_type": "code",
   "execution_count": 48,
   "metadata": {},
   "outputs": [
    {
     "data": {
      "text/plain": [
       "(25, 14)"
      ]
     },
     "execution_count": 48,
     "metadata": {},
     "output_type": "execute_result"
    }
   ],
   "source": [
    "np.shape(team_details)"
   ]
  },
  {
   "cell_type": "markdown",
   "metadata": {},
   "source": [
    "### Visualizacion preeliminar de los datos"
   ]
  },
  {
   "cell_type": "code",
   "execution_count": 49,
   "metadata": {},
   "outputs": [
    {
     "data": {
      "text/html": [
       "<div>\n",
       "<style scoped>\n",
       "    .dataframe tbody tr th:only-of-type {\n",
       "        vertical-align: middle;\n",
       "    }\n",
       "\n",
       "    .dataframe tbody tr th {\n",
       "        vertical-align: top;\n",
       "    }\n",
       "\n",
       "    .dataframe thead th {\n",
       "        text-align: right;\n",
       "    }\n",
       "</style>\n",
       "<table border=\"1\" class=\"dataframe\">\n",
       "  <thead>\n",
       "    <tr style=\"text-align: right;\">\n",
       "      <th></th>\n",
       "      <th>team_id</th>\n",
       "      <th>abbreviation</th>\n",
       "      <th>nickname</th>\n",
       "      <th>yearfounded</th>\n",
       "      <th>city</th>\n",
       "      <th>arena</th>\n",
       "      <th>arenacapacity</th>\n",
       "      <th>owner</th>\n",
       "      <th>generalmanager</th>\n",
       "      <th>headcoach</th>\n",
       "      <th>dleagueaffiliation</th>\n",
       "      <th>facebook</th>\n",
       "      <th>instagram</th>\n",
       "      <th>twitter</th>\n",
       "    </tr>\n",
       "  </thead>\n",
       "  <tbody>\n",
       "    <tr>\n",
       "      <th>0</th>\n",
       "      <td>1610612737</td>\n",
       "      <td>ATL</td>\n",
       "      <td>Hawks</td>\n",
       "      <td>1949.0</td>\n",
       "      <td>Atlanta</td>\n",
       "      <td>State Farm Arena</td>\n",
       "      <td>18729.0</td>\n",
       "      <td>Tony Ressler</td>\n",
       "      <td>Travis Schlenk</td>\n",
       "      <td>Quin Snyder</td>\n",
       "      <td>College Park Skyhawks</td>\n",
       "      <td>https://www.facebook.com/hawks</td>\n",
       "      <td>https://instagram.com/atlhawks</td>\n",
       "      <td>https://twitter.com/ATLHawks</td>\n",
       "    </tr>\n",
       "    <tr>\n",
       "      <th>1</th>\n",
       "      <td>1610612741</td>\n",
       "      <td>CHI</td>\n",
       "      <td>Bulls</td>\n",
       "      <td>1966.0</td>\n",
       "      <td>Chicago</td>\n",
       "      <td>United Center</td>\n",
       "      <td>21711.0</td>\n",
       "      <td>Michael Reinsdorf</td>\n",
       "      <td>Arturas Karnisovas</td>\n",
       "      <td>Billy Donovan</td>\n",
       "      <td>Windy City Bulls</td>\n",
       "      <td>https://www.facebook.com/chicagobulls</td>\n",
       "      <td>https://instagram.com/chicagobulls</td>\n",
       "      <td>https://twitter.com/chicagobulls</td>\n",
       "    </tr>\n",
       "    <tr>\n",
       "      <th>2</th>\n",
       "      <td>1610612742</td>\n",
       "      <td>DAL</td>\n",
       "      <td>Mavericks</td>\n",
       "      <td>1980.0</td>\n",
       "      <td>Dallas</td>\n",
       "      <td>American Airlines Center</td>\n",
       "      <td>19200.0</td>\n",
       "      <td>Mark Cuban</td>\n",
       "      <td>Nico Harrison</td>\n",
       "      <td>Jason Kidd</td>\n",
       "      <td>Texas Legends</td>\n",
       "      <td>https://www.facebook.com/dallasmavs</td>\n",
       "      <td>https://instagram.com/dallasmavs</td>\n",
       "      <td>https://twitter.com/dallasmavs</td>\n",
       "    </tr>\n",
       "    <tr>\n",
       "      <th>3</th>\n",
       "      <td>1610612743</td>\n",
       "      <td>DEN</td>\n",
       "      <td>Nuggets</td>\n",
       "      <td>1976.0</td>\n",
       "      <td>Denver</td>\n",
       "      <td>Ball Arena</td>\n",
       "      <td>NaN</td>\n",
       "      <td>Stan Kroenke</td>\n",
       "      <td>Calvin Booth</td>\n",
       "      <td>Michael Malone</td>\n",
       "      <td>Grand Rapids Gold</td>\n",
       "      <td>https://www.facebook.com/DenverNuggets</td>\n",
       "      <td>https://instagram.com/nuggets</td>\n",
       "      <td>https://twitter.com/nuggets</td>\n",
       "    </tr>\n",
       "    <tr>\n",
       "      <th>4</th>\n",
       "      <td>1610612744</td>\n",
       "      <td>GSW</td>\n",
       "      <td>Warriors</td>\n",
       "      <td>1946.0</td>\n",
       "      <td>Golden State</td>\n",
       "      <td>Chase Center</td>\n",
       "      <td>NaN</td>\n",
       "      <td>Joe Lacob</td>\n",
       "      <td>Bob Myers</td>\n",
       "      <td>Steve Kerr</td>\n",
       "      <td>Santa Cruz Warriors</td>\n",
       "      <td>https://www.facebook.com/warriors</td>\n",
       "      <td>https://instagram.com/warriors</td>\n",
       "      <td>https://twitter.com/warriors</td>\n",
       "    </tr>\n",
       "  </tbody>\n",
       "</table>\n",
       "</div>"
      ],
      "text/plain": [
       "      team_id abbreviation   nickname  yearfounded          city  \\\n",
       "0  1610612737          ATL      Hawks       1949.0       Atlanta   \n",
       "1  1610612741          CHI      Bulls       1966.0       Chicago   \n",
       "2  1610612742          DAL  Mavericks       1980.0        Dallas   \n",
       "3  1610612743          DEN    Nuggets       1976.0        Denver   \n",
       "4  1610612744          GSW   Warriors       1946.0  Golden State   \n",
       "\n",
       "                      arena  arenacapacity              owner  \\\n",
       "0          State Farm Arena        18729.0       Tony Ressler   \n",
       "1             United Center        21711.0  Michael Reinsdorf   \n",
       "2  American Airlines Center        19200.0         Mark Cuban   \n",
       "3                Ball Arena            NaN       Stan Kroenke   \n",
       "4              Chase Center            NaN          Joe Lacob   \n",
       "\n",
       "       generalmanager       headcoach     dleagueaffiliation  \\\n",
       "0      Travis Schlenk     Quin Snyder  College Park Skyhawks   \n",
       "1  Arturas Karnisovas   Billy Donovan       Windy City Bulls   \n",
       "2       Nico Harrison      Jason Kidd          Texas Legends   \n",
       "3        Calvin Booth  Michael Malone      Grand Rapids Gold   \n",
       "4           Bob Myers      Steve Kerr    Santa Cruz Warriors   \n",
       "\n",
       "                                 facebook                           instagram  \\\n",
       "0          https://www.facebook.com/hawks      https://instagram.com/atlhawks   \n",
       "1   https://www.facebook.com/chicagobulls  https://instagram.com/chicagobulls   \n",
       "2     https://www.facebook.com/dallasmavs    https://instagram.com/dallasmavs   \n",
       "3  https://www.facebook.com/DenverNuggets       https://instagram.com/nuggets   \n",
       "4       https://www.facebook.com/warriors      https://instagram.com/warriors   \n",
       "\n",
       "                            twitter  \n",
       "0      https://twitter.com/ATLHawks  \n",
       "1  https://twitter.com/chicagobulls  \n",
       "2    https://twitter.com/dallasmavs  \n",
       "3       https://twitter.com/nuggets  \n",
       "4      https://twitter.com/warriors  "
      ]
     },
     "execution_count": 49,
     "metadata": {},
     "output_type": "execute_result"
    }
   ],
   "source": [
    "team_details.head()"
   ]
  },
  {
   "cell_type": "markdown",
   "metadata": {},
   "source": [
    "### \n",
    "La \"D-League\" (actualmente conocida como la NBA G League) es la liga de desarrollo de la NBA, creada para dar a los jugadores jóvenes y a los talentos en desarrollo una plataforma para mejorar sus habilidades y tener la oportunidad de ser llamados a la NBA. \n",
    "La \"D-League affiliation\" se refiere a la relación o asociación entre un equipo de la NBA y un equipo de la D-League/G League.\n",
    "\n",
    "Los equipos de la NBA tienen afiliaciones con equipos de la D-League/G League para que los jugadores que no están en el roster principal puedan jugar en la liga de desarrollo y así tener más oportunidades para demostrar su talento y mejorar su juego. La afiliación también permite que los jugadores se reúnan con el equipo de la NBA para prácticas y juegos cuando sea necesario."
   ]
  },
  {
   "cell_type": "markdown",
   "metadata": {},
   "source": [
    "### Tipo de datos del dataframe"
   ]
  },
  {
   "cell_type": "code",
   "execution_count": 50,
   "metadata": {},
   "outputs": [
    {
     "name": "stdout",
     "output_type": "stream",
     "text": [
      "<class 'pandas.core.frame.DataFrame'>\n",
      "RangeIndex: 25 entries, 0 to 24\n",
      "Data columns (total 14 columns):\n",
      " #   Column              Non-Null Count  Dtype  \n",
      "---  ------              --------------  -----  \n",
      " 0   team_id             25 non-null     int64  \n",
      " 1   abbreviation        25 non-null     object \n",
      " 2   nickname            25 non-null     object \n",
      " 3   yearfounded         25 non-null     float64\n",
      " 4   city                25 non-null     object \n",
      " 5   arena               25 non-null     object \n",
      " 6   arenacapacity       16 non-null     float64\n",
      " 7   owner               25 non-null     object \n",
      " 8   generalmanager      25 non-null     object \n",
      " 9   headcoach           24 non-null     object \n",
      " 10  dleagueaffiliation  25 non-null     object \n",
      " 11  facebook            25 non-null     object \n",
      " 12  instagram           25 non-null     object \n",
      " 13  twitter             25 non-null     object \n",
      "dtypes: float64(2), int64(1), object(11)\n",
      "memory usage: 2.9+ KB\n"
     ]
    }
   ],
   "source": [
    "team_details.info()"
   ]
  },
  {
   "cell_type": "markdown",
   "metadata": {},
   "source": [
    "### Transformacion del tipo de dato de la columna yearfounded a INT"
   ]
  },
  {
   "cell_type": "code",
   "execution_count": 51,
   "metadata": {},
   "outputs": [],
   "source": [
    "team_details['yearfounded'] = team_details['yearfounded'].astype(int)"
   ]
  },
  {
   "cell_type": "markdown",
   "metadata": {},
   "source": [
    "### Visualizar valores nulos"
   ]
  },
  {
   "cell_type": "code",
   "execution_count": 52,
   "metadata": {},
   "outputs": [
    {
     "data": {
      "text/plain": [
       "team_id               0\n",
       "abbreviation          0\n",
       "nickname              0\n",
       "yearfounded           0\n",
       "city                  0\n",
       "arena                 0\n",
       "arenacapacity         9\n",
       "owner                 0\n",
       "generalmanager        0\n",
       "headcoach             1\n",
       "dleagueaffiliation    0\n",
       "facebook              0\n",
       "instagram             0\n",
       "twitter               0\n",
       "dtype: int64"
      ]
     },
     "execution_count": 52,
     "metadata": {},
     "output_type": "execute_result"
    }
   ],
   "source": [
    "team_details.isnull().sum()"
   ]
  },
  {
   "cell_type": "markdown",
   "metadata": {},
   "source": [
    "### Tratado de valores nulos"
   ]
  },
  {
   "cell_type": "code",
   "execution_count": 53,
   "metadata": {},
   "outputs": [],
   "source": [
    "team_details['arenacapacity'] = team_details['arenacapacity'].fillna(0)"
   ]
  },
  {
   "cell_type": "markdown",
   "metadata": {},
   "source": [
    "### Transformacion del tipo de dato de la columna arenacapacity a INT"
   ]
  },
  {
   "cell_type": "code",
   "execution_count": 54,
   "metadata": {},
   "outputs": [],
   "source": [
    "team_details['arenacapacity'] = team_details['arenacapacity'].astype(int)"
   ]
  },
  {
   "cell_type": "code",
   "execution_count": 55,
   "metadata": {},
   "outputs": [
    {
     "data": {
      "text/html": [
       "<div>\n",
       "<style scoped>\n",
       "    .dataframe tbody tr th:only-of-type {\n",
       "        vertical-align: middle;\n",
       "    }\n",
       "\n",
       "    .dataframe tbody tr th {\n",
       "        vertical-align: top;\n",
       "    }\n",
       "\n",
       "    .dataframe thead th {\n",
       "        text-align: right;\n",
       "    }\n",
       "</style>\n",
       "<table border=\"1\" class=\"dataframe\">\n",
       "  <thead>\n",
       "    <tr style=\"text-align: right;\">\n",
       "      <th></th>\n",
       "      <th>team_id</th>\n",
       "      <th>abbreviation</th>\n",
       "      <th>nickname</th>\n",
       "      <th>yearfounded</th>\n",
       "      <th>city</th>\n",
       "      <th>arena</th>\n",
       "      <th>arenacapacity</th>\n",
       "      <th>owner</th>\n",
       "      <th>generalmanager</th>\n",
       "      <th>headcoach</th>\n",
       "      <th>dleagueaffiliation</th>\n",
       "      <th>facebook</th>\n",
       "      <th>instagram</th>\n",
       "      <th>twitter</th>\n",
       "    </tr>\n",
       "  </thead>\n",
       "  <tbody>\n",
       "    <tr>\n",
       "      <th>0</th>\n",
       "      <td>1610612737</td>\n",
       "      <td>ATL</td>\n",
       "      <td>Hawks</td>\n",
       "      <td>1949</td>\n",
       "      <td>Atlanta</td>\n",
       "      <td>State Farm Arena</td>\n",
       "      <td>18729</td>\n",
       "      <td>Tony Ressler</td>\n",
       "      <td>Travis Schlenk</td>\n",
       "      <td>Quin Snyder</td>\n",
       "      <td>College Park Skyhawks</td>\n",
       "      <td>https://www.facebook.com/hawks</td>\n",
       "      <td>https://instagram.com/atlhawks</td>\n",
       "      <td>https://twitter.com/ATLHawks</td>\n",
       "    </tr>\n",
       "    <tr>\n",
       "      <th>1</th>\n",
       "      <td>1610612741</td>\n",
       "      <td>CHI</td>\n",
       "      <td>Bulls</td>\n",
       "      <td>1966</td>\n",
       "      <td>Chicago</td>\n",
       "      <td>United Center</td>\n",
       "      <td>21711</td>\n",
       "      <td>Michael Reinsdorf</td>\n",
       "      <td>Arturas Karnisovas</td>\n",
       "      <td>Billy Donovan</td>\n",
       "      <td>Windy City Bulls</td>\n",
       "      <td>https://www.facebook.com/chicagobulls</td>\n",
       "      <td>https://instagram.com/chicagobulls</td>\n",
       "      <td>https://twitter.com/chicagobulls</td>\n",
       "    </tr>\n",
       "    <tr>\n",
       "      <th>2</th>\n",
       "      <td>1610612742</td>\n",
       "      <td>DAL</td>\n",
       "      <td>Mavericks</td>\n",
       "      <td>1980</td>\n",
       "      <td>Dallas</td>\n",
       "      <td>American Airlines Center</td>\n",
       "      <td>19200</td>\n",
       "      <td>Mark Cuban</td>\n",
       "      <td>Nico Harrison</td>\n",
       "      <td>Jason Kidd</td>\n",
       "      <td>Texas Legends</td>\n",
       "      <td>https://www.facebook.com/dallasmavs</td>\n",
       "      <td>https://instagram.com/dallasmavs</td>\n",
       "      <td>https://twitter.com/dallasmavs</td>\n",
       "    </tr>\n",
       "    <tr>\n",
       "      <th>3</th>\n",
       "      <td>1610612743</td>\n",
       "      <td>DEN</td>\n",
       "      <td>Nuggets</td>\n",
       "      <td>1976</td>\n",
       "      <td>Denver</td>\n",
       "      <td>Ball Arena</td>\n",
       "      <td>0</td>\n",
       "      <td>Stan Kroenke</td>\n",
       "      <td>Calvin Booth</td>\n",
       "      <td>Michael Malone</td>\n",
       "      <td>Grand Rapids Gold</td>\n",
       "      <td>https://www.facebook.com/DenverNuggets</td>\n",
       "      <td>https://instagram.com/nuggets</td>\n",
       "      <td>https://twitter.com/nuggets</td>\n",
       "    </tr>\n",
       "    <tr>\n",
       "      <th>4</th>\n",
       "      <td>1610612744</td>\n",
       "      <td>GSW</td>\n",
       "      <td>Warriors</td>\n",
       "      <td>1946</td>\n",
       "      <td>Golden State</td>\n",
       "      <td>Chase Center</td>\n",
       "      <td>0</td>\n",
       "      <td>Joe Lacob</td>\n",
       "      <td>Bob Myers</td>\n",
       "      <td>Steve Kerr</td>\n",
       "      <td>Santa Cruz Warriors</td>\n",
       "      <td>https://www.facebook.com/warriors</td>\n",
       "      <td>https://instagram.com/warriors</td>\n",
       "      <td>https://twitter.com/warriors</td>\n",
       "    </tr>\n",
       "  </tbody>\n",
       "</table>\n",
       "</div>"
      ],
      "text/plain": [
       "      team_id abbreviation   nickname  yearfounded          city  \\\n",
       "0  1610612737          ATL      Hawks         1949       Atlanta   \n",
       "1  1610612741          CHI      Bulls         1966       Chicago   \n",
       "2  1610612742          DAL  Mavericks         1980        Dallas   \n",
       "3  1610612743          DEN    Nuggets         1976        Denver   \n",
       "4  1610612744          GSW   Warriors         1946  Golden State   \n",
       "\n",
       "                      arena  arenacapacity              owner  \\\n",
       "0          State Farm Arena          18729       Tony Ressler   \n",
       "1             United Center          21711  Michael Reinsdorf   \n",
       "2  American Airlines Center          19200         Mark Cuban   \n",
       "3                Ball Arena              0       Stan Kroenke   \n",
       "4              Chase Center              0          Joe Lacob   \n",
       "\n",
       "       generalmanager       headcoach     dleagueaffiliation  \\\n",
       "0      Travis Schlenk     Quin Snyder  College Park Skyhawks   \n",
       "1  Arturas Karnisovas   Billy Donovan       Windy City Bulls   \n",
       "2       Nico Harrison      Jason Kidd          Texas Legends   \n",
       "3        Calvin Booth  Michael Malone      Grand Rapids Gold   \n",
       "4           Bob Myers      Steve Kerr    Santa Cruz Warriors   \n",
       "\n",
       "                                 facebook                           instagram  \\\n",
       "0          https://www.facebook.com/hawks      https://instagram.com/atlhawks   \n",
       "1   https://www.facebook.com/chicagobulls  https://instagram.com/chicagobulls   \n",
       "2     https://www.facebook.com/dallasmavs    https://instagram.com/dallasmavs   \n",
       "3  https://www.facebook.com/DenverNuggets       https://instagram.com/nuggets   \n",
       "4       https://www.facebook.com/warriors      https://instagram.com/warriors   \n",
       "\n",
       "                            twitter  \n",
       "0      https://twitter.com/ATLHawks  \n",
       "1  https://twitter.com/chicagobulls  \n",
       "2    https://twitter.com/dallasmavs  \n",
       "3       https://twitter.com/nuggets  \n",
       "4      https://twitter.com/warriors  "
      ]
     },
     "execution_count": 55,
     "metadata": {},
     "output_type": "execute_result"
    }
   ],
   "source": [
    "team_details.head()"
   ]
  },
  {
   "cell_type": "markdown",
   "metadata": {},
   "source": [
    "### Eliminacion de columnas innecesarias"
   ]
  },
  {
   "cell_type": "code",
   "execution_count": 56,
   "metadata": {},
   "outputs": [],
   "source": [
    "columnas_a_eliminar = ['owner', 'generalmanager', 'dleagueaffiliation', 'facebook', 'instagram', 'twitter']\n",
    "team_details_clear = team_details.drop(columns=columnas_a_eliminar)"
   ]
  },
  {
   "cell_type": "code",
   "execution_count": 57,
   "metadata": {},
   "outputs": [
    {
     "data": {
      "text/html": [
       "<div>\n",
       "<style scoped>\n",
       "    .dataframe tbody tr th:only-of-type {\n",
       "        vertical-align: middle;\n",
       "    }\n",
       "\n",
       "    .dataframe tbody tr th {\n",
       "        vertical-align: top;\n",
       "    }\n",
       "\n",
       "    .dataframe thead th {\n",
       "        text-align: right;\n",
       "    }\n",
       "</style>\n",
       "<table border=\"1\" class=\"dataframe\">\n",
       "  <thead>\n",
       "    <tr style=\"text-align: right;\">\n",
       "      <th></th>\n",
       "      <th>team_id</th>\n",
       "      <th>abbreviation</th>\n",
       "      <th>nickname</th>\n",
       "      <th>yearfounded</th>\n",
       "      <th>city</th>\n",
       "      <th>arena</th>\n",
       "      <th>arenacapacity</th>\n",
       "      <th>headcoach</th>\n",
       "    </tr>\n",
       "  </thead>\n",
       "  <tbody>\n",
       "    <tr>\n",
       "      <th>0</th>\n",
       "      <td>1610612737</td>\n",
       "      <td>ATL</td>\n",
       "      <td>Hawks</td>\n",
       "      <td>1949</td>\n",
       "      <td>Atlanta</td>\n",
       "      <td>State Farm Arena</td>\n",
       "      <td>18729</td>\n",
       "      <td>Quin Snyder</td>\n",
       "    </tr>\n",
       "    <tr>\n",
       "      <th>1</th>\n",
       "      <td>1610612741</td>\n",
       "      <td>CHI</td>\n",
       "      <td>Bulls</td>\n",
       "      <td>1966</td>\n",
       "      <td>Chicago</td>\n",
       "      <td>United Center</td>\n",
       "      <td>21711</td>\n",
       "      <td>Billy Donovan</td>\n",
       "    </tr>\n",
       "    <tr>\n",
       "      <th>2</th>\n",
       "      <td>1610612742</td>\n",
       "      <td>DAL</td>\n",
       "      <td>Mavericks</td>\n",
       "      <td>1980</td>\n",
       "      <td>Dallas</td>\n",
       "      <td>American Airlines Center</td>\n",
       "      <td>19200</td>\n",
       "      <td>Jason Kidd</td>\n",
       "    </tr>\n",
       "    <tr>\n",
       "      <th>3</th>\n",
       "      <td>1610612743</td>\n",
       "      <td>DEN</td>\n",
       "      <td>Nuggets</td>\n",
       "      <td>1976</td>\n",
       "      <td>Denver</td>\n",
       "      <td>Ball Arena</td>\n",
       "      <td>0</td>\n",
       "      <td>Michael Malone</td>\n",
       "    </tr>\n",
       "    <tr>\n",
       "      <th>4</th>\n",
       "      <td>1610612744</td>\n",
       "      <td>GSW</td>\n",
       "      <td>Warriors</td>\n",
       "      <td>1946</td>\n",
       "      <td>Golden State</td>\n",
       "      <td>Chase Center</td>\n",
       "      <td>0</td>\n",
       "      <td>Steve Kerr</td>\n",
       "    </tr>\n",
       "  </tbody>\n",
       "</table>\n",
       "</div>"
      ],
      "text/plain": [
       "      team_id abbreviation   nickname  yearfounded          city  \\\n",
       "0  1610612737          ATL      Hawks         1949       Atlanta   \n",
       "1  1610612741          CHI      Bulls         1966       Chicago   \n",
       "2  1610612742          DAL  Mavericks         1980        Dallas   \n",
       "3  1610612743          DEN    Nuggets         1976        Denver   \n",
       "4  1610612744          GSW   Warriors         1946  Golden State   \n",
       "\n",
       "                      arena  arenacapacity       headcoach  \n",
       "0          State Farm Arena          18729     Quin Snyder  \n",
       "1             United Center          21711   Billy Donovan  \n",
       "2  American Airlines Center          19200      Jason Kidd  \n",
       "3                Ball Arena              0  Michael Malone  \n",
       "4              Chase Center              0      Steve Kerr  "
      ]
     },
     "execution_count": 57,
     "metadata": {},
     "output_type": "execute_result"
    }
   ],
   "source": [
    "team_details_clear.head()"
   ]
  },
  {
   "cell_type": "markdown",
   "metadata": {},
   "source": [
    "### Verificar el total de equipos (30 equipos tiene la NBA):"
   ]
  },
  {
   "cell_type": "code",
   "execution_count": 58,
   "metadata": {},
   "outputs": [
    {
     "name": "stdout",
     "output_type": "stream",
     "text": [
      "['Hawks' 'Bulls' 'Mavericks' 'Nuggets' 'Warriors' 'Rockets' 'Clippers'\n",
      " 'Lakers' 'Heat' 'Bucks' 'Timberwolves' 'Nets' 'Pacers' '76ers' 'Suns'\n",
      " 'Trail Blazers' 'Kings' 'Spurs' 'Thunder' 'Raptors' 'Jazz' 'Grizzlies'\n",
      " 'Wizards' 'Pistons' 'Hornets']\n"
     ]
    }
   ],
   "source": [
    "nickname_team = team_details_clear['nickname'].unique()\n",
    "print(nickname_team)"
   ]
  },
  {
   "cell_type": "markdown",
   "metadata": {},
   "source": [
    "### Hay 25 equipos, faltan 5 mas uno extra que sera TOT, para cuando algún jugador tenga más de un equipo en la temporada."
   ]
  },
  {
   "cell_type": "markdown",
   "metadata": {},
   "source": [
    "### Carga de equipos faltantes"
   ]
  },
  {
   "cell_type": "code",
   "execution_count": 59,
   "metadata": {},
   "outputs": [],
   "source": [
    "# Datos extraidos de la pagina oficial de la NBA.\n",
    "equipos_faltantes = {\n",
    "    'team_id': [1610612738, 1610612739, 1610612740, 1610612752, 1610612753, 1610612754],\n",
    "    'abbreviation': ['BOS', 'CLE', 'NOP', 'NYK', 'ORL', 'TOT'],\n",
    "    'nickname': ['Celtics', 'Cavaliers', 'Pelicans', 'Knicks', 'Magic', 'Total Team'],\n",
    "    'yearfounded': [1946, 1970, 2002, 1946, 1989, 0000],\n",
    "    'city': ['Boston', 'Cleveland', 'New Orleans', 'New York', 'Orlando', 'Total Team'],\n",
    "    'arena': ['TD Garden', 'Rocket Mortgage FieldHouse', 'Smoothie King Center', 'Madison Square Garden', 'Amway Center', 'Total Team'],\n",
    "    'arenacapacity': [19080, 19431, 16500, 19690, 18000, 0000],\n",
    "    'headcoach': ['Joe Mazzulla', 'Kenny Atkinson', 'Willie Green', 'Tom Thibodeau', 'Jamahl Mosley', 'Total Team']\n",
    "}\n",
    "\n",
    "# Crear un DataFrame con los equipos faltantes\n",
    "df_faltantes = pd.DataFrame(equipos_faltantes)\n",
    "\n",
    "# Agregar los equipos faltantes al DataFrame original\n",
    "team_details_clear = pd.concat([team_details_clear, df_faltantes], ignore_index=True)"
   ]
  },
  {
   "cell_type": "code",
   "execution_count": 60,
   "metadata": {},
   "outputs": [
    {
     "data": {
      "text/html": [
       "<div>\n",
       "<style scoped>\n",
       "    .dataframe tbody tr th:only-of-type {\n",
       "        vertical-align: middle;\n",
       "    }\n",
       "\n",
       "    .dataframe tbody tr th {\n",
       "        vertical-align: top;\n",
       "    }\n",
       "\n",
       "    .dataframe thead th {\n",
       "        text-align: right;\n",
       "    }\n",
       "</style>\n",
       "<table border=\"1\" class=\"dataframe\">\n",
       "  <thead>\n",
       "    <tr style=\"text-align: right;\">\n",
       "      <th></th>\n",
       "      <th>team_id</th>\n",
       "      <th>abbreviation</th>\n",
       "      <th>nickname</th>\n",
       "      <th>yearfounded</th>\n",
       "      <th>city</th>\n",
       "      <th>arena</th>\n",
       "      <th>arenacapacity</th>\n",
       "      <th>headcoach</th>\n",
       "    </tr>\n",
       "  </thead>\n",
       "  <tbody>\n",
       "    <tr>\n",
       "      <th>0</th>\n",
       "      <td>1610612737</td>\n",
       "      <td>ATL</td>\n",
       "      <td>Hawks</td>\n",
       "      <td>1949</td>\n",
       "      <td>Atlanta</td>\n",
       "      <td>State Farm Arena</td>\n",
       "      <td>18729</td>\n",
       "      <td>Quin Snyder</td>\n",
       "    </tr>\n",
       "    <tr>\n",
       "      <th>1</th>\n",
       "      <td>1610612741</td>\n",
       "      <td>CHI</td>\n",
       "      <td>Bulls</td>\n",
       "      <td>1966</td>\n",
       "      <td>Chicago</td>\n",
       "      <td>United Center</td>\n",
       "      <td>21711</td>\n",
       "      <td>Billy Donovan</td>\n",
       "    </tr>\n",
       "    <tr>\n",
       "      <th>2</th>\n",
       "      <td>1610612742</td>\n",
       "      <td>DAL</td>\n",
       "      <td>Mavericks</td>\n",
       "      <td>1980</td>\n",
       "      <td>Dallas</td>\n",
       "      <td>American Airlines Center</td>\n",
       "      <td>19200</td>\n",
       "      <td>Jason Kidd</td>\n",
       "    </tr>\n",
       "    <tr>\n",
       "      <th>3</th>\n",
       "      <td>1610612743</td>\n",
       "      <td>DEN</td>\n",
       "      <td>Nuggets</td>\n",
       "      <td>1976</td>\n",
       "      <td>Denver</td>\n",
       "      <td>Ball Arena</td>\n",
       "      <td>0</td>\n",
       "      <td>Michael Malone</td>\n",
       "    </tr>\n",
       "    <tr>\n",
       "      <th>4</th>\n",
       "      <td>1610612744</td>\n",
       "      <td>GSW</td>\n",
       "      <td>Warriors</td>\n",
       "      <td>1946</td>\n",
       "      <td>Golden State</td>\n",
       "      <td>Chase Center</td>\n",
       "      <td>0</td>\n",
       "      <td>Steve Kerr</td>\n",
       "    </tr>\n",
       "  </tbody>\n",
       "</table>\n",
       "</div>"
      ],
      "text/plain": [
       "      team_id abbreviation   nickname  yearfounded          city  \\\n",
       "0  1610612737          ATL      Hawks         1949       Atlanta   \n",
       "1  1610612741          CHI      Bulls         1966       Chicago   \n",
       "2  1610612742          DAL  Mavericks         1980        Dallas   \n",
       "3  1610612743          DEN    Nuggets         1976        Denver   \n",
       "4  1610612744          GSW   Warriors         1946  Golden State   \n",
       "\n",
       "                      arena  arenacapacity       headcoach  \n",
       "0          State Farm Arena          18729     Quin Snyder  \n",
       "1             United Center          21711   Billy Donovan  \n",
       "2  American Airlines Center          19200      Jason Kidd  \n",
       "3                Ball Arena              0  Michael Malone  \n",
       "4              Chase Center              0      Steve Kerr  "
      ]
     },
     "execution_count": 60,
     "metadata": {},
     "output_type": "execute_result"
    }
   ],
   "source": [
    "team_details_clear.head()"
   ]
  },
  {
   "cell_type": "markdown",
   "metadata": {},
   "source": [
    "### Aun hay equipos que faltan los datos de la arenacapacity"
   ]
  },
  {
   "cell_type": "markdown",
   "metadata": {},
   "source": [
    "Se procede a cargar los datos faltantes"
   ]
  },
  {
   "cell_type": "code",
   "execution_count": 61,
   "metadata": {},
   "outputs": [
    {
     "data": {
      "text/html": [
       "<div>\n",
       "<style scoped>\n",
       "    .dataframe tbody tr th:only-of-type {\n",
       "        vertical-align: middle;\n",
       "    }\n",
       "\n",
       "    .dataframe tbody tr th {\n",
       "        vertical-align: top;\n",
       "    }\n",
       "\n",
       "    .dataframe thead th {\n",
       "        text-align: right;\n",
       "    }\n",
       "</style>\n",
       "<table border=\"1\" class=\"dataframe\">\n",
       "  <thead>\n",
       "    <tr style=\"text-align: right;\">\n",
       "      <th></th>\n",
       "      <th>team_id</th>\n",
       "      <th>abbreviation</th>\n",
       "      <th>nickname</th>\n",
       "      <th>yearfounded</th>\n",
       "      <th>city</th>\n",
       "      <th>arena</th>\n",
       "      <th>arenacapacity</th>\n",
       "      <th>headcoach</th>\n",
       "    </tr>\n",
       "  </thead>\n",
       "  <tbody>\n",
       "    <tr>\n",
       "      <th>0</th>\n",
       "      <td>1610612737</td>\n",
       "      <td>ATL</td>\n",
       "      <td>Hawks</td>\n",
       "      <td>1949</td>\n",
       "      <td>Atlanta</td>\n",
       "      <td>State Farm Arena</td>\n",
       "      <td>18729</td>\n",
       "      <td>Quin Snyder</td>\n",
       "    </tr>\n",
       "    <tr>\n",
       "      <th>1</th>\n",
       "      <td>1610612741</td>\n",
       "      <td>CHI</td>\n",
       "      <td>Bulls</td>\n",
       "      <td>1966</td>\n",
       "      <td>Chicago</td>\n",
       "      <td>United Center</td>\n",
       "      <td>21711</td>\n",
       "      <td>Billy Donovan</td>\n",
       "    </tr>\n",
       "    <tr>\n",
       "      <th>2</th>\n",
       "      <td>1610612742</td>\n",
       "      <td>DAL</td>\n",
       "      <td>Mavericks</td>\n",
       "      <td>1980</td>\n",
       "      <td>Dallas</td>\n",
       "      <td>American Airlines Center</td>\n",
       "      <td>19200</td>\n",
       "      <td>Jason Kidd</td>\n",
       "    </tr>\n",
       "    <tr>\n",
       "      <th>3</th>\n",
       "      <td>1610612743</td>\n",
       "      <td>DEN</td>\n",
       "      <td>Nuggets</td>\n",
       "      <td>1976</td>\n",
       "      <td>Denver</td>\n",
       "      <td>Ball Arena</td>\n",
       "      <td>19000</td>\n",
       "      <td>Michael Malone</td>\n",
       "    </tr>\n",
       "    <tr>\n",
       "      <th>4</th>\n",
       "      <td>1610612744</td>\n",
       "      <td>GSW</td>\n",
       "      <td>Warriors</td>\n",
       "      <td>1946</td>\n",
       "      <td>Golden State</td>\n",
       "      <td>Chase Center</td>\n",
       "      <td>18064</td>\n",
       "      <td>Steve Kerr</td>\n",
       "    </tr>\n",
       "  </tbody>\n",
       "</table>\n",
       "</div>"
      ],
      "text/plain": [
       "      team_id abbreviation   nickname  yearfounded          city  \\\n",
       "0  1610612737          ATL      Hawks         1949       Atlanta   \n",
       "1  1610612741          CHI      Bulls         1966       Chicago   \n",
       "2  1610612742          DAL  Mavericks         1980        Dallas   \n",
       "3  1610612743          DEN    Nuggets         1976        Denver   \n",
       "4  1610612744          GSW   Warriors         1946  Golden State   \n",
       "\n",
       "                      arena  arenacapacity       headcoach  \n",
       "0          State Farm Arena          18729     Quin Snyder  \n",
       "1             United Center          21711   Billy Donovan  \n",
       "2  American Airlines Center          19200      Jason Kidd  \n",
       "3                Ball Arena          19000  Michael Malone  \n",
       "4              Chase Center          18064      Steve Kerr  "
      ]
     },
     "execution_count": 61,
     "metadata": {},
     "output_type": "execute_result"
    }
   ],
   "source": [
    "# Actualizar la capacidad de arena para equipos específicos\n",
    "actualizar_capacidades = {\n",
    "    'Nuggets': 19000,\n",
    "    'Warriors': 18064,\n",
    "    'Timberwolves': 19061,\n",
    "    'Nets': 17732, \n",
    "    '76ers': 20341,\n",
    "    'Suns': 17071,\n",
    "    'Thunder': 18203,\n",
    "    'Raptors': 19800,\n",
    "    'Jazz': 18306,\n",
    "    'Pistons': 20332\n",
    "}\n",
    "\n",
    "# Iterar sobre los equipos y actualizar la capacidad de arena\n",
    "for equipo, capacidad in actualizar_capacidades.items():\n",
    "    team_details_clear.loc[team_details_clear['nickname'] == equipo, 'arenacapacity'] = capacidad\n",
    "\n",
    "# Mostrar el DataFrame actualizado\n",
    "team_details_clear.head()"
   ]
  },
  {
   "cell_type": "markdown",
   "metadata": {},
   "source": [
    "### Ver valores nulos"
   ]
  },
  {
   "cell_type": "code",
   "execution_count": 62,
   "metadata": {},
   "outputs": [
    {
     "data": {
      "text/plain": [
       "team_id          0\n",
       "abbreviation     0\n",
       "nickname         0\n",
       "yearfounded      0\n",
       "city             0\n",
       "arena            0\n",
       "arenacapacity    0\n",
       "headcoach        1\n",
       "dtype: int64"
      ]
     },
     "execution_count": 62,
     "metadata": {},
     "output_type": "execute_result"
    }
   ],
   "source": [
    "team_details_clear.isnull().sum()"
   ]
  },
  {
   "cell_type": "markdown",
   "metadata": {},
   "source": [
    "### Completar dato faltante en headcoach"
   ]
  },
  {
   "cell_type": "code",
   "execution_count": 63,
   "metadata": {},
   "outputs": [],
   "source": [
    "team_details_clear.loc[team_details_clear['nickname'] == 'Raptors', 'headcoach'] = 'Darko Rajakovic'"
   ]
  },
  {
   "cell_type": "markdown",
   "metadata": {},
   "source": [
    "### Rename de team_id a id de team_details_clear para realizar el merge con team"
   ]
  },
  {
   "cell_type": "code",
   "execution_count": 64,
   "metadata": {},
   "outputs": [],
   "source": [
    "team_details_clear.rename(columns={'team_id': 'id'}, inplace=True)"
   ]
  },
  {
   "cell_type": "code",
   "execution_count": 65,
   "metadata": {},
   "outputs": [
    {
     "data": {
      "text/html": [
       "<div>\n",
       "<style scoped>\n",
       "    .dataframe tbody tr th:only-of-type {\n",
       "        vertical-align: middle;\n",
       "    }\n",
       "\n",
       "    .dataframe tbody tr th {\n",
       "        vertical-align: top;\n",
       "    }\n",
       "\n",
       "    .dataframe thead th {\n",
       "        text-align: right;\n",
       "    }\n",
       "</style>\n",
       "<table border=\"1\" class=\"dataframe\">\n",
       "  <thead>\n",
       "    <tr style=\"text-align: right;\">\n",
       "      <th></th>\n",
       "      <th>id</th>\n",
       "      <th>abbreviation</th>\n",
       "      <th>nickname</th>\n",
       "      <th>yearfounded</th>\n",
       "      <th>city</th>\n",
       "      <th>arena</th>\n",
       "      <th>arenacapacity</th>\n",
       "      <th>headcoach</th>\n",
       "    </tr>\n",
       "  </thead>\n",
       "  <tbody>\n",
       "    <tr>\n",
       "      <th>0</th>\n",
       "      <td>1610612737</td>\n",
       "      <td>ATL</td>\n",
       "      <td>Hawks</td>\n",
       "      <td>1949</td>\n",
       "      <td>Atlanta</td>\n",
       "      <td>State Farm Arena</td>\n",
       "      <td>18729</td>\n",
       "      <td>Quin Snyder</td>\n",
       "    </tr>\n",
       "    <tr>\n",
       "      <th>1</th>\n",
       "      <td>1610612741</td>\n",
       "      <td>CHI</td>\n",
       "      <td>Bulls</td>\n",
       "      <td>1966</td>\n",
       "      <td>Chicago</td>\n",
       "      <td>United Center</td>\n",
       "      <td>21711</td>\n",
       "      <td>Billy Donovan</td>\n",
       "    </tr>\n",
       "    <tr>\n",
       "      <th>2</th>\n",
       "      <td>1610612742</td>\n",
       "      <td>DAL</td>\n",
       "      <td>Mavericks</td>\n",
       "      <td>1980</td>\n",
       "      <td>Dallas</td>\n",
       "      <td>American Airlines Center</td>\n",
       "      <td>19200</td>\n",
       "      <td>Jason Kidd</td>\n",
       "    </tr>\n",
       "    <tr>\n",
       "      <th>3</th>\n",
       "      <td>1610612743</td>\n",
       "      <td>DEN</td>\n",
       "      <td>Nuggets</td>\n",
       "      <td>1976</td>\n",
       "      <td>Denver</td>\n",
       "      <td>Ball Arena</td>\n",
       "      <td>19000</td>\n",
       "      <td>Michael Malone</td>\n",
       "    </tr>\n",
       "    <tr>\n",
       "      <th>4</th>\n",
       "      <td>1610612744</td>\n",
       "      <td>GSW</td>\n",
       "      <td>Warriors</td>\n",
       "      <td>1946</td>\n",
       "      <td>Golden State</td>\n",
       "      <td>Chase Center</td>\n",
       "      <td>18064</td>\n",
       "      <td>Steve Kerr</td>\n",
       "    </tr>\n",
       "  </tbody>\n",
       "</table>\n",
       "</div>"
      ],
      "text/plain": [
       "           id abbreviation   nickname  yearfounded          city  \\\n",
       "0  1610612737          ATL      Hawks         1949       Atlanta   \n",
       "1  1610612741          CHI      Bulls         1966       Chicago   \n",
       "2  1610612742          DAL  Mavericks         1980        Dallas   \n",
       "3  1610612743          DEN    Nuggets         1976        Denver   \n",
       "4  1610612744          GSW   Warriors         1946  Golden State   \n",
       "\n",
       "                      arena  arenacapacity       headcoach  \n",
       "0          State Farm Arena          18729     Quin Snyder  \n",
       "1             United Center          21711   Billy Donovan  \n",
       "2  American Airlines Center          19200      Jason Kidd  \n",
       "3                Ball Arena          19000  Michael Malone  \n",
       "4              Chase Center          18064      Steve Kerr  "
      ]
     },
     "execution_count": 65,
     "metadata": {},
     "output_type": "execute_result"
    }
   ],
   "source": [
    "team_details_clear.head()"
   ]
  },
  {
   "cell_type": "markdown",
   "metadata": {},
   "source": [
    "### Merge entre team y team_details"
   ]
  },
  {
   "cell_type": "code",
   "execution_count": 66,
   "metadata": {},
   "outputs": [],
   "source": [
    "team_details_clear_columnas_merge = team_details_clear[['id', 'arena', 'arenacapacity', 'headcoach']]"
   ]
  },
  {
   "cell_type": "code",
   "execution_count": 67,
   "metadata": {},
   "outputs": [],
   "source": [
    "team_completo = pd.merge(team, team_details_clear_columnas_merge, on='id', how='left')"
   ]
  },
  {
   "cell_type": "code",
   "execution_count": 68,
   "metadata": {},
   "outputs": [],
   "source": [
    "team_completo = team_completo.rename(columns={'id': 'team_id'})\n",
    "team_completo = team_completo.rename(columns={'abbreviation': 'team_abbreviation'})"
   ]
  },
  {
   "cell_type": "code",
   "execution_count": 69,
   "metadata": {},
   "outputs": [
    {
     "data": {
      "text/html": [
       "<div>\n",
       "<style scoped>\n",
       "    .dataframe tbody tr th:only-of-type {\n",
       "        vertical-align: middle;\n",
       "    }\n",
       "\n",
       "    .dataframe tbody tr th {\n",
       "        vertical-align: top;\n",
       "    }\n",
       "\n",
       "    .dataframe thead th {\n",
       "        text-align: right;\n",
       "    }\n",
       "</style>\n",
       "<table border=\"1\" class=\"dataframe\">\n",
       "  <thead>\n",
       "    <tr style=\"text-align: right;\">\n",
       "      <th></th>\n",
       "      <th>team_id</th>\n",
       "      <th>full_name</th>\n",
       "      <th>team_abbreviation</th>\n",
       "      <th>nickname</th>\n",
       "      <th>city</th>\n",
       "      <th>state</th>\n",
       "      <th>year_founded</th>\n",
       "      <th>arena</th>\n",
       "      <th>arenacapacity</th>\n",
       "      <th>headcoach</th>\n",
       "    </tr>\n",
       "  </thead>\n",
       "  <tbody>\n",
       "    <tr>\n",
       "      <th>0</th>\n",
       "      <td>1610612737</td>\n",
       "      <td>Atlanta Hawks</td>\n",
       "      <td>ATL</td>\n",
       "      <td>Hawks</td>\n",
       "      <td>Atlanta</td>\n",
       "      <td>Atlanta</td>\n",
       "      <td>1949</td>\n",
       "      <td>State Farm Arena</td>\n",
       "      <td>18729</td>\n",
       "      <td>Quin Snyder</td>\n",
       "    </tr>\n",
       "    <tr>\n",
       "      <th>1</th>\n",
       "      <td>1610612738</td>\n",
       "      <td>Boston Celtics</td>\n",
       "      <td>BOS</td>\n",
       "      <td>Celtics</td>\n",
       "      <td>Boston</td>\n",
       "      <td>Massachusetts</td>\n",
       "      <td>1946</td>\n",
       "      <td>TD Garden</td>\n",
       "      <td>19080</td>\n",
       "      <td>Joe Mazzulla</td>\n",
       "    </tr>\n",
       "    <tr>\n",
       "      <th>2</th>\n",
       "      <td>1610612739</td>\n",
       "      <td>Cleveland Cavaliers</td>\n",
       "      <td>CLE</td>\n",
       "      <td>Cavaliers</td>\n",
       "      <td>Cleveland</td>\n",
       "      <td>Ohio</td>\n",
       "      <td>1970</td>\n",
       "      <td>Rocket Mortgage FieldHouse</td>\n",
       "      <td>19431</td>\n",
       "      <td>Kenny Atkinson</td>\n",
       "    </tr>\n",
       "    <tr>\n",
       "      <th>3</th>\n",
       "      <td>1610612740</td>\n",
       "      <td>New Orleans Pelicans</td>\n",
       "      <td>NOP</td>\n",
       "      <td>Pelicans</td>\n",
       "      <td>New Orleans</td>\n",
       "      <td>Louisiana</td>\n",
       "      <td>2002</td>\n",
       "      <td>Smoothie King Center</td>\n",
       "      <td>16500</td>\n",
       "      <td>Willie Green</td>\n",
       "    </tr>\n",
       "    <tr>\n",
       "      <th>4</th>\n",
       "      <td>1610612741</td>\n",
       "      <td>Chicago Bulls</td>\n",
       "      <td>CHI</td>\n",
       "      <td>Bulls</td>\n",
       "      <td>Chicago</td>\n",
       "      <td>Illinois</td>\n",
       "      <td>1966</td>\n",
       "      <td>United Center</td>\n",
       "      <td>21711</td>\n",
       "      <td>Billy Donovan</td>\n",
       "    </tr>\n",
       "  </tbody>\n",
       "</table>\n",
       "</div>"
      ],
      "text/plain": [
       "      team_id             full_name team_abbreviation   nickname         city  \\\n",
       "0  1610612737         Atlanta Hawks               ATL      Hawks      Atlanta   \n",
       "1  1610612738        Boston Celtics               BOS    Celtics       Boston   \n",
       "2  1610612739   Cleveland Cavaliers               CLE  Cavaliers    Cleveland   \n",
       "3  1610612740  New Orleans Pelicans               NOP   Pelicans  New Orleans   \n",
       "4  1610612741         Chicago Bulls               CHI      Bulls      Chicago   \n",
       "\n",
       "           state  year_founded                       arena  arenacapacity  \\\n",
       "0        Atlanta          1949            State Farm Arena          18729   \n",
       "1  Massachusetts          1946                   TD Garden          19080   \n",
       "2           Ohio          1970  Rocket Mortgage FieldHouse          19431   \n",
       "3      Louisiana          2002        Smoothie King Center          16500   \n",
       "4       Illinois          1966               United Center          21711   \n",
       "\n",
       "        headcoach  \n",
       "0     Quin Snyder  \n",
       "1    Joe Mazzulla  \n",
       "2  Kenny Atkinson  \n",
       "3    Willie Green  \n",
       "4   Billy Donovan  "
      ]
     },
     "execution_count": 69,
     "metadata": {},
     "output_type": "execute_result"
    }
   ],
   "source": [
    "team_completo.head()"
   ]
  },
  {
   "cell_type": "code",
   "execution_count": 70,
   "metadata": {},
   "outputs": [
    {
     "data": {
      "text/plain": [
       "(31, 10)"
      ]
     },
     "execution_count": 70,
     "metadata": {},
     "output_type": "execute_result"
    }
   ],
   "source": [
    "np.shape(team_completo)"
   ]
  },
  {
   "cell_type": "code",
   "execution_count": 71,
   "metadata": {},
   "outputs": [
    {
     "data": {
      "text/html": [
       "<div>\n",
       "<style scoped>\n",
       "    .dataframe tbody tr th:only-of-type {\n",
       "        vertical-align: middle;\n",
       "    }\n",
       "\n",
       "    .dataframe tbody tr th {\n",
       "        vertical-align: top;\n",
       "    }\n",
       "\n",
       "    .dataframe thead th {\n",
       "        text-align: right;\n",
       "    }\n",
       "</style>\n",
       "<table border=\"1\" class=\"dataframe\">\n",
       "  <thead>\n",
       "    <tr style=\"text-align: right;\">\n",
       "      <th></th>\n",
       "      <th>team_id</th>\n",
       "      <th>full_name</th>\n",
       "      <th>team_abbreviation</th>\n",
       "      <th>nickname</th>\n",
       "      <th>city</th>\n",
       "      <th>state</th>\n",
       "      <th>year_founded</th>\n",
       "      <th>arena</th>\n",
       "      <th>arenacapacity</th>\n",
       "      <th>headcoach</th>\n",
       "    </tr>\n",
       "  </thead>\n",
       "  <tbody>\n",
       "    <tr>\n",
       "      <th>18</th>\n",
       "      <td>1610612754</td>\n",
       "      <td>Indiana Pacers</td>\n",
       "      <td>IND</td>\n",
       "      <td>Pacers</td>\n",
       "      <td>Indiana</td>\n",
       "      <td>Indiana</td>\n",
       "      <td>1976</td>\n",
       "      <td>Total Team</td>\n",
       "      <td>0</td>\n",
       "      <td>Total Team</td>\n",
       "    </tr>\n",
       "  </tbody>\n",
       "</table>\n",
       "</div>"
      ],
      "text/plain": [
       "       team_id       full_name team_abbreviation nickname     city    state  \\\n",
       "18  1610612754  Indiana Pacers               IND   Pacers  Indiana  Indiana   \n",
       "\n",
       "    year_founded       arena  arenacapacity   headcoach  \n",
       "18          1976  Total Team              0  Total Team  "
      ]
     },
     "execution_count": 71,
     "metadata": {},
     "output_type": "execute_result"
    }
   ],
   "source": [
    "# Encuentra y muestra las filas duplicadas basadas en la columna 'team_id'\n",
    "duplicados_team_id = team_completo[team_completo.duplicated(subset=['team_id'])]\n",
    "duplicados_team_id"
   ]
  },
  {
   "cell_type": "code",
   "execution_count": 72,
   "metadata": {},
   "outputs": [],
   "source": [
    "# Elimina las filas duplicadas basadas en la columna 'team_id' en el mismo dataframe\n",
    "team_completo.drop_duplicates(subset=['team_id'], inplace=True)"
   ]
  },
  {
   "cell_type": "code",
   "execution_count": 73,
   "metadata": {},
   "outputs": [
    {
     "name": "stdout",
     "output_type": "stream",
     "text": [
      "Dataframe sin duplicados:\n"
     ]
    },
    {
     "data": {
      "text/html": [
       "<div>\n",
       "<style scoped>\n",
       "    .dataframe tbody tr th:only-of-type {\n",
       "        vertical-align: middle;\n",
       "    }\n",
       "\n",
       "    .dataframe tbody tr th {\n",
       "        vertical-align: top;\n",
       "    }\n",
       "\n",
       "    .dataframe thead th {\n",
       "        text-align: right;\n",
       "    }\n",
       "</style>\n",
       "<table border=\"1\" class=\"dataframe\">\n",
       "  <thead>\n",
       "    <tr style=\"text-align: right;\">\n",
       "      <th></th>\n",
       "      <th>team_id</th>\n",
       "      <th>full_name</th>\n",
       "      <th>team_abbreviation</th>\n",
       "      <th>nickname</th>\n",
       "      <th>city</th>\n",
       "      <th>state</th>\n",
       "      <th>year_founded</th>\n",
       "      <th>arena</th>\n",
       "      <th>arenacapacity</th>\n",
       "      <th>headcoach</th>\n",
       "    </tr>\n",
       "  </thead>\n",
       "  <tbody>\n",
       "    <tr>\n",
       "      <th>0</th>\n",
       "      <td>1610612737</td>\n",
       "      <td>Atlanta Hawks</td>\n",
       "      <td>ATL</td>\n",
       "      <td>Hawks</td>\n",
       "      <td>Atlanta</td>\n",
       "      <td>Atlanta</td>\n",
       "      <td>1949</td>\n",
       "      <td>State Farm Arena</td>\n",
       "      <td>18729</td>\n",
       "      <td>Quin Snyder</td>\n",
       "    </tr>\n",
       "    <tr>\n",
       "      <th>1</th>\n",
       "      <td>1610612738</td>\n",
       "      <td>Boston Celtics</td>\n",
       "      <td>BOS</td>\n",
       "      <td>Celtics</td>\n",
       "      <td>Boston</td>\n",
       "      <td>Massachusetts</td>\n",
       "      <td>1946</td>\n",
       "      <td>TD Garden</td>\n",
       "      <td>19080</td>\n",
       "      <td>Joe Mazzulla</td>\n",
       "    </tr>\n",
       "    <tr>\n",
       "      <th>2</th>\n",
       "      <td>1610612739</td>\n",
       "      <td>Cleveland Cavaliers</td>\n",
       "      <td>CLE</td>\n",
       "      <td>Cavaliers</td>\n",
       "      <td>Cleveland</td>\n",
       "      <td>Ohio</td>\n",
       "      <td>1970</td>\n",
       "      <td>Rocket Mortgage FieldHouse</td>\n",
       "      <td>19431</td>\n",
       "      <td>Kenny Atkinson</td>\n",
       "    </tr>\n",
       "    <tr>\n",
       "      <th>3</th>\n",
       "      <td>1610612740</td>\n",
       "      <td>New Orleans Pelicans</td>\n",
       "      <td>NOP</td>\n",
       "      <td>Pelicans</td>\n",
       "      <td>New Orleans</td>\n",
       "      <td>Louisiana</td>\n",
       "      <td>2002</td>\n",
       "      <td>Smoothie King Center</td>\n",
       "      <td>16500</td>\n",
       "      <td>Willie Green</td>\n",
       "    </tr>\n",
       "    <tr>\n",
       "      <th>4</th>\n",
       "      <td>1610612741</td>\n",
       "      <td>Chicago Bulls</td>\n",
       "      <td>CHI</td>\n",
       "      <td>Bulls</td>\n",
       "      <td>Chicago</td>\n",
       "      <td>Illinois</td>\n",
       "      <td>1966</td>\n",
       "      <td>United Center</td>\n",
       "      <td>21711</td>\n",
       "      <td>Billy Donovan</td>\n",
       "    </tr>\n",
       "  </tbody>\n",
       "</table>\n",
       "</div>"
      ],
      "text/plain": [
       "      team_id             full_name team_abbreviation   nickname         city  \\\n",
       "0  1610612737         Atlanta Hawks               ATL      Hawks      Atlanta   \n",
       "1  1610612738        Boston Celtics               BOS    Celtics       Boston   \n",
       "2  1610612739   Cleveland Cavaliers               CLE  Cavaliers    Cleveland   \n",
       "3  1610612740  New Orleans Pelicans               NOP   Pelicans  New Orleans   \n",
       "4  1610612741         Chicago Bulls               CHI      Bulls      Chicago   \n",
       "\n",
       "           state  year_founded                       arena  arenacapacity  \\\n",
       "0        Atlanta          1949            State Farm Arena          18729   \n",
       "1  Massachusetts          1946                   TD Garden          19080   \n",
       "2           Ohio          1970  Rocket Mortgage FieldHouse          19431   \n",
       "3      Louisiana          2002        Smoothie King Center          16500   \n",
       "4       Illinois          1966               United Center          21711   \n",
       "\n",
       "        headcoach  \n",
       "0     Quin Snyder  \n",
       "1    Joe Mazzulla  \n",
       "2  Kenny Atkinson  \n",
       "3    Willie Green  \n",
       "4   Billy Donovan  "
      ]
     },
     "execution_count": 73,
     "metadata": {},
     "output_type": "execute_result"
    }
   ],
   "source": [
    "# Muestra el dataframe actualizado sin duplicados\n",
    "print(\"Dataframe sin duplicados:\")\n",
    "team_completo.head()\n"
   ]
  },
  {
   "cell_type": "code",
   "execution_count": 74,
   "metadata": {},
   "outputs": [
    {
     "data": {
      "text/plain": [
       "(30, 10)"
      ]
     },
     "execution_count": 74,
     "metadata": {},
     "output_type": "execute_result"
    }
   ],
   "source": [
    "np.shape(team_completo)"
   ]
  },
  {
   "cell_type": "markdown",
   "metadata": {},
   "source": [
    "### Guardar el dataframe team_completo"
   ]
  },
  {
   "cell_type": "code",
   "execution_count": 75,
   "metadata": {},
   "outputs": [],
   "source": [
    "team_completo.to_csv('team_completo_filtrado.csv', index=False)"
   ]
  }
 ],
 "metadata": {
  "kernelspec": {
   "display_name": "Python 3",
   "language": "python",
   "name": "python3"
  },
  "language_info": {
   "codemirror_mode": {
    "name": "ipython",
    "version": 3
   },
   "file_extension": ".py",
   "mimetype": "text/x-python",
   "name": "python",
   "nbconvert_exporter": "python",
   "pygments_lexer": "ipython3",
   "version": "3.12.4"
  }
 },
 "nbformat": 4,
 "nbformat_minor": 2
}
