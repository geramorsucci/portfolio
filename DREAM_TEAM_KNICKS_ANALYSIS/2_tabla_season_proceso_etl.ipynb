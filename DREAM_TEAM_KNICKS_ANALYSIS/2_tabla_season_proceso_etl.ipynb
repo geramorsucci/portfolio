{
 "cells": [
  {
   "cell_type": "code",
   "execution_count": 3,
   "metadata": {},
   "outputs": [],
   "source": [
    "import pandas as pd\n",
    "import numpy as np"
   ]
  },
  {
   "cell_type": "markdown",
   "metadata": {},
   "source": [
    "# Creamos la tabla de dimensión season."
   ]
  },
  {
   "cell_type": "code",
   "execution_count": 4,
   "metadata": {},
   "outputs": [
    {
     "name": "stdout",
     "output_type": "stream",
     "text": [
      "   season_id start_date   end_date\n",
      "0       2021 2020-12-21 2021-07-21\n",
      "1       2022 2021-10-18 2022-06-17\n",
      "2       2023 2022-10-17 2023-06-13\n"
     ]
    }
   ],
   "source": [
    "\n",
    "\n",
    "# Crear el DataFrame\n",
    "data = {\n",
    "    'season_id': [2021, 2022, 2023],\n",
    "    'start_date': ['21/12/2020', '18/10/2021', '17/10/2022'],\n",
    "    'end_date': ['21/07/2021', '17/06/2022', '13/06/2023']\n",
    "}\n",
    "\n",
    "df = pd.DataFrame(data)\n",
    "\n",
    "# Convertir las columnas de fecha a formato datetime\n",
    "df['start_date'] = pd.to_datetime(df['start_date'], format='%d/%m/%Y')\n",
    "df['end_date'] = pd.to_datetime(df['end_date'], format='%d/%m/%Y')\n",
    "\n",
    "# Guardar el DataFrame como un archivo CSV\n",
    "df.to_csv('seasons.csv', index=False)\n",
    "\n",
    "# Mostrar el DataFrame\n",
    "print(df)"
   ]
  }
 ],
 "metadata": {
  "kernelspec": {
   "display_name": "Python 3",
   "language": "python",
   "name": "python3"
  },
  "language_info": {
   "codemirror_mode": {
    "name": "ipython",
    "version": 3
   },
   "file_extension": ".py",
   "mimetype": "text/x-python",
   "name": "python",
   "nbconvert_exporter": "python",
   "pygments_lexer": "ipython3",
   "version": "3.12.4"
  }
 },
 "nbformat": 4,
 "nbformat_minor": 2
}
