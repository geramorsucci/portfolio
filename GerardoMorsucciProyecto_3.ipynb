{
  "nbformat": 4,
  "nbformat_minor": 0,
  "metadata": {
    "kernelspec": {
      "display_name": "Python 3",
      "language": "python",
      "name": "python3"
    },
    "language_info": {
      "codemirror_mode": {
        "name": "ipython",
        "version": 3
      },
      "file_extension": ".py",
      "mimetype": "text/x-python",
      "name": "python",
      "nbconvert_exporter": "python",
      "pygments_lexer": "ipython3",
      "version": "3.8.2"
    },
    "colab": {
      "name": "GerardoMorsucciProyecto_3.ipynb",
      "provenance": [],
      "collapsed_sections": []
    }
  },
  "cells": [
    {
      "cell_type": "markdown",
      "metadata": {
        "id": "gzJLet17WTzh"
      },
      "source": [
        "# Proyecto 03 - Sistemas de Recomendación\n",
        "\n",
        "## Dataset: STEAM\n",
        "\n",
        "**Recuerda descargar el dataset de [aquí](https://github.com/kang205/SASRec). Son dos archivos, uno de calificaciones y otro de información sobre los juegos.**\n",
        "\n",
        "En este notebook te dejamos unas celdas para que puedas comenzar a trabajar con este dataset. Sin embargo, **deberás** modificarlas para hacer un mejor manejo de datos. Algunas cosas a las que deberás prestar atención (tal vez no a todas):\n",
        "1. Tipos de datos: elige tipos de datos apropiados para cada columna.\n",
        "2. Descartar columnas poco informativas.\n",
        "3. Guardar en memoria datasets preprocesados para no tener que repetir código que tarde en correr.\n",
        "\n",
        "### Exploración de datos\n",
        "\n",
        "Dedícale un buen tiempo a hacer un Análisis Exploratorio de Datos. Elige preguntas que creas que puedas responder con este dataset. Por ejemplo, ¿cuáles son los juegos más populares?¿Y los menos populares?\n",
        "\n",
        "### Filtro Colaborativo\n",
        "\n",
        "Deberás implementar un sistema de recomendación colaborativo para este dataset. Ten en cuenta:\n",
        "\n",
        "1. Haz todas las transformaciones de datos que consideres necesarias. Justifica.\n",
        "1. Evalúa de forma apropiada sus resultados. Justifica la métrica elegida.\n",
        "1. Elige un modelo benchmark y compara tus resultados con este modelo.\n",
        "1. Optimiza los hiperparámetros de tu modelo.\n",
        "\n",
        "Puedes implementar un filtro colaborativo a partir de la similitud coseno o índice de Jaccard. ¿Puedes utilizar los métodos de la librería Surprise? Si no es así, busca implementaciones (por ejemplo, nuevas librerías) que sean apropiadas.\n",
        "\n",
        "Para comenzar a trabajar, puedes asumir que cada entrada es un enlace entre una persona usuaria y un item, **independientemente** de si la crítica es buena o mala. \n",
        "\n",
        "### Para pensar, investigar y, opcionalmente, implementar\n",
        "1. ¿Cómo harías para ponerle un valor a la calificación?\n",
        "1. ¿Cómo harías para agregar contenido? Por ejemplo, cuentas con el género, precio, fecha de lanzamiento y más información de los juegos.\n",
        "1. ¿Hay algo que te gustaría investigar o probar?\n",
        "\n",
        "### **¡Tómate tiempo para investigar y leer mucho!**"
      ]
    },
    {
      "cell_type": "code",
      "metadata": {
        "id": "YpF4eZQbo2YP"
      },
      "source": [
        "import numpy as np\n",
        "import pandas as pd\n",
        "import matplotlib.pyplot as plt\n",
        "import seaborn as sns\n",
        "import sklearn"
      ],
      "execution_count": null,
      "outputs": []
    },
    {
      "cell_type": "code",
      "metadata": {
        "id": "AShh8jjqSaIr",
        "colab": {
          "base_uri": "https://localhost:8080/"
        },
        "outputId": "b062d245-04c1-4101-8d38-9824776cf818"
      },
      "source": [
        "from google.colab import drive\n",
        "drive.mount('/content/drive')"
      ],
      "execution_count": null,
      "outputs": [
        {
          "output_type": "stream",
          "name": "stdout",
          "text": [
            "Drive already mounted at /content/drive; to attempt to forcibly remount, call drive.mount(\"/content/drive\", force_remount=True).\n"
          ]
        }
      ]
    },
    {
      "cell_type": "code",
      "metadata": {
        "id": "lWZhtUxEWTzj"
      },
      "source": [
        "import gzip\n",
        "import pandas as pd\n",
        "\n",
        "def parse(path):\n",
        "    g = gzip.open(path, 'r')\n",
        "    for l in g:\n",
        "        yield eval(l)"
      ],
      "execution_count": null,
      "outputs": []
    },
    {
      "cell_type": "markdown",
      "metadata": {
        "id": "kBeHXSy11nu9"
      },
      "source": [
        "### **¿ Qué objetivos hay establecidos con este proyecto ?**"
      ]
    },
    {
      "cell_type": "markdown",
      "metadata": {
        "id": "V4lXxZs-1uDF"
      },
      "source": [
        "**La idea de este proyecto es crear un sistema de recomendación de filtro colaborativo, utilizando python; funcionará de tal manera qué, según las reviews de cada persona, se haga match con distintos juegos y asi recomendar opciones de juegos similares a los gustos del usuario.**"
      ]
    },
    {
      "cell_type": "markdown",
      "metadata": {
        "id": "rIc6Tl28s7ze"
      },
      "source": [
        "## ¿ Que representa el dataset ? ¿ Hay información sobre las columnas ?"
      ]
    },
    {
      "cell_type": "markdown",
      "metadata": {
        "id": "BmEM25k4WTzw"
      },
      "source": [
        "###**Reviews**"
      ]
    },
    {
      "cell_type": "code",
      "metadata": {
        "id": "abAXItn1WTz0"
      },
      "source": [
        "contador = 0\n",
        "data_reviews = []\n",
        "# Vamos a guardar una de cada 10 reviews para no llenar la memoria RAM. Si pones n = 3, \n",
        "# abrira uno de cada tres, y asi.\n",
        "n = 20\n",
        "for l in parse('/content/drive/MyDrive/Colab Notebooks/steam_reviews.json.gz'):\n",
        "    if contador%n == 0:\n",
        "        data_reviews.append(l)\n",
        "    else:\n",
        "        pass\n",
        "    contador += 1\n"
      ],
      "execution_count": null,
      "outputs": []
    },
    {
      "cell_type": "code",
      "metadata": {
        "id": "7GovAZQBWTz8"
      },
      "source": [
        "data_reviews = pd.DataFrame(data_reviews)"
      ],
      "execution_count": null,
      "outputs": []
    },
    {
      "cell_type": "markdown",
      "metadata": {
        "id": "U6fFLSdKtGNY"
      },
      "source": [
        "**¿ Que representa el dataset ?**\n",
        "\n",
        "\n",
        "El dataset representa la base de datos de los comentarios que pone la gente sobre los juegos que adquieren en steam, si lo encuentran divertido o no, cuantas horas le dedicaron al mismo y el precio en el que estaba publicando el juego, también figura si tenía algún descuento el mismo o si lo recibieron gratis.\n",
        "\n",
        "La información que aporto sobre las columnas y como las voy a considerar a continuación:\n",
        "\n",
        "**DATA_REVIEWS DATASET**\n",
        "\n",
        "» username: nombre de usuario con el cual entran a la plataforma.\n",
        "\n",
        "» hours: horas que jugaron al videojuego en evaluación\n",
        "\n",
        "» products: cantidad de juegos del usuario\n",
        "\n",
        "» product_id: id del juego a evaluar\n",
        "\n",
        "» page_order: orden de la página.\n",
        "\n",
        "» date: fecha de el comentario.\n",
        "\n",
        "» text: comentario hecho por el usuario.\n",
        "\n",
        "» early_access: acceso anticipado, si o no.\n",
        "\n",
        "» page: página.\n",
        "\n",
        "» user_id: id de usuario (irrepetible)\n",
        "\n",
        "» compensation: si tuvo ventaja a la hora de obtener el juego.\n",
        "\n",
        "###» **found_funny:** valoración del juego de carácter acumulativa; los usuarios suelen saltarse este tipo de valoración, por ende, esta variable contiene muchos nan (los transformaremos en 0). Se puede decir que found funny dentro de steam, nos puede aparecer varias veces por mas que ya hayamos votado que el juego nos parece divertido, eso nos avisa que una persona intencionalmente puede buscar votar una infinidad de veces positivamente el juego, para generar alguna repercusión, así que aplicando filtrados correspondientes podremos dejar de lado esas jugadas sucias.\n",
        "\n",
        "\n",
        "\n",
        "▓▓▓▓▓▓▓▓▓▓▓▓▓▓▓▓▓▓▓▓▓▓▓▓▓▓▓▓▓▓▓▓▓▓▓▓▓▓▓▓▓▓▓▓▓▓▓▓▓▓▓▓▓▓▓▓▓▓▓▓▓▓▓▓▓▓▓▓▓▓▓▓▓▓▓▓▓▓▓▓▓▓▓▓▓▓▓▓▓▓▓▓▓▓▓▓▓▓▓▓▓▓▓▓▓▓▓▓▓▓▓▓▓▓▓▓▓▓▓▓▓▓▓▓▓▓▓▓▓▓▓▓▓▓▓▓▓▓▓▓▓▓▓▓▓▓▓▓▓▓▓▓▓▓▓▓▓▓▓▓▓▓▓▓▓▓▓▓▓▓▓▓▓▓\n",
        "\n",
        "\n",
        "\n",
        "\n",
        "\n"
      ]
    },
    {
      "cell_type": "markdown",
      "metadata": {
        "id": "un3MtrAg3PQj"
      },
      "source": [
        "**Visualización de datos NA.**"
      ]
    },
    {
      "cell_type": "code",
      "metadata": {
        "id": "8F-EVRZ4WT0L",
        "colab": {
          "base_uri": "https://localhost:8080/"
        },
        "outputId": "2d6e4b35-93e5-41c0-c1a9-1b822a06a90f"
      },
      "source": [
        "data_reviews.isna().sum()"
      ],
      "execution_count": null,
      "outputs": [
        {
          "output_type": "execute_result",
          "data": {
            "text/plain": [
              "username             0\n",
              "hours             1322\n",
              "products           773\n",
              "product_id           0\n",
              "page_order           0\n",
              "date                 0\n",
              "text                 0\n",
              "early_access         0\n",
              "page                 0\n",
              "user_id         231160\n",
              "found_funny     329763\n",
              "compensation    382397\n",
              "dtype: int64"
            ]
          },
          "metadata": {},
          "execution_count": 6
        }
      ]
    },
    {
      "cell_type": "markdown",
      "metadata": {
        "id": "vPois7K93j_X"
      },
      "source": [
        "**Dataset head.**"
      ]
    },
    {
      "cell_type": "code",
      "metadata": {
        "id": "j24F0ZaYWT0E",
        "colab": {
          "base_uri": "https://localhost:8080/",
          "height": 206
        },
        "outputId": "2eefd688-a83b-495e-d46c-dabe8f66d20f"
      },
      "source": [
        "data_reviews.head()"
      ],
      "execution_count": null,
      "outputs": [
        {
          "output_type": "execute_result",
          "data": {
            "text/html": [
              "<div>\n",
              "<style scoped>\n",
              "    .dataframe tbody tr th:only-of-type {\n",
              "        vertical-align: middle;\n",
              "    }\n",
              "\n",
              "    .dataframe tbody tr th {\n",
              "        vertical-align: top;\n",
              "    }\n",
              "\n",
              "    .dataframe thead th {\n",
              "        text-align: right;\n",
              "    }\n",
              "</style>\n",
              "<table border=\"1\" class=\"dataframe\">\n",
              "  <thead>\n",
              "    <tr style=\"text-align: right;\">\n",
              "      <th></th>\n",
              "      <th>username</th>\n",
              "      <th>hours</th>\n",
              "      <th>products</th>\n",
              "      <th>product_id</th>\n",
              "      <th>page_order</th>\n",
              "      <th>date</th>\n",
              "      <th>text</th>\n",
              "      <th>early_access</th>\n",
              "      <th>page</th>\n",
              "      <th>user_id</th>\n",
              "      <th>found_funny</th>\n",
              "      <th>compensation</th>\n",
              "    </tr>\n",
              "  </thead>\n",
              "  <tbody>\n",
              "    <tr>\n",
              "      <th>0</th>\n",
              "      <td>Chaos Syren</td>\n",
              "      <td>0.1</td>\n",
              "      <td>41.0</td>\n",
              "      <td>725280</td>\n",
              "      <td>0</td>\n",
              "      <td>2017-12-17</td>\n",
              "      <td>This would not be acceptable as an entertainme...</td>\n",
              "      <td>False</td>\n",
              "      <td>1</td>\n",
              "      <td>NaN</td>\n",
              "      <td>NaN</td>\n",
              "      <td>NaN</td>\n",
              "    </tr>\n",
              "    <tr>\n",
              "      <th>1</th>\n",
              "      <td>freakfantom</td>\n",
              "      <td>0.1</td>\n",
              "      <td>1706.0</td>\n",
              "      <td>725280</td>\n",
              "      <td>5</td>\n",
              "      <td>2017-11-12</td>\n",
              "      <td>Прикольная стрелялка. Взял дешево на распродаже.</td>\n",
              "      <td>False</td>\n",
              "      <td>1</td>\n",
              "      <td>NaN</td>\n",
              "      <td>NaN</td>\n",
              "      <td>NaN</td>\n",
              "    </tr>\n",
              "    <tr>\n",
              "      <th>2</th>\n",
              "      <td>the_maker988</td>\n",
              "      <td>8.2</td>\n",
              "      <td>18.0</td>\n",
              "      <td>35140</td>\n",
              "      <td>7</td>\n",
              "      <td>2018-01-02</td>\n",
              "      <td>This game was way to linear for me, and compar...</td>\n",
              "      <td>False</td>\n",
              "      <td>1</td>\n",
              "      <td>76561198353396844</td>\n",
              "      <td>NaN</td>\n",
              "      <td>NaN</td>\n",
              "    </tr>\n",
              "    <tr>\n",
              "      <th>3</th>\n",
              "      <td>Vonder</td>\n",
              "      <td>2.7</td>\n",
              "      <td>264.0</td>\n",
              "      <td>35600</td>\n",
              "      <td>3</td>\n",
              "      <td>2017-04-15</td>\n",
              "      <td>I like the art style and the idea but what a b...</td>\n",
              "      <td>False</td>\n",
              "      <td>1</td>\n",
              "      <td>76561198113497324</td>\n",
              "      <td>NaN</td>\n",
              "      <td>NaN</td>\n",
              "    </tr>\n",
              "    <tr>\n",
              "      <th>4</th>\n",
              "      <td>rampage1209</td>\n",
              "      <td>34.8</td>\n",
              "      <td>3.0</td>\n",
              "      <td>1840</td>\n",
              "      <td>4</td>\n",
              "      <td>2018-01-04</td>\n",
              "      <td>WAY PAST COOL</td>\n",
              "      <td>False</td>\n",
              "      <td>1</td>\n",
              "      <td>76561198080474371</td>\n",
              "      <td>NaN</td>\n",
              "      <td>NaN</td>\n",
              "    </tr>\n",
              "  </tbody>\n",
              "</table>\n",
              "</div>"
            ],
            "text/plain": [
              "       username  hours  products  ...            user_id  found_funny compensation\n",
              "0   Chaos Syren    0.1      41.0  ...                NaN          NaN          NaN\n",
              "1   freakfantom    0.1    1706.0  ...                NaN          NaN          NaN\n",
              "2  the_maker988    8.2      18.0  ...  76561198353396844          NaN          NaN\n",
              "3        Vonder    2.7     264.0  ...  76561198113497324          NaN          NaN\n",
              "4   rampage1209   34.8       3.0  ...  76561198080474371          NaN          NaN\n",
              "\n",
              "[5 rows x 12 columns]"
            ]
          },
          "metadata": {},
          "execution_count": 7
        }
      ]
    },
    {
      "cell_type": "markdown",
      "metadata": {
        "id": "Qoj9dRhv3uhW"
      },
      "source": [
        "**Dataset tail.**"
      ]
    },
    {
      "cell_type": "code",
      "metadata": {
        "colab": {
          "base_uri": "https://localhost:8080/",
          "height": 206
        },
        "id": "TUo8I9ud0vwi",
        "outputId": "ad1ff6c2-7a12-45fd-9c51-ecf96a3cce99"
      },
      "source": [
        "data_reviews.tail()"
      ],
      "execution_count": null,
      "outputs": [
        {
          "output_type": "execute_result",
          "data": {
            "text/html": [
              "<div>\n",
              "<style scoped>\n",
              "    .dataframe tbody tr th:only-of-type {\n",
              "        vertical-align: middle;\n",
              "    }\n",
              "\n",
              "    .dataframe tbody tr th {\n",
              "        vertical-align: top;\n",
              "    }\n",
              "\n",
              "    .dataframe thead th {\n",
              "        text-align: right;\n",
              "    }\n",
              "</style>\n",
              "<table border=\"1\" class=\"dataframe\">\n",
              "  <thead>\n",
              "    <tr style=\"text-align: right;\">\n",
              "      <th></th>\n",
              "      <th>username</th>\n",
              "      <th>hours</th>\n",
              "      <th>products</th>\n",
              "      <th>product_id</th>\n",
              "      <th>page_order</th>\n",
              "      <th>date</th>\n",
              "      <th>text</th>\n",
              "      <th>early_access</th>\n",
              "      <th>page</th>\n",
              "      <th>user_id</th>\n",
              "      <th>found_funny</th>\n",
              "      <th>compensation</th>\n",
              "    </tr>\n",
              "  </thead>\n",
              "  <tbody>\n",
              "    <tr>\n",
              "      <th>389649</th>\n",
              "      <td>Slavic Psycho</td>\n",
              "      <td>3.9</td>\n",
              "      <td>135.0</td>\n",
              "      <td>252490</td>\n",
              "      <td>1</td>\n",
              "      <td>2013-12-11</td>\n",
              "      <td>never seen anything like this</td>\n",
              "      <td>True</td>\n",
              "      <td>10213</td>\n",
              "      <td>NaN</td>\n",
              "      <td>NaN</td>\n",
              "      <td>NaN</td>\n",
              "    </tr>\n",
              "    <tr>\n",
              "      <th>389650</th>\n",
              "      <td>Tupac ;)</td>\n",
              "      <td>1460.4</td>\n",
              "      <td>195.0</td>\n",
              "      <td>252490</td>\n",
              "      <td>1</td>\n",
              "      <td>2013-12-11</td>\n",
              "      <td>Great game!</td>\n",
              "      <td>True</td>\n",
              "      <td>10215</td>\n",
              "      <td>76561197981068109</td>\n",
              "      <td>NaN</td>\n",
              "      <td>NaN</td>\n",
              "    </tr>\n",
              "    <tr>\n",
              "      <th>389651</th>\n",
              "      <td>Vidaar</td>\n",
              "      <td>783.5</td>\n",
              "      <td>353.0</td>\n",
              "      <td>252490</td>\n",
              "      <td>1</td>\n",
              "      <td>2013-12-11</td>\n",
              "      <td>Summary: Rust is a survival game created by Fa...</td>\n",
              "      <td>True</td>\n",
              "      <td>10217</td>\n",
              "      <td>NaN</td>\n",
              "      <td>NaN</td>\n",
              "      <td>NaN</td>\n",
              "    </tr>\n",
              "    <tr>\n",
              "      <th>389652</th>\n",
              "      <td>RancorZealot</td>\n",
              "      <td>203.5</td>\n",
              "      <td>173.0</td>\n",
              "      <td>252490</td>\n",
              "      <td>1</td>\n",
              "      <td>2013-12-11</td>\n",
              "      <td>Should you buy RUST? Uh... YES. The BEST Survi...</td>\n",
              "      <td>True</td>\n",
              "      <td>10219</td>\n",
              "      <td>76561197963920623</td>\n",
              "      <td>NaN</td>\n",
              "      <td>NaN</td>\n",
              "    </tr>\n",
              "    <tr>\n",
              "      <th>389653</th>\n",
              "      <td>Helk</td>\n",
              "      <td>15375.0</td>\n",
              "      <td>98.0</td>\n",
              "      <td>252490</td>\n",
              "      <td>1</td>\n",
              "      <td>2013-12-11</td>\n",
              "      <td>I love this game!</td>\n",
              "      <td>True</td>\n",
              "      <td>10221</td>\n",
              "      <td>NaN</td>\n",
              "      <td>36.0</td>\n",
              "      <td>NaN</td>\n",
              "    </tr>\n",
              "  </tbody>\n",
              "</table>\n",
              "</div>"
            ],
            "text/plain": [
              "             username    hours  ...  found_funny compensation\n",
              "389649  Slavic Psycho      3.9  ...          NaN          NaN\n",
              "389650       Tupac ;)   1460.4  ...          NaN          NaN\n",
              "389651         Vidaar    783.5  ...          NaN          NaN\n",
              "389652   RancorZealot    203.5  ...          NaN          NaN\n",
              "389653           Helk  15375.0  ...         36.0          NaN\n",
              "\n",
              "[5 rows x 12 columns]"
            ]
          },
          "metadata": {},
          "execution_count": 8
        }
      ]
    },
    {
      "cell_type": "markdown",
      "metadata": {
        "id": "bL4QT18UcnSW"
      },
      "source": [
        "**Cuántos datos y columnas tiene:**"
      ]
    },
    {
      "cell_type": "code",
      "metadata": {
        "id": "7CrghNCtcmBS",
        "colab": {
          "base_uri": "https://localhost:8080/"
        },
        "outputId": "3d967822-7b2c-4e0a-9a7d-130199408684"
      },
      "source": [
        "print(\"El dataset tiene {} datos y {} columnas\".format(data_reviews.shape[0], data_reviews.shape[1]))"
      ],
      "execution_count": null,
      "outputs": [
        {
          "output_type": "stream",
          "name": "stdout",
          "text": [
            "El dataset tiene 389654 datos y 12 columnas\n"
          ]
        }
      ]
    },
    {
      "cell_type": "markdown",
      "metadata": {
        "id": "bPu81WEhotFJ"
      },
      "source": [
        "**Sus datos estadísticos principales:**"
      ]
    },
    {
      "cell_type": "code",
      "metadata": {
        "id": "vIPY2P6RpBQP",
        "colab": {
          "base_uri": "https://localhost:8080/",
          "height": 300
        },
        "outputId": "b42abe36-df80-4bef-f69b-dab3aa941949"
      },
      "source": [
        "display(data_reviews.describe())"
      ],
      "execution_count": null,
      "outputs": [
        {
          "output_type": "display_data",
          "data": {
            "text/html": [
              "<div>\n",
              "<style scoped>\n",
              "    .dataframe tbody tr th:only-of-type {\n",
              "        vertical-align: middle;\n",
              "    }\n",
              "\n",
              "    .dataframe tbody tr th {\n",
              "        vertical-align: top;\n",
              "    }\n",
              "\n",
              "    .dataframe thead th {\n",
              "        text-align: right;\n",
              "    }\n",
              "</style>\n",
              "<table border=\"1\" class=\"dataframe\">\n",
              "  <thead>\n",
              "    <tr style=\"text-align: right;\">\n",
              "      <th></th>\n",
              "      <th>hours</th>\n",
              "      <th>products</th>\n",
              "      <th>page_order</th>\n",
              "      <th>page</th>\n",
              "      <th>found_funny</th>\n",
              "    </tr>\n",
              "  </thead>\n",
              "  <tbody>\n",
              "    <tr>\n",
              "      <th>count</th>\n",
              "      <td>388332.000000</td>\n",
              "      <td>388881.000000</td>\n",
              "      <td>389654.000000</td>\n",
              "      <td>389654.000000</td>\n",
              "      <td>59891.000000</td>\n",
              "    </tr>\n",
              "    <tr>\n",
              "      <th>mean</th>\n",
              "      <td>111.655317</td>\n",
              "      <td>237.388368</td>\n",
              "      <td>4.417373</td>\n",
              "      <td>893.017087</td>\n",
              "      <td>8.092000</td>\n",
              "    </tr>\n",
              "    <tr>\n",
              "      <th>std</th>\n",
              "      <td>391.173007</td>\n",
              "      <td>488.970218</td>\n",
              "      <td>2.897673</td>\n",
              "      <td>1927.905445</td>\n",
              "      <td>78.082516</td>\n",
              "    </tr>\n",
              "    <tr>\n",
              "      <th>min</th>\n",
              "      <td>0.000000</td>\n",
              "      <td>1.000000</td>\n",
              "      <td>0.000000</td>\n",
              "      <td>1.000000</td>\n",
              "      <td>1.000000</td>\n",
              "    </tr>\n",
              "    <tr>\n",
              "      <th>25%</th>\n",
              "      <td>4.000000</td>\n",
              "      <td>45.000000</td>\n",
              "      <td>2.000000</td>\n",
              "      <td>52.000000</td>\n",
              "      <td>1.000000</td>\n",
              "    </tr>\n",
              "    <tr>\n",
              "      <th>50%</th>\n",
              "      <td>15.400000</td>\n",
              "      <td>110.000000</td>\n",
              "      <td>4.000000</td>\n",
              "      <td>237.000000</td>\n",
              "      <td>1.000000</td>\n",
              "    </tr>\n",
              "    <tr>\n",
              "      <th>75%</th>\n",
              "      <td>59.300000</td>\n",
              "      <td>246.000000</td>\n",
              "      <td>7.000000</td>\n",
              "      <td>830.000000</td>\n",
              "      <td>3.000000</td>\n",
              "    </tr>\n",
              "    <tr>\n",
              "      <th>max</th>\n",
              "      <td>28164.000000</td>\n",
              "      <td>12832.000000</td>\n",
              "      <td>9.000000</td>\n",
              "      <td>18371.000000</td>\n",
              "      <td>6277.000000</td>\n",
              "    </tr>\n",
              "  </tbody>\n",
              "</table>\n",
              "</div>"
            ],
            "text/plain": [
              "               hours       products     page_order           page   found_funny\n",
              "count  388332.000000  388881.000000  389654.000000  389654.000000  59891.000000\n",
              "mean      111.655317     237.388368       4.417373     893.017087      8.092000\n",
              "std       391.173007     488.970218       2.897673    1927.905445     78.082516\n",
              "min         0.000000       1.000000       0.000000       1.000000      1.000000\n",
              "25%         4.000000      45.000000       2.000000      52.000000      1.000000\n",
              "50%        15.400000     110.000000       4.000000     237.000000      1.000000\n",
              "75%        59.300000     246.000000       7.000000     830.000000      3.000000\n",
              "max     28164.000000   12832.000000       9.000000   18371.000000   6277.000000"
            ]
          },
          "metadata": {}
        }
      ]
    },
    {
      "cell_type": "markdown",
      "metadata": {
        "id": "-k4KQbOZYEM4"
      },
      "source": [
        "FOUND_FUNNY MAX = 6277.000000 (EXTREMADAMENTE ALTO)"
      ]
    },
    {
      "cell_type": "markdown",
      "metadata": {
        "id": "04ed3teRWT0T"
      },
      "source": [
        "###**Games**"
      ]
    },
    {
      "cell_type": "code",
      "metadata": {
        "id": "8wRb24Y5WT0U"
      },
      "source": [
        "data_games = []\n",
        "for l in parse('/content/drive/MyDrive/Colab Notebooks/steam_games.json.gz'):\n",
        "    data_games.append(l)\n",
        "data_games = pd.DataFrame(data_games)"
      ],
      "execution_count": null,
      "outputs": []
    },
    {
      "cell_type": "markdown",
      "metadata": {
        "id": "veNGJJYtaEO6"
      },
      "source": [
        "**DATA_GAMES DATASET**\n",
        "\n",
        "*¿ Hay información sobre las columnas ?*\n",
        "\n",
        "» publisher: la compañía que publicó oficialmente el juego.\n",
        "\n",
        "» genres: generos a los que se hace alusión en el juego.\n",
        "\n",
        "» app_name: nombre del juego\n",
        "\n",
        "» title: título de la saga de juegos si es que la tiene.\n",
        "\n",
        "» url: url para obtener el juego\n",
        "\n",
        "» release_date: fecha de lanzamiento del juego\n",
        "\n",
        "» tags: que palabras hacen alusión al juego\n",
        "\n",
        "» discount_price: descuento si es que tiene\n",
        "\n",
        "» reviews_url: url del comentario\n",
        "\n",
        "» specs: especifícaciones del juego\n",
        "\n",
        "» price: precio\n",
        "\n",
        "» early_access: si alguien tuvo acceso anticipado\n",
        "\n",
        "» id: id irrepetible del juego\n",
        "\n",
        "» developer: desarrollador del juego\n",
        "\n",
        "» sentiment: sentimiento encontrado en la gente\n",
        "\n",
        "### » **metascore:** el metascore es algo relativo, bastante importante según se lo vea, el metascore es un numero que nos arroja metacritics(https://www.metacritic.com/), que es una página de criticas, que lo que realiza es juntar todas las criticas hacia el juego por ejemplo, y sacar un promedio, se dice que las compañias de juegos, realizan estratégias en internet para manipular los metascore finales de esta reconocida página."
      ]
    },
    {
      "cell_type": "markdown",
      "metadata": {
        "id": "DhTEn4G73ghK"
      },
      "source": [
        "**Visualización de datos NA.**"
      ]
    },
    {
      "cell_type": "code",
      "metadata": {
        "colab": {
          "base_uri": "https://localhost:8080/"
        },
        "id": "U9UD64mRvrG-",
        "outputId": "94c0439d-0840-41f3-93b2-f19c7aeab0d9"
      },
      "source": [
        "data_games.isna().sum()"
      ],
      "execution_count": null,
      "outputs": [
        {
          "output_type": "execute_result",
          "data": {
            "text/plain": [
              "publisher          8052\n",
              "genres             3283\n",
              "app_name              2\n",
              "title              2050\n",
              "url                   0\n",
              "release_date       2067\n",
              "tags                163\n",
              "discount_price    31910\n",
              "reviews_url           2\n",
              "specs               670\n",
              "price              1377\n",
              "early_access          0\n",
              "id                    2\n",
              "developer          3299\n",
              "sentiment          7182\n",
              "metascore         29458\n",
              "dtype: int64"
            ]
          },
          "metadata": {},
          "execution_count": 12
        }
      ]
    },
    {
      "cell_type": "markdown",
      "metadata": {
        "id": "Zo4n-VjT3ytc"
      },
      "source": [
        "**Dataset head.**"
      ]
    },
    {
      "cell_type": "code",
      "metadata": {
        "id": "sVR0Cs6SWT0b",
        "colab": {
          "base_uri": "https://localhost:8080/",
          "height": 625
        },
        "outputId": "53562430-d705-4d2e-a5c6-5bca68d5591b"
      },
      "source": [
        "data_games.head()"
      ],
      "execution_count": null,
      "outputs": [
        {
          "output_type": "execute_result",
          "data": {
            "text/html": [
              "<div>\n",
              "<style scoped>\n",
              "    .dataframe tbody tr th:only-of-type {\n",
              "        vertical-align: middle;\n",
              "    }\n",
              "\n",
              "    .dataframe tbody tr th {\n",
              "        vertical-align: top;\n",
              "    }\n",
              "\n",
              "    .dataframe thead th {\n",
              "        text-align: right;\n",
              "    }\n",
              "</style>\n",
              "<table border=\"1\" class=\"dataframe\">\n",
              "  <thead>\n",
              "    <tr style=\"text-align: right;\">\n",
              "      <th></th>\n",
              "      <th>publisher</th>\n",
              "      <th>genres</th>\n",
              "      <th>app_name</th>\n",
              "      <th>title</th>\n",
              "      <th>url</th>\n",
              "      <th>release_date</th>\n",
              "      <th>tags</th>\n",
              "      <th>discount_price</th>\n",
              "      <th>reviews_url</th>\n",
              "      <th>specs</th>\n",
              "      <th>price</th>\n",
              "      <th>early_access</th>\n",
              "      <th>id</th>\n",
              "      <th>developer</th>\n",
              "      <th>sentiment</th>\n",
              "      <th>metascore</th>\n",
              "    </tr>\n",
              "  </thead>\n",
              "  <tbody>\n",
              "    <tr>\n",
              "      <th>0</th>\n",
              "      <td>Kotoshiro</td>\n",
              "      <td>[Action, Casual, Indie, Simulation, Strategy]</td>\n",
              "      <td>Lost Summoner Kitty</td>\n",
              "      <td>Lost Summoner Kitty</td>\n",
              "      <td>http://store.steampowered.com/app/761140/Lost_...</td>\n",
              "      <td>2018-01-04</td>\n",
              "      <td>[Strategy, Action, Indie, Casual, Simulation]</td>\n",
              "      <td>4.49</td>\n",
              "      <td>http://steamcommunity.com/app/761140/reviews/?...</td>\n",
              "      <td>[Single-player]</td>\n",
              "      <td>4.99</td>\n",
              "      <td>False</td>\n",
              "      <td>761140</td>\n",
              "      <td>Kotoshiro</td>\n",
              "      <td>NaN</td>\n",
              "      <td>NaN</td>\n",
              "    </tr>\n",
              "    <tr>\n",
              "      <th>1</th>\n",
              "      <td>Making Fun, Inc.</td>\n",
              "      <td>[Free to Play, Indie, RPG, Strategy]</td>\n",
              "      <td>Ironbound</td>\n",
              "      <td>Ironbound</td>\n",
              "      <td>http://store.steampowered.com/app/643980/Ironb...</td>\n",
              "      <td>2018-01-04</td>\n",
              "      <td>[Free to Play, Strategy, Indie, RPG, Card Game...</td>\n",
              "      <td>NaN</td>\n",
              "      <td>http://steamcommunity.com/app/643980/reviews/?...</td>\n",
              "      <td>[Single-player, Multi-player, Online Multi-Pla...</td>\n",
              "      <td>Free To Play</td>\n",
              "      <td>False</td>\n",
              "      <td>643980</td>\n",
              "      <td>Secret Level SRL</td>\n",
              "      <td>Mostly Positive</td>\n",
              "      <td>NaN</td>\n",
              "    </tr>\n",
              "    <tr>\n",
              "      <th>2</th>\n",
              "      <td>Poolians.com</td>\n",
              "      <td>[Casual, Free to Play, Indie, Simulation, Sports]</td>\n",
              "      <td>Real Pool 3D - Poolians</td>\n",
              "      <td>Real Pool 3D - Poolians</td>\n",
              "      <td>http://store.steampowered.com/app/670290/Real_...</td>\n",
              "      <td>2017-07-24</td>\n",
              "      <td>[Free to Play, Simulation, Sports, Casual, Ind...</td>\n",
              "      <td>NaN</td>\n",
              "      <td>http://steamcommunity.com/app/670290/reviews/?...</td>\n",
              "      <td>[Single-player, Multi-player, Online Multi-Pla...</td>\n",
              "      <td>Free to Play</td>\n",
              "      <td>False</td>\n",
              "      <td>670290</td>\n",
              "      <td>Poolians.com</td>\n",
              "      <td>Mostly Positive</td>\n",
              "      <td>NaN</td>\n",
              "    </tr>\n",
              "    <tr>\n",
              "      <th>3</th>\n",
              "      <td>彼岸领域</td>\n",
              "      <td>[Action, Adventure, Casual]</td>\n",
              "      <td>弹炸人2222</td>\n",
              "      <td>弹炸人2222</td>\n",
              "      <td>http://store.steampowered.com/app/767400/2222/</td>\n",
              "      <td>2017-12-07</td>\n",
              "      <td>[Action, Adventure, Casual]</td>\n",
              "      <td>0.83</td>\n",
              "      <td>http://steamcommunity.com/app/767400/reviews/?...</td>\n",
              "      <td>[Single-player]</td>\n",
              "      <td>0.99</td>\n",
              "      <td>False</td>\n",
              "      <td>767400</td>\n",
              "      <td>彼岸领域</td>\n",
              "      <td>NaN</td>\n",
              "      <td>NaN</td>\n",
              "    </tr>\n",
              "    <tr>\n",
              "      <th>4</th>\n",
              "      <td>NaN</td>\n",
              "      <td>NaN</td>\n",
              "      <td>Log Challenge</td>\n",
              "      <td>NaN</td>\n",
              "      <td>http://store.steampowered.com/app/773570/Log_C...</td>\n",
              "      <td>NaN</td>\n",
              "      <td>[Action, Indie, Casual, Sports]</td>\n",
              "      <td>1.79</td>\n",
              "      <td>http://steamcommunity.com/app/773570/reviews/?...</td>\n",
              "      <td>[Single-player, Full controller support, HTC V...</td>\n",
              "      <td>2.99</td>\n",
              "      <td>False</td>\n",
              "      <td>773570</td>\n",
              "      <td>NaN</td>\n",
              "      <td>NaN</td>\n",
              "      <td>NaN</td>\n",
              "    </tr>\n",
              "  </tbody>\n",
              "</table>\n",
              "</div>"
            ],
            "text/plain": [
              "          publisher  ... metascore\n",
              "0         Kotoshiro  ...       NaN\n",
              "1  Making Fun, Inc.  ...       NaN\n",
              "2      Poolians.com  ...       NaN\n",
              "3              彼岸领域  ...       NaN\n",
              "4               NaN  ...       NaN\n",
              "\n",
              "[5 rows x 16 columns]"
            ]
          },
          "metadata": {},
          "execution_count": 13
        }
      ]
    },
    {
      "cell_type": "markdown",
      "metadata": {
        "id": "Lr7z6im833Ao"
      },
      "source": [
        "**Dataset tail.**"
      ]
    },
    {
      "cell_type": "code",
      "metadata": {
        "colab": {
          "base_uri": "https://localhost:8080/",
          "height": 521
        },
        "id": "MyZIgqk731MD",
        "outputId": "00e7b9ba-d323-475c-ab72-0fc930fb2f1a"
      },
      "source": [
        "data_games.tail()"
      ],
      "execution_count": null,
      "outputs": [
        {
          "output_type": "execute_result",
          "data": {
            "text/html": [
              "<div>\n",
              "<style scoped>\n",
              "    .dataframe tbody tr th:only-of-type {\n",
              "        vertical-align: middle;\n",
              "    }\n",
              "\n",
              "    .dataframe tbody tr th {\n",
              "        vertical-align: top;\n",
              "    }\n",
              "\n",
              "    .dataframe thead th {\n",
              "        text-align: right;\n",
              "    }\n",
              "</style>\n",
              "<table border=\"1\" class=\"dataframe\">\n",
              "  <thead>\n",
              "    <tr style=\"text-align: right;\">\n",
              "      <th></th>\n",
              "      <th>publisher</th>\n",
              "      <th>genres</th>\n",
              "      <th>app_name</th>\n",
              "      <th>title</th>\n",
              "      <th>url</th>\n",
              "      <th>release_date</th>\n",
              "      <th>tags</th>\n",
              "      <th>discount_price</th>\n",
              "      <th>reviews_url</th>\n",
              "      <th>specs</th>\n",
              "      <th>price</th>\n",
              "      <th>early_access</th>\n",
              "      <th>id</th>\n",
              "      <th>developer</th>\n",
              "      <th>sentiment</th>\n",
              "      <th>metascore</th>\n",
              "    </tr>\n",
              "  </thead>\n",
              "  <tbody>\n",
              "    <tr>\n",
              "      <th>32130</th>\n",
              "      <td>Ghost_RUS Games</td>\n",
              "      <td>[Casual, Indie, Simulation, Strategy]</td>\n",
              "      <td>Colony On Mars</td>\n",
              "      <td>Colony On Mars</td>\n",
              "      <td>http://store.steampowered.com/app/773640/Colon...</td>\n",
              "      <td>2018-01-04</td>\n",
              "      <td>[Strategy, Indie, Casual, Simulation]</td>\n",
              "      <td>1.49</td>\n",
              "      <td>http://steamcommunity.com/app/773640/reviews/?...</td>\n",
              "      <td>[Single-player, Steam Achievements]</td>\n",
              "      <td>1.99</td>\n",
              "      <td>False</td>\n",
              "      <td>773640</td>\n",
              "      <td>Nikita \"Ghost_RUS\"</td>\n",
              "      <td>NaN</td>\n",
              "      <td>NaN</td>\n",
              "    </tr>\n",
              "    <tr>\n",
              "      <th>32131</th>\n",
              "      <td>Sacada</td>\n",
              "      <td>[Casual, Indie, Strategy]</td>\n",
              "      <td>LOGistICAL: South Africa</td>\n",
              "      <td>LOGistICAL: South Africa</td>\n",
              "      <td>http://store.steampowered.com/app/733530/LOGis...</td>\n",
              "      <td>2018-01-04</td>\n",
              "      <td>[Strategy, Indie, Casual]</td>\n",
              "      <td>4.24</td>\n",
              "      <td>http://steamcommunity.com/app/733530/reviews/?...</td>\n",
              "      <td>[Single-player, Steam Achievements, Steam Clou...</td>\n",
              "      <td>4.99</td>\n",
              "      <td>False</td>\n",
              "      <td>733530</td>\n",
              "      <td>Sacada</td>\n",
              "      <td>NaN</td>\n",
              "      <td>NaN</td>\n",
              "    </tr>\n",
              "    <tr>\n",
              "      <th>32132</th>\n",
              "      <td>Laush Studio</td>\n",
              "      <td>[Indie, Racing, Simulation]</td>\n",
              "      <td>Russian Roads</td>\n",
              "      <td>Russian Roads</td>\n",
              "      <td>http://store.steampowered.com/app/610660/Russi...</td>\n",
              "      <td>2018-01-04</td>\n",
              "      <td>[Indie, Simulation, Racing]</td>\n",
              "      <td>1.39</td>\n",
              "      <td>http://steamcommunity.com/app/610660/reviews/?...</td>\n",
              "      <td>[Single-player, Steam Achievements, Steam Trad...</td>\n",
              "      <td>1.99</td>\n",
              "      <td>False</td>\n",
              "      <td>610660</td>\n",
              "      <td>Laush Dmitriy Sergeevich</td>\n",
              "      <td>NaN</td>\n",
              "      <td>NaN</td>\n",
              "    </tr>\n",
              "    <tr>\n",
              "      <th>32133</th>\n",
              "      <td>SIXNAILS</td>\n",
              "      <td>[Casual, Indie]</td>\n",
              "      <td>EXIT 2 - Directions</td>\n",
              "      <td>EXIT 2 - Directions</td>\n",
              "      <td>http://store.steampowered.com/app/658870/EXIT_...</td>\n",
              "      <td>2017-09-02</td>\n",
              "      <td>[Indie, Casual, Puzzle, Singleplayer, Atmosphe...</td>\n",
              "      <td>NaN</td>\n",
              "      <td>http://steamcommunity.com/app/658870/reviews/?...</td>\n",
              "      <td>[Single-player, Steam Achievements, Steam Cloud]</td>\n",
              "      <td>4.99</td>\n",
              "      <td>False</td>\n",
              "      <td>658870</td>\n",
              "      <td>xropi,stev3ns</td>\n",
              "      <td>1 user reviews</td>\n",
              "      <td>NaN</td>\n",
              "    </tr>\n",
              "    <tr>\n",
              "      <th>32134</th>\n",
              "      <td>NaN</td>\n",
              "      <td>NaN</td>\n",
              "      <td>Maze Run VR</td>\n",
              "      <td>NaN</td>\n",
              "      <td>http://store.steampowered.com/app/681550/Maze_...</td>\n",
              "      <td>NaN</td>\n",
              "      <td>[Early Access, Adventure, Indie, Action, Simul...</td>\n",
              "      <td>NaN</td>\n",
              "      <td>http://steamcommunity.com/app/681550/reviews/?...</td>\n",
              "      <td>[Single-player, Stats, Steam Leaderboards, HTC...</td>\n",
              "      <td>4.99</td>\n",
              "      <td>True</td>\n",
              "      <td>681550</td>\n",
              "      <td>NaN</td>\n",
              "      <td>Positive</td>\n",
              "      <td>NaN</td>\n",
              "    </tr>\n",
              "  </tbody>\n",
              "</table>\n",
              "</div>"
            ],
            "text/plain": [
              "             publisher  ... metascore\n",
              "32130  Ghost_RUS Games  ...       NaN\n",
              "32131           Sacada  ...       NaN\n",
              "32132     Laush Studio  ...       NaN\n",
              "32133         SIXNAILS  ...       NaN\n",
              "32134              NaN  ...       NaN\n",
              "\n",
              "[5 rows x 16 columns]"
            ]
          },
          "metadata": {},
          "execution_count": 14
        }
      ]
    },
    {
      "cell_type": "markdown",
      "metadata": {
        "id": "bMGVSj7K37Xe"
      },
      "source": [
        "**Consultando algunos juegos.**"
      ]
    },
    {
      "cell_type": "code",
      "metadata": {
        "id": "Bt5BLCw5WT0g",
        "colab": {
          "base_uri": "https://localhost:8080/",
          "height": 205
        },
        "outputId": "13ce8d78-bd09-47a8-a921-a5845792e344"
      },
      "source": [
        "data_games[data_games.id == '76561198382309565']"
      ],
      "execution_count": null,
      "outputs": [
        {
          "output_type": "execute_result",
          "data": {
            "text/html": [
              "<div>\n",
              "<style scoped>\n",
              "    .dataframe tbody tr th:only-of-type {\n",
              "        vertical-align: middle;\n",
              "    }\n",
              "\n",
              "    .dataframe tbody tr th {\n",
              "        vertical-align: top;\n",
              "    }\n",
              "\n",
              "    .dataframe thead th {\n",
              "        text-align: right;\n",
              "    }\n",
              "</style>\n",
              "<table border=\"1\" class=\"dataframe\">\n",
              "  <thead>\n",
              "    <tr style=\"text-align: right;\">\n",
              "      <th></th>\n",
              "      <th>publisher</th>\n",
              "      <th>genres</th>\n",
              "      <th>app_name</th>\n",
              "      <th>title</th>\n",
              "      <th>url</th>\n",
              "      <th>release_date</th>\n",
              "      <th>tags</th>\n",
              "      <th>discount_price</th>\n",
              "      <th>reviews_url</th>\n",
              "      <th>specs</th>\n",
              "      <th>price</th>\n",
              "      <th>early_access</th>\n",
              "      <th>id</th>\n",
              "      <th>developer</th>\n",
              "      <th>sentiment</th>\n",
              "      <th>metascore</th>\n",
              "    </tr>\n",
              "  </thead>\n",
              "  <tbody>\n",
              "    <tr>\n",
              "      <th>31617</th>\n",
              "      <td>Warner Bros. Interactive Entertainment, Feral ...</td>\n",
              "      <td>[Action, Adventure]</td>\n",
              "      <td>Batman: Arkham Asylum Game of the Year Edition</td>\n",
              "      <td>Batman: Arkham Asylum Game of the Year Edition</td>\n",
              "      <td>http://store.steampowered.com/app/35140/Batman...</td>\n",
              "      <td>2010-03-26</td>\n",
              "      <td>[Action, Batman, Stealth, Adventure, Third Per...</td>\n",
              "      <td>NaN</td>\n",
              "      <td>http://steamcommunity.com/app/35140/reviews/?b...</td>\n",
              "      <td>[Single-player, Steam Achievements, Steam Trad...</td>\n",
              "      <td>19.99</td>\n",
              "      <td>False</td>\n",
              "      <td>35140</td>\n",
              "      <td>Rocksteady Studios,Feral Interactive (Mac)</td>\n",
              "      <td>Overwhelmingly Positive</td>\n",
              "      <td>91</td>\n",
              "    </tr>\n",
              "  </tbody>\n",
              "</table>\n",
              "</div>"
            ],
            "text/plain": [
              "                                               publisher  ... metascore\n",
              "31617  Warner Bros. Interactive Entertainment, Feral ...  ...        91\n",
              "\n",
              "[1 rows x 16 columns]"
            ]
          },
          "metadata": {},
          "execution_count": 15
        }
      ]
    },
    {
      "cell_type": "code",
      "metadata": {
        "colab": {
          "base_uri": "https://localhost:8080/",
          "height": 424
        },
        "id": "bor-VQLK1-Ij",
        "outputId": "b8eb4e80-17cd-4f18-f9a8-940b3b7a1d87"
      },
      "source": [
        "data_reviews[data_reviews.product_id == '35140']"
      ],
      "execution_count": null,
      "outputs": [
        {
          "output_type": "execute_result",
          "data": {
            "text/html": [
              "<div>\n",
              "<style scoped>\n",
              "    .dataframe tbody tr th:only-of-type {\n",
              "        vertical-align: middle;\n",
              "    }\n",
              "\n",
              "    .dataframe tbody tr th {\n",
              "        vertical-align: top;\n",
              "    }\n",
              "\n",
              "    .dataframe thead th {\n",
              "        text-align: right;\n",
              "    }\n",
              "</style>\n",
              "<table border=\"1\" class=\"dataframe\">\n",
              "  <thead>\n",
              "    <tr style=\"text-align: right;\">\n",
              "      <th></th>\n",
              "      <th>username</th>\n",
              "      <th>hours</th>\n",
              "      <th>products</th>\n",
              "      <th>product_id</th>\n",
              "      <th>page_order</th>\n",
              "      <th>date</th>\n",
              "      <th>text</th>\n",
              "      <th>early_access</th>\n",
              "      <th>page</th>\n",
              "      <th>user_id</th>\n",
              "      <th>found_funny</th>\n",
              "      <th>compensation</th>\n",
              "    </tr>\n",
              "  </thead>\n",
              "  <tbody>\n",
              "    <tr>\n",
              "      <th>2</th>\n",
              "      <td>the_maker988</td>\n",
              "      <td>8.2</td>\n",
              "      <td>18.0</td>\n",
              "      <td>35140</td>\n",
              "      <td>7</td>\n",
              "      <td>2018-01-02</td>\n",
              "      <td>This game was way to linear for me, and compar...</td>\n",
              "      <td>False</td>\n",
              "      <td>1</td>\n",
              "      <td>76561198353396844</td>\n",
              "      <td>NaN</td>\n",
              "      <td>NaN</td>\n",
              "    </tr>\n",
              "    <tr>\n",
              "      <th>9</th>\n",
              "      <td>MLGarbage</td>\n",
              "      <td>9.5</td>\n",
              "      <td>38.0</td>\n",
              "      <td>35140</td>\n",
              "      <td>1</td>\n",
              "      <td>2018-01-02</td>\n",
              "      <td>Fun Game. I played shadow of mordor before pla...</td>\n",
              "      <td>False</td>\n",
              "      <td>2</td>\n",
              "      <td>76561198292325099</td>\n",
              "      <td>NaN</td>\n",
              "      <td>NaN</td>\n",
              "    </tr>\n",
              "    <tr>\n",
              "      <th>18</th>\n",
              "      <td>Brookie</td>\n",
              "      <td>16.1</td>\n",
              "      <td>14.0</td>\n",
              "      <td>35140</td>\n",
              "      <td>3</td>\n",
              "      <td>2017-12-31</td>\n",
              "      <td>Absolutely dark as a bag. Love this game.</td>\n",
              "      <td>False</td>\n",
              "      <td>3</td>\n",
              "      <td>76561198382309565</td>\n",
              "      <td>NaN</td>\n",
              "      <td>NaN</td>\n",
              "    </tr>\n",
              "    <tr>\n",
              "      <th>19</th>\n",
              "      <td>anotherphysicsgradstudent</td>\n",
              "      <td>56.9</td>\n",
              "      <td>95.0</td>\n",
              "      <td>35140</td>\n",
              "      <td>7</td>\n",
              "      <td>2017-12-31</td>\n",
              "      <td>It may be close to a decade old, but don't let...</td>\n",
              "      <td>False</td>\n",
              "      <td>3</td>\n",
              "      <td>76561198131701503</td>\n",
              "      <td>NaN</td>\n",
              "      <td>NaN</td>\n",
              "    </tr>\n",
              "    <tr>\n",
              "      <th>28</th>\n",
              "      <td>BouncedBadger123</td>\n",
              "      <td>54.2</td>\n",
              "      <td>200.0</td>\n",
              "      <td>35140</td>\n",
              "      <td>6</td>\n",
              "      <td>2017-12-29</td>\n",
              "      <td>Good story and graphics for 2009, only downsid...</td>\n",
              "      <td>False</td>\n",
              "      <td>4</td>\n",
              "      <td>76561198265084773</td>\n",
              "      <td>NaN</td>\n",
              "      <td>NaN</td>\n",
              "    </tr>\n",
              "    <tr>\n",
              "      <th>...</th>\n",
              "      <td>...</td>\n",
              "      <td>...</td>\n",
              "      <td>...</td>\n",
              "      <td>...</td>\n",
              "      <td>...</td>\n",
              "      <td>...</td>\n",
              "      <td>...</td>\n",
              "      <td>...</td>\n",
              "      <td>...</td>\n",
              "      <td>...</td>\n",
              "      <td>...</td>\n",
              "      <td>...</td>\n",
              "    </tr>\n",
              "    <tr>\n",
              "      <th>5753</th>\n",
              "      <td>Tyber83</td>\n",
              "      <td>25.2</td>\n",
              "      <td>1093.0</td>\n",
              "      <td>35140</td>\n",
              "      <td>8</td>\n",
              "      <td>2010-12-19</td>\n",
              "      <td>Everyone wants to be Batman. Don't deny it. Hi...</td>\n",
              "      <td>False</td>\n",
              "      <td>903</td>\n",
              "      <td>NaN</td>\n",
              "      <td>NaN</td>\n",
              "      <td>NaN</td>\n",
              "    </tr>\n",
              "    <tr>\n",
              "      <th>5788</th>\n",
              "      <td>doctor 7</td>\n",
              "      <td>50.9</td>\n",
              "      <td>1093.0</td>\n",
              "      <td>35140</td>\n",
              "      <td>4</td>\n",
              "      <td>2010-12-18</td>\n",
              "      <td>I'm Batman (and you can be too!)</td>\n",
              "      <td>False</td>\n",
              "      <td>904</td>\n",
              "      <td>NaN</td>\n",
              "      <td>NaN</td>\n",
              "      <td>NaN</td>\n",
              "    </tr>\n",
              "    <tr>\n",
              "      <th>5789</th>\n",
              "      <td>0ddity</td>\n",
              "      <td>26.4</td>\n",
              "      <td>180.0</td>\n",
              "      <td>35140</td>\n",
              "      <td>5</td>\n",
              "      <td>2010-12-13</td>\n",
              "      <td>If you like Batman at all, even a little bit, ...</td>\n",
              "      <td>False</td>\n",
              "      <td>905</td>\n",
              "      <td>NaN</td>\n",
              "      <td>NaN</td>\n",
              "      <td>NaN</td>\n",
              "    </tr>\n",
              "    <tr>\n",
              "      <th>5790</th>\n",
              "      <td>Lord JoJo T.</td>\n",
              "      <td>18.2</td>\n",
              "      <td>970.0</td>\n",
              "      <td>35140</td>\n",
              "      <td>5</td>\n",
              "      <td>2010-12-01</td>\n",
              "      <td>You get to play the Batman and beat the♥♥♥♥♥♥o...</td>\n",
              "      <td>False</td>\n",
              "      <td>906</td>\n",
              "      <td>NaN</td>\n",
              "      <td>NaN</td>\n",
              "      <td>NaN</td>\n",
              "    </tr>\n",
              "    <tr>\n",
              "      <th>5817</th>\n",
              "      <td>nanokelvin</td>\n",
              "      <td>17.4</td>\n",
              "      <td>283.0</td>\n",
              "      <td>35140</td>\n",
              "      <td>3</td>\n",
              "      <td>2010-11-19</td>\n",
              "      <td>Its amazing... buy it now</td>\n",
              "      <td>False</td>\n",
              "      <td>909</td>\n",
              "      <td>NaN</td>\n",
              "      <td>NaN</td>\n",
              "      <td>NaN</td>\n",
              "    </tr>\n",
              "  </tbody>\n",
              "</table>\n",
              "<p>465 rows × 12 columns</p>\n",
              "</div>"
            ],
            "text/plain": [
              "                       username  hours  ...  found_funny compensation\n",
              "2                  the_maker988    8.2  ...          NaN          NaN\n",
              "9                     MLGarbage    9.5  ...          NaN          NaN\n",
              "18                      Brookie   16.1  ...          NaN          NaN\n",
              "19    anotherphysicsgradstudent   56.9  ...          NaN          NaN\n",
              "28             BouncedBadger123   54.2  ...          NaN          NaN\n",
              "...                         ...    ...  ...          ...          ...\n",
              "5753                    Tyber83   25.2  ...          NaN          NaN\n",
              "5788                   doctor 7   50.9  ...          NaN          NaN\n",
              "5789                     0ddity   26.4  ...          NaN          NaN\n",
              "5790               Lord JoJo T.   18.2  ...          NaN          NaN\n",
              "5817                 nanokelvin   17.4  ...          NaN          NaN\n",
              "\n",
              "[465 rows x 12 columns]"
            ]
          },
          "metadata": {},
          "execution_count": 16
        }
      ]
    },
    {
      "cell_type": "markdown",
      "metadata": {
        "id": "gRHVNeYLcv7F"
      },
      "source": [
        "**Cuántos datos y columnas tiene:**"
      ]
    },
    {
      "cell_type": "code",
      "metadata": {
        "id": "RK6ZmL0bcwcZ",
        "colab": {
          "base_uri": "https://localhost:8080/"
        },
        "outputId": "8bd23ed0-6f80-475d-e41e-22c0defe0c93"
      },
      "source": [
        "print(\"El dataset tiene {} datos y {} columnas\".format(data_games.shape[0], data_games.shape[1]))"
      ],
      "execution_count": null,
      "outputs": [
        {
          "output_type": "stream",
          "name": "stdout",
          "text": [
            "El dataset tiene 32135 datos y 16 columnas\n"
          ]
        }
      ]
    },
    {
      "cell_type": "markdown",
      "metadata": {
        "id": "HkujCxZs2jth"
      },
      "source": [
        "###**¿ Cuáles son los 10 juegos que mas reviews repiten en el dataset ?**"
      ]
    },
    {
      "cell_type": "code",
      "metadata": {
        "colab": {
          "base_uri": "https://localhost:8080/"
        },
        "id": "1jfkV6fg2uVz",
        "outputId": "294f6a76-f336-4527-fea6-3410169bef42"
      },
      "source": [
        "for i in range(0, 9):\n",
        "  print(data_games[data_games.id==str(data_reviews.product_id.value_counts().index[i])].title.values)"
      ],
      "execution_count": null,
      "outputs": [
        {
          "output_type": "stream",
          "name": "stdout",
          "text": [
            "['Team Fortress 2']\n",
            "['Rust']\n",
            "['Borderlands 2']\n",
            "['Fallout 4']\n",
            "['Grand Theft Auto V']\n",
            "['Undertale']\n",
            "['DayZ']\n",
            "['Portal 2']\n",
            "['Robocraft']\n"
          ]
        }
      ]
    },
    {
      "cell_type": "markdown",
      "metadata": {
        "id": "HFphi7QvvUFL"
      },
      "source": [
        "###Primero para ordenar un poco los datasets, voy a hacer algunos drop de columnas."
      ]
    },
    {
      "cell_type": "code",
      "metadata": {
        "id": "h4p-XuK26W3Q"
      },
      "source": [
        "games = data_games[[\"title\", \"genres\", \"metascore\", \"id\"]]"
      ],
      "execution_count": null,
      "outputs": []
    },
    {
      "cell_type": "code",
      "metadata": {
        "id": "sIuY7gXz6u8P"
      },
      "source": [
        "games.columns = [\"title\", \"genres\", \"metascore\", \"product_id\"]"
      ],
      "execution_count": null,
      "outputs": []
    },
    {
      "cell_type": "code",
      "metadata": {
        "colab": {
          "base_uri": "https://localhost:8080/",
          "height": 419
        },
        "id": "_w2A3w0u6dKu",
        "outputId": "bebfb2c7-15ed-4056-bec7-997125cd4a96"
      },
      "source": [
        "games"
      ],
      "execution_count": null,
      "outputs": [
        {
          "output_type": "execute_result",
          "data": {
            "text/html": [
              "<div>\n",
              "<style scoped>\n",
              "    .dataframe tbody tr th:only-of-type {\n",
              "        vertical-align: middle;\n",
              "    }\n",
              "\n",
              "    .dataframe tbody tr th {\n",
              "        vertical-align: top;\n",
              "    }\n",
              "\n",
              "    .dataframe thead th {\n",
              "        text-align: right;\n",
              "    }\n",
              "</style>\n",
              "<table border=\"1\" class=\"dataframe\">\n",
              "  <thead>\n",
              "    <tr style=\"text-align: right;\">\n",
              "      <th></th>\n",
              "      <th>title</th>\n",
              "      <th>genres</th>\n",
              "      <th>metascore</th>\n",
              "      <th>product_id</th>\n",
              "    </tr>\n",
              "  </thead>\n",
              "  <tbody>\n",
              "    <tr>\n",
              "      <th>0</th>\n",
              "      <td>Lost Summoner Kitty</td>\n",
              "      <td>[Action, Casual, Indie, Simulation, Strategy]</td>\n",
              "      <td>NaN</td>\n",
              "      <td>761140</td>\n",
              "    </tr>\n",
              "    <tr>\n",
              "      <th>1</th>\n",
              "      <td>Ironbound</td>\n",
              "      <td>[Free to Play, Indie, RPG, Strategy]</td>\n",
              "      <td>NaN</td>\n",
              "      <td>643980</td>\n",
              "    </tr>\n",
              "    <tr>\n",
              "      <th>2</th>\n",
              "      <td>Real Pool 3D - Poolians</td>\n",
              "      <td>[Casual, Free to Play, Indie, Simulation, Sports]</td>\n",
              "      <td>NaN</td>\n",
              "      <td>670290</td>\n",
              "    </tr>\n",
              "    <tr>\n",
              "      <th>3</th>\n",
              "      <td>弹炸人2222</td>\n",
              "      <td>[Action, Adventure, Casual]</td>\n",
              "      <td>NaN</td>\n",
              "      <td>767400</td>\n",
              "    </tr>\n",
              "    <tr>\n",
              "      <th>4</th>\n",
              "      <td>NaN</td>\n",
              "      <td>NaN</td>\n",
              "      <td>NaN</td>\n",
              "      <td>773570</td>\n",
              "    </tr>\n",
              "    <tr>\n",
              "      <th>...</th>\n",
              "      <td>...</td>\n",
              "      <td>...</td>\n",
              "      <td>...</td>\n",
              "      <td>...</td>\n",
              "    </tr>\n",
              "    <tr>\n",
              "      <th>32130</th>\n",
              "      <td>Colony On Mars</td>\n",
              "      <td>[Casual, Indie, Simulation, Strategy]</td>\n",
              "      <td>NaN</td>\n",
              "      <td>773640</td>\n",
              "    </tr>\n",
              "    <tr>\n",
              "      <th>32131</th>\n",
              "      <td>LOGistICAL: South Africa</td>\n",
              "      <td>[Casual, Indie, Strategy]</td>\n",
              "      <td>NaN</td>\n",
              "      <td>733530</td>\n",
              "    </tr>\n",
              "    <tr>\n",
              "      <th>32132</th>\n",
              "      <td>Russian Roads</td>\n",
              "      <td>[Indie, Racing, Simulation]</td>\n",
              "      <td>NaN</td>\n",
              "      <td>610660</td>\n",
              "    </tr>\n",
              "    <tr>\n",
              "      <th>32133</th>\n",
              "      <td>EXIT 2 - Directions</td>\n",
              "      <td>[Casual, Indie]</td>\n",
              "      <td>NaN</td>\n",
              "      <td>658870</td>\n",
              "    </tr>\n",
              "    <tr>\n",
              "      <th>32134</th>\n",
              "      <td>NaN</td>\n",
              "      <td>NaN</td>\n",
              "      <td>NaN</td>\n",
              "      <td>681550</td>\n",
              "    </tr>\n",
              "  </tbody>\n",
              "</table>\n",
              "<p>32135 rows × 4 columns</p>\n",
              "</div>"
            ],
            "text/plain": [
              "                          title  ... product_id\n",
              "0           Lost Summoner Kitty  ...     761140\n",
              "1                     Ironbound  ...     643980\n",
              "2       Real Pool 3D - Poolians  ...     670290\n",
              "3                       弹炸人2222  ...     767400\n",
              "4                           NaN  ...     773570\n",
              "...                         ...  ...        ...\n",
              "32130            Colony On Mars  ...     773640\n",
              "32131  LOGistICAL: South Africa  ...     733530\n",
              "32132             Russian Roads  ...     610660\n",
              "32133       EXIT 2 - Directions  ...     658870\n",
              "32134                       NaN  ...     681550\n",
              "\n",
              "[32135 rows x 4 columns]"
            ]
          },
          "metadata": {},
          "execution_count": 76
        }
      ]
    },
    {
      "cell_type": "markdown",
      "metadata": {
        "id": "m_M7tMcjYfbM"
      },
      "source": [
        "A continuación, sincronizaré los dos datasets, para que cada usuario tenga por juego, su valor de found funny, su valor de metascore y los generos del mismo juego (todo esto acompañado de una id unica de usuario y de juego)"
      ]
    },
    {
      "cell_type": "code",
      "metadata": {
        "id": "F9dT9SsK6fJm"
      },
      "source": [
        "data_reviews1 = pd.merge(data_reviews, games, left_on='product_id', right_on=\"product_id\")"
      ],
      "execution_count": null,
      "outputs": []
    },
    {
      "cell_type": "code",
      "metadata": {
        "colab": {
          "base_uri": "https://localhost:8080/",
          "height": 1000
        },
        "id": "VQOANCwRgMyk",
        "outputId": "b9a5678c-0615-408a-af77-98f162b927be"
      },
      "source": [
        "data_reviews1"
      ],
      "execution_count": null,
      "outputs": [
        {
          "output_type": "execute_result",
          "data": {
            "text/html": [
              "<div>\n",
              "<style scoped>\n",
              "    .dataframe tbody tr th:only-of-type {\n",
              "        vertical-align: middle;\n",
              "    }\n",
              "\n",
              "    .dataframe tbody tr th {\n",
              "        vertical-align: top;\n",
              "    }\n",
              "\n",
              "    .dataframe thead th {\n",
              "        text-align: right;\n",
              "    }\n",
              "</style>\n",
              "<table border=\"1\" class=\"dataframe\">\n",
              "  <thead>\n",
              "    <tr style=\"text-align: right;\">\n",
              "      <th></th>\n",
              "      <th>username</th>\n",
              "      <th>hours</th>\n",
              "      <th>products</th>\n",
              "      <th>product_id</th>\n",
              "      <th>page_order</th>\n",
              "      <th>date</th>\n",
              "      <th>text</th>\n",
              "      <th>early_access</th>\n",
              "      <th>page</th>\n",
              "      <th>user_id</th>\n",
              "      <th>found_funny</th>\n",
              "      <th>compensation</th>\n",
              "      <th>title</th>\n",
              "      <th>genres</th>\n",
              "      <th>metascore</th>\n",
              "    </tr>\n",
              "  </thead>\n",
              "  <tbody>\n",
              "    <tr>\n",
              "      <th>0</th>\n",
              "      <td>Chaos Syren</td>\n",
              "      <td>0.1</td>\n",
              "      <td>41.0</td>\n",
              "      <td>725280</td>\n",
              "      <td>0</td>\n",
              "      <td>2017-12-17</td>\n",
              "      <td>This would not be acceptable as an entertainme...</td>\n",
              "      <td>False</td>\n",
              "      <td>1</td>\n",
              "      <td>NaN</td>\n",
              "      <td>NaN</td>\n",
              "      <td>NaN</td>\n",
              "      <td>Psi Project</td>\n",
              "      <td>[Action, Adventure, Indie, Simulation]</td>\n",
              "      <td>NaN</td>\n",
              "    </tr>\n",
              "    <tr>\n",
              "      <th>1</th>\n",
              "      <td>freakfantom</td>\n",
              "      <td>0.1</td>\n",
              "      <td>1706.0</td>\n",
              "      <td>725280</td>\n",
              "      <td>5</td>\n",
              "      <td>2017-11-12</td>\n",
              "      <td>Прикольная стрелялка. Взял дешево на распродаже.</td>\n",
              "      <td>False</td>\n",
              "      <td>1</td>\n",
              "      <td>NaN</td>\n",
              "      <td>NaN</td>\n",
              "      <td>NaN</td>\n",
              "      <td>Psi Project</td>\n",
              "      <td>[Action, Adventure, Indie, Simulation]</td>\n",
              "      <td>NaN</td>\n",
              "    </tr>\n",
              "    <tr>\n",
              "      <th>2</th>\n",
              "      <td>the_maker988</td>\n",
              "      <td>8.2</td>\n",
              "      <td>18.0</td>\n",
              "      <td>35140</td>\n",
              "      <td>7</td>\n",
              "      <td>2018-01-02</td>\n",
              "      <td>This game was way to linear for me, and compar...</td>\n",
              "      <td>False</td>\n",
              "      <td>1</td>\n",
              "      <td>76561198353396844</td>\n",
              "      <td>NaN</td>\n",
              "      <td>NaN</td>\n",
              "      <td>Batman: Arkham Asylum Game of the Year Edition</td>\n",
              "      <td>[Action, Adventure]</td>\n",
              "      <td>91</td>\n",
              "    </tr>\n",
              "    <tr>\n",
              "      <th>3</th>\n",
              "      <td>MLGarbage</td>\n",
              "      <td>9.5</td>\n",
              "      <td>38.0</td>\n",
              "      <td>35140</td>\n",
              "      <td>1</td>\n",
              "      <td>2018-01-02</td>\n",
              "      <td>Fun Game. I played shadow of mordor before pla...</td>\n",
              "      <td>False</td>\n",
              "      <td>2</td>\n",
              "      <td>76561198292325099</td>\n",
              "      <td>NaN</td>\n",
              "      <td>NaN</td>\n",
              "      <td>Batman: Arkham Asylum Game of the Year Edition</td>\n",
              "      <td>[Action, Adventure]</td>\n",
              "      <td>91</td>\n",
              "    </tr>\n",
              "    <tr>\n",
              "      <th>4</th>\n",
              "      <td>Brookie</td>\n",
              "      <td>16.1</td>\n",
              "      <td>14.0</td>\n",
              "      <td>35140</td>\n",
              "      <td>3</td>\n",
              "      <td>2017-12-31</td>\n",
              "      <td>Absolutely dark as a bag. Love this game.</td>\n",
              "      <td>False</td>\n",
              "      <td>3</td>\n",
              "      <td>76561198382309565</td>\n",
              "      <td>NaN</td>\n",
              "      <td>NaN</td>\n",
              "      <td>Batman: Arkham Asylum Game of the Year Edition</td>\n",
              "      <td>[Action, Adventure]</td>\n",
              "      <td>91</td>\n",
              "    </tr>\n",
              "    <tr>\n",
              "      <th>...</th>\n",
              "      <td>...</td>\n",
              "      <td>...</td>\n",
              "      <td>...</td>\n",
              "      <td>...</td>\n",
              "      <td>...</td>\n",
              "      <td>...</td>\n",
              "      <td>...</td>\n",
              "      <td>...</td>\n",
              "      <td>...</td>\n",
              "      <td>...</td>\n",
              "      <td>...</td>\n",
              "      <td>...</td>\n",
              "      <td>...</td>\n",
              "      <td>...</td>\n",
              "      <td>...</td>\n",
              "    </tr>\n",
              "    <tr>\n",
              "      <th>389972</th>\n",
              "      <td>DUW2PAG</td>\n",
              "      <td>50.2</td>\n",
              "      <td>384.0</td>\n",
              "      <td>518790</td>\n",
              "      <td>3</td>\n",
              "      <td>2017-02-16</td>\n",
              "      <td>Massive fan of theHunter classic, Super hyped ...</td>\n",
              "      <td>False</td>\n",
              "      <td>376</td>\n",
              "      <td>76561198055593926</td>\n",
              "      <td>NaN</td>\n",
              "      <td>NaN</td>\n",
              "      <td>theHunter: Call of the Wild™</td>\n",
              "      <td>[Adventure, Simulation, Sports]</td>\n",
              "      <td>NaN</td>\n",
              "    </tr>\n",
              "    <tr>\n",
              "      <th>389973</th>\n",
              "      <td>Zeek</td>\n",
              "      <td>381.5</td>\n",
              "      <td>7.0</td>\n",
              "      <td>518790</td>\n",
              "      <td>4</td>\n",
              "      <td>2017-02-16</td>\n",
              "      <td>Pretty good so far!\\nAwesome bow hunting!\\nonc...</td>\n",
              "      <td>False</td>\n",
              "      <td>380</td>\n",
              "      <td>NaN</td>\n",
              "      <td>NaN</td>\n",
              "      <td>NaN</td>\n",
              "      <td>theHunter: Call of the Wild™</td>\n",
              "      <td>[Adventure, Simulation, Sports]</td>\n",
              "      <td>NaN</td>\n",
              "    </tr>\n",
              "    <tr>\n",
              "      <th>389974</th>\n",
              "      <td>rt974</td>\n",
              "      <td>9.4</td>\n",
              "      <td>36.0</td>\n",
              "      <td>518790</td>\n",
              "      <td>3</td>\n",
              "      <td>2017-02-16</td>\n",
              "      <td>Hi,\\nI discovered this game yesterday on my pe...</td>\n",
              "      <td>False</td>\n",
              "      <td>381</td>\n",
              "      <td>76561198032901419</td>\n",
              "      <td>NaN</td>\n",
              "      <td>NaN</td>\n",
              "      <td>theHunter: Call of the Wild™</td>\n",
              "      <td>[Adventure, Simulation, Sports]</td>\n",
              "      <td>NaN</td>\n",
              "    </tr>\n",
              "    <tr>\n",
              "      <th>389975</th>\n",
              "      <td>Fallenglory</td>\n",
              "      <td>35.8</td>\n",
              "      <td>606.0</td>\n",
              "      <td>518790</td>\n",
              "      <td>3</td>\n",
              "      <td>2017-02-16</td>\n",
              "      <td>The Hunter was and is still the most realistic...</td>\n",
              "      <td>False</td>\n",
              "      <td>382</td>\n",
              "      <td>76561197992526609</td>\n",
              "      <td>2.0</td>\n",
              "      <td>NaN</td>\n",
              "      <td>theHunter: Call of the Wild™</td>\n",
              "      <td>[Adventure, Simulation, Sports]</td>\n",
              "      <td>NaN</td>\n",
              "    </tr>\n",
              "    <tr>\n",
              "      <th>389976</th>\n",
              "      <td>GooseMan</td>\n",
              "      <td>32.4</td>\n",
              "      <td>166.0</td>\n",
              "      <td>518790</td>\n",
              "      <td>7</td>\n",
              "      <td>2017-02-16</td>\n",
              "      <td>Very good!</td>\n",
              "      <td>False</td>\n",
              "      <td>383</td>\n",
              "      <td>76561198037224895</td>\n",
              "      <td>NaN</td>\n",
              "      <td>NaN</td>\n",
              "      <td>theHunter: Call of the Wild™</td>\n",
              "      <td>[Adventure, Simulation, Sports]</td>\n",
              "      <td>NaN</td>\n",
              "    </tr>\n",
              "  </tbody>\n",
              "</table>\n",
              "<p>389977 rows × 15 columns</p>\n",
              "</div>"
            ],
            "text/plain": [
              "            username  hours  ...                                  genres metascore\n",
              "0        Chaos Syren    0.1  ...  [Action, Adventure, Indie, Simulation]       NaN\n",
              "1        freakfantom    0.1  ...  [Action, Adventure, Indie, Simulation]       NaN\n",
              "2       the_maker988    8.2  ...                     [Action, Adventure]        91\n",
              "3          MLGarbage    9.5  ...                     [Action, Adventure]        91\n",
              "4            Brookie   16.1  ...                     [Action, Adventure]        91\n",
              "...              ...    ...  ...                                     ...       ...\n",
              "389972       DUW2PAG   50.2  ...         [Adventure, Simulation, Sports]       NaN\n",
              "389973          Zeek  381.5  ...         [Adventure, Simulation, Sports]       NaN\n",
              "389974         rt974    9.4  ...         [Adventure, Simulation, Sports]       NaN\n",
              "389975   Fallenglory   35.8  ...         [Adventure, Simulation, Sports]       NaN\n",
              "389976      GooseMan   32.4  ...         [Adventure, Simulation, Sports]       NaN\n",
              "\n",
              "[389977 rows x 15 columns]"
            ]
          },
          "metadata": {},
          "execution_count": 78
        }
      ]
    },
    {
      "cell_type": "markdown",
      "metadata": {
        "id": "yW126YL4l4Ub"
      },
      "source": [
        "**DATA REVIEWS.**"
      ]
    },
    {
      "cell_type": "code",
      "metadata": {
        "id": "0apnK8N7vcKC"
      },
      "source": [
        "data_reviews2 = data_reviews1[[\"user_id\", \"product_id\", \"found_funny\", \"metascore\", \"hours\", \"title\", \"text\", \"genres\"]]"
      ],
      "execution_count": null,
      "outputs": []
    },
    {
      "cell_type": "code",
      "metadata": {
        "colab": {
          "base_uri": "https://localhost:8080/"
        },
        "id": "q3cSXLkO-F6G",
        "outputId": "c21cd0d6-f6f8-4a87-9c7a-c031c0d35591"
      },
      "source": [
        "data_reviews2.iloc[3943]"
      ],
      "execution_count": null,
      "outputs": [
        {
          "output_type": "execute_result",
          "data": {
            "text/plain": [
              "user_id                                          NaN\n",
              "product_id                                    427730\n",
              "found_funny                                      NaN\n",
              "metascore                                        NaN\n",
              "hours                                            3.5\n",
              "title                               Who's Your Daddy\n",
              "text           I don't know my dad, THIS GAM iz meen\n",
              "genres                       [Action, Casual, Indie]\n",
              "Name: 3943, dtype: object"
            ]
          },
          "metadata": {},
          "execution_count": 13
        }
      ]
    },
    {
      "cell_type": "markdown",
      "metadata": {
        "id": "Hrd_jA1xFK0z"
      },
      "source": [
        "**found_funny deberá ser rellenado con 0 en sus valores nan, ya que es información valiosa que no debemos perder.**"
      ]
    },
    {
      "cell_type": "code",
      "metadata": {
        "id": "hyQDzysi-Lsq",
        "colab": {
          "base_uri": "https://localhost:8080/"
        },
        "outputId": "55d8233d-6406-4075-ba79-54ea7ce69e99"
      },
      "source": [
        "data_reviews2[\"found_funny\"].fillna(0, inplace=True)\n",
        "data_reviews2[\"product_id\"].dropna(inplace=True)\n",
        "data_reviews2[\"metascore\"].dropna(inplace=True)"
      ],
      "execution_count": null,
      "outputs": [
        {
          "output_type": "stream",
          "name": "stderr",
          "text": [
            "/usr/local/lib/python3.7/dist-packages/pandas/core/series.py:4536: SettingWithCopyWarning: \n",
            "A value is trying to be set on a copy of a slice from a DataFrame\n",
            "\n",
            "See the caveats in the documentation: https://pandas.pydata.org/pandas-docs/stable/user_guide/indexing.html#returning-a-view-versus-a-copy\n",
            "  downcast=downcast,\n",
            "/usr/local/lib/python3.7/dist-packages/ipykernel_launcher.py:2: SettingWithCopyWarning: \n",
            "A value is trying to be set on a copy of a slice from a DataFrame\n",
            "\n",
            "See the caveats in the documentation: https://pandas.pydata.org/pandas-docs/stable/user_guide/indexing.html#returning-a-view-versus-a-copy\n",
            "  \n",
            "/usr/local/lib/python3.7/dist-packages/ipykernel_launcher.py:3: SettingWithCopyWarning: \n",
            "A value is trying to be set on a copy of a slice from a DataFrame\n",
            "\n",
            "See the caveats in the documentation: https://pandas.pydata.org/pandas-docs/stable/user_guide/indexing.html#returning-a-view-versus-a-copy\n",
            "  This is separate from the ipykernel package so we can avoid doing imports until\n"
          ]
        }
      ]
    },
    {
      "cell_type": "markdown",
      "metadata": {
        "id": "Eg12DVGf1R_E"
      },
      "source": [
        "**Hacemos el drop de NA de la columna hours, debido a que probablemente sean cuentas que tiene 0 horas jugadas, pero, de todas formas dejaron un comentario, el cual esta sesgado.**"
      ]
    },
    {
      "cell_type": "code",
      "metadata": {
        "id": "SZwjd9yAepGh",
        "colab": {
          "base_uri": "https://localhost:8080/"
        },
        "outputId": "197b00cb-9ba0-4779-c779-e606b6ad3f19"
      },
      "source": [
        "data_reviews2.dropna(subset = [\"hours\"], inplace=True)"
      ],
      "execution_count": null,
      "outputs": [
        {
          "output_type": "stream",
          "name": "stderr",
          "text": [
            "/usr/local/lib/python3.7/dist-packages/ipykernel_launcher.py:1: SettingWithCopyWarning: \n",
            "A value is trying to be set on a copy of a slice from a DataFrame\n",
            "\n",
            "See the caveats in the documentation: https://pandas.pydata.org/pandas-docs/stable/user_guide/indexing.html#returning-a-view-versus-a-copy\n",
            "  \"\"\"Entry point for launching an IPython kernel.\n"
          ]
        }
      ]
    },
    {
      "cell_type": "code",
      "metadata": {
        "colab": {
          "base_uri": "https://localhost:8080/"
        },
        "id": "z8Hx9icBqF36",
        "outputId": "5d2e5c4d-d533-4396-acf6-5bed6bd4d26a"
      },
      "source": [
        "print(data_reviews2.shape)"
      ],
      "execution_count": null,
      "outputs": [
        {
          "output_type": "stream",
          "name": "stdout",
          "text": [
            "(388655, 8)\n"
          ]
        }
      ]
    },
    {
      "cell_type": "code",
      "metadata": {
        "id": "apVyDaiTqLmQ",
        "colab": {
          "base_uri": "https://localhost:8080/"
        },
        "outputId": "e83008de-76b1-4f3c-c530-d2aee52f2207"
      },
      "source": [
        "data_reviews2.product_id = data_reviews2.product_id.replace([\"NA\"],np.nan)\n",
        "data_reviews2.product_id = data_reviews2.metascore.replace([\"NA\"],np.nan)\n",
        "data_reviews2 = data_reviews2[~data_reviews2.product_id.isna()]\n",
        "data_reviews2 = data_reviews2[~data_reviews2.user_id.isna()]\n",
        "data_reviews2 = data_reviews2[~data_reviews2.metascore.isna()]\n",
        "data_reviews2 = data_reviews2[~data_reviews2.genres.isna()]"
      ],
      "execution_count": null,
      "outputs": [
        {
          "output_type": "stream",
          "name": "stderr",
          "text": [
            "/usr/local/lib/python3.7/dist-packages/pandas/core/generic.py:5170: SettingWithCopyWarning: \n",
            "A value is trying to be set on a copy of a slice from a DataFrame.\n",
            "Try using .loc[row_indexer,col_indexer] = value instead\n",
            "\n",
            "See the caveats in the documentation: https://pandas.pydata.org/pandas-docs/stable/user_guide/indexing.html#returning-a-view-versus-a-copy\n",
            "  self[name] = value\n"
          ]
        }
      ]
    },
    {
      "cell_type": "code",
      "metadata": {
        "colab": {
          "base_uri": "https://localhost:8080/"
        },
        "id": "X4I6g2eorLFZ",
        "outputId": "136969a5-dc44-4c86-dee4-1e73b8f8de82"
      },
      "source": [
        "print(data_reviews2.shape)"
      ],
      "execution_count": null,
      "outputs": [
        {
          "output_type": "stream",
          "name": "stdout",
          "text": [
            "(93440, 8)\n"
          ]
        }
      ]
    },
    {
      "cell_type": "code",
      "metadata": {
        "colab": {
          "base_uri": "https://localhost:8080/",
          "height": 555
        },
        "id": "puJsQLCT1DfE",
        "outputId": "b05d99c9-7e16-43a7-ab47-1f96baccf1dd"
      },
      "source": [
        "data_reviews2"
      ],
      "execution_count": null,
      "outputs": [
        {
          "output_type": "execute_result",
          "data": {
            "text/html": [
              "<div>\n",
              "<style scoped>\n",
              "    .dataframe tbody tr th:only-of-type {\n",
              "        vertical-align: middle;\n",
              "    }\n",
              "\n",
              "    .dataframe tbody tr th {\n",
              "        vertical-align: top;\n",
              "    }\n",
              "\n",
              "    .dataframe thead th {\n",
              "        text-align: right;\n",
              "    }\n",
              "</style>\n",
              "<table border=\"1\" class=\"dataframe\">\n",
              "  <thead>\n",
              "    <tr style=\"text-align: right;\">\n",
              "      <th></th>\n",
              "      <th>user_id</th>\n",
              "      <th>product_id</th>\n",
              "      <th>found_funny</th>\n",
              "      <th>metascore</th>\n",
              "      <th>hours</th>\n",
              "      <th>title</th>\n",
              "      <th>text</th>\n",
              "      <th>genres</th>\n",
              "    </tr>\n",
              "  </thead>\n",
              "  <tbody>\n",
              "    <tr>\n",
              "      <th>2</th>\n",
              "      <td>76561198353396844</td>\n",
              "      <td>91.0</td>\n",
              "      <td>0.0</td>\n",
              "      <td>91</td>\n",
              "      <td>8.2</td>\n",
              "      <td>Batman: Arkham Asylum Game of the Year Edition</td>\n",
              "      <td>This game was way to linear for me, and compar...</td>\n",
              "      <td>[Action, Adventure]</td>\n",
              "    </tr>\n",
              "    <tr>\n",
              "      <th>3</th>\n",
              "      <td>76561198292325099</td>\n",
              "      <td>91.0</td>\n",
              "      <td>0.0</td>\n",
              "      <td>91</td>\n",
              "      <td>9.5</td>\n",
              "      <td>Batman: Arkham Asylum Game of the Year Edition</td>\n",
              "      <td>Fun Game. I played shadow of mordor before pla...</td>\n",
              "      <td>[Action, Adventure]</td>\n",
              "    </tr>\n",
              "    <tr>\n",
              "      <th>4</th>\n",
              "      <td>76561198382309565</td>\n",
              "      <td>91.0</td>\n",
              "      <td>0.0</td>\n",
              "      <td>91</td>\n",
              "      <td>16.1</td>\n",
              "      <td>Batman: Arkham Asylum Game of the Year Edition</td>\n",
              "      <td>Absolutely dark as a bag. Love this game.</td>\n",
              "      <td>[Action, Adventure]</td>\n",
              "    </tr>\n",
              "    <tr>\n",
              "      <th>5</th>\n",
              "      <td>76561198131701503</td>\n",
              "      <td>91.0</td>\n",
              "      <td>0.0</td>\n",
              "      <td>91</td>\n",
              "      <td>56.9</td>\n",
              "      <td>Batman: Arkham Asylum Game of the Year Edition</td>\n",
              "      <td>It may be close to a decade old, but don't let...</td>\n",
              "      <td>[Action, Adventure]</td>\n",
              "    </tr>\n",
              "    <tr>\n",
              "      <th>6</th>\n",
              "      <td>76561198265084773</td>\n",
              "      <td>91.0</td>\n",
              "      <td>0.0</td>\n",
              "      <td>91</td>\n",
              "      <td>54.2</td>\n",
              "      <td>Batman: Arkham Asylum Game of the Year Edition</td>\n",
              "      <td>Good story and graphics for 2009, only downsid...</td>\n",
              "      <td>[Action, Adventure]</td>\n",
              "    </tr>\n",
              "    <tr>\n",
              "      <th>...</th>\n",
              "      <td>...</td>\n",
              "      <td>...</td>\n",
              "      <td>...</td>\n",
              "      <td>...</td>\n",
              "      <td>...</td>\n",
              "      <td>...</td>\n",
              "      <td>...</td>\n",
              "      <td>...</td>\n",
              "    </tr>\n",
              "    <tr>\n",
              "      <th>389710</th>\n",
              "      <td>76561198073243816</td>\n",
              "      <td>79.0</td>\n",
              "      <td>0.0</td>\n",
              "      <td>79</td>\n",
              "      <td>11.9</td>\n",
              "      <td>Life is Strange: Before the Storm</td>\n",
              "      <td>Wow... It is definitely different from the ori...</td>\n",
              "      <td>[Action, Adventure]</td>\n",
              "    </tr>\n",
              "    <tr>\n",
              "      <th>389713</th>\n",
              "      <td>76561197980301339</td>\n",
              "      <td>79.0</td>\n",
              "      <td>0.0</td>\n",
              "      <td>79</td>\n",
              "      <td>18.3</td>\n",
              "      <td>Life is Strange: Before the Storm</td>\n",
              "      <td>Hella great.</td>\n",
              "      <td>[Action, Adventure]</td>\n",
              "    </tr>\n",
              "    <tr>\n",
              "      <th>389788</th>\n",
              "      <td>76561198276798449</td>\n",
              "      <td>49.0</td>\n",
              "      <td>0.0</td>\n",
              "      <td>49</td>\n",
              "      <td>4.7</td>\n",
              "      <td>Guards</td>\n",
              "      <td>First of all, I want to note the style of figh...</td>\n",
              "      <td>[Adventure, Indie, Strategy]</td>\n",
              "    </tr>\n",
              "    <tr>\n",
              "      <th>389789</th>\n",
              "      <td>76561197992674721</td>\n",
              "      <td>49.0</td>\n",
              "      <td>0.0</td>\n",
              "      <td>49</td>\n",
              "      <td>5.8</td>\n",
              "      <td>Guards</td>\n",
              "      <td>A pure GEM !!!\\nIdle turn based game, just swi...</td>\n",
              "      <td>[Adventure, Indie, Strategy]</td>\n",
              "    </tr>\n",
              "    <tr>\n",
              "      <th>389790</th>\n",
              "      <td>76561198047193316</td>\n",
              "      <td>49.0</td>\n",
              "      <td>3.0</td>\n",
              "      <td>49</td>\n",
              "      <td>39.1</td>\n",
              "      <td>Guards</td>\n",
              "      <td>I can describe this game as unusual one!\\nAt f...</td>\n",
              "      <td>[Adventure, Indie, Strategy]</td>\n",
              "    </tr>\n",
              "  </tbody>\n",
              "</table>\n",
              "<p>93440 rows × 8 columns</p>\n",
              "</div>"
            ],
            "text/plain": [
              "                  user_id  ...                        genres\n",
              "2       76561198353396844  ...           [Action, Adventure]\n",
              "3       76561198292325099  ...           [Action, Adventure]\n",
              "4       76561198382309565  ...           [Action, Adventure]\n",
              "5       76561198131701503  ...           [Action, Adventure]\n",
              "6       76561198265084773  ...           [Action, Adventure]\n",
              "...                   ...  ...                           ...\n",
              "389710  76561198073243816  ...           [Action, Adventure]\n",
              "389713  76561197980301339  ...           [Action, Adventure]\n",
              "389788  76561198276798449  ...  [Adventure, Indie, Strategy]\n",
              "389789  76561197992674721  ...  [Adventure, Indie, Strategy]\n",
              "389790  76561198047193316  ...  [Adventure, Indie, Strategy]\n",
              "\n",
              "[93440 rows x 8 columns]"
            ]
          },
          "metadata": {},
          "execution_count": 16
        }
      ]
    },
    {
      "cell_type": "markdown",
      "metadata": {
        "id": "qbiOA3B7lEFB"
      },
      "source": [
        "**Visualización de datos NA.**"
      ]
    },
    {
      "cell_type": "code",
      "metadata": {
        "colab": {
          "base_uri": "https://localhost:8080/"
        },
        "id": "FnX1HcDTlEFK",
        "outputId": "7ff515ab-288a-4f5d-9648-ee1c0de1c465"
      },
      "source": [
        "data_reviews2.isna().sum()"
      ],
      "execution_count": null,
      "outputs": [
        {
          "output_type": "execute_result",
          "data": {
            "text/plain": [
              "user_id        0\n",
              "product_id     0\n",
              "found_funny    0\n",
              "metascore      0\n",
              "hours          0\n",
              "title          0\n",
              "text           0\n",
              "genres         0\n",
              "dtype: int64"
            ]
          },
          "metadata": {},
          "execution_count": 60
        }
      ]
    },
    {
      "cell_type": "markdown",
      "metadata": {
        "id": "-5O1p6F1D2xV"
      },
      "source": [
        "**Tratamiento de outliers:**"
      ]
    },
    {
      "cell_type": "markdown",
      "metadata": {
        "id": "jLrAr0hvCPY_"
      },
      "source": [
        "Aparentemente la variable found_funny que será nuestro target, está muy sesgada, cualquier persona puede darle manito arriba en found_funny reiteradas veces, cuantas quiera, entonces hay que adoptar un criterio para tratar esos outliers.\n",
        "Si un juego nos gusta demasiado, hablando dentro de parametros reales, uno mas de 30 veces (como muchísimo) no le daría manito arriba a un juego.."
      ]
    },
    {
      "cell_type": "code",
      "metadata": {
        "colab": {
          "base_uri": "https://localhost:8080/",
          "height": 622
        },
        "id": "NaH0k_aVLT7V",
        "outputId": "85e41d1c-e743-4a55-8691-86097ed31185"
      },
      "source": [
        "plt.figure(figsize=(14,10))\n",
        "sns.boxplot(x=data_reviews2[~data_reviews2[\"found_funny\"].isna()][\"found_funny\"])"
      ],
      "execution_count": null,
      "outputs": [
        {
          "output_type": "execute_result",
          "data": {
            "text/plain": [
              "<matplotlib.axes._subplots.AxesSubplot at 0x7f474f9e9490>"
            ]
          },
          "metadata": {},
          "execution_count": 21
        },
        {
          "output_type": "display_data",
          "data": {
            "image/png": "[encoded data removed]",
            "text/plain": [
              "<Figure size 1008x720 with 1 Axes>"
            ]
          },
          "metadata": {
            "needs_background": "light"
          }
        }
      ]
    },
    {
      "cell_type": "code",
      "metadata": {
        "id": "UP1naY1bMmGo"
      },
      "source": [
        "data_reviews2 = data_reviews2[(data_reviews2.found_funny <= 20)]"
      ],
      "execution_count": null,
      "outputs": []
    },
    {
      "cell_type": "markdown",
      "metadata": {
        "id": "E-iRAdrwCXiQ"
      },
      "source": [
        "Se eligió el número 20 por criterio propio."
      ]
    },
    {
      "cell_type": "code",
      "metadata": {
        "colab": {
          "base_uri": "https://localhost:8080/",
          "height": 622
        },
        "id": "gHUp1mnJ2ppy",
        "outputId": "a5bce15d-18b7-436a-e4f7-b3c19a4abc95"
      },
      "source": [
        "plt.figure(figsize=(14,10))\n",
        "sns.boxplot(x=data_reviews2[~data_reviews2[\"found_funny\"].isna()][\"found_funny\"])"
      ],
      "execution_count": null,
      "outputs": [
        {
          "output_type": "execute_result",
          "data": {
            "text/plain": [
              "<matplotlib.axes._subplots.AxesSubplot at 0x7f474f0ab310>"
            ]
          },
          "metadata": {},
          "execution_count": 23
        },
        {
          "output_type": "display_data",
          "data": {
            "image/png": "[encoded data removed]",
            "text/plain": [
              "<Figure size 1008x720 with 1 Axes>"
            ]
          },
          "metadata": {
            "needs_background": "light"
          }
        }
      ]
    },
    {
      "cell_type": "markdown",
      "metadata": {
        "id": "PmZK7mypCbLr"
      },
      "source": [
        "Con la variable hours sucede lo mismo, tiene muchos outliers, pero aquí entra en juego mi experiencia como usuario en steam, yo personalmente tengo mas de 2000 y 3000 horas en distintos juegos dentro de steam, tengo además, usuarios amigos agregados dentro de la plataforma que también comparten esa cantidad de horas y aún más, por lo tanto optaré por colocar un tope de 5000hs, porque si bien conozco gente que tiene más horas, ya pasarían a ser los menos."
      ]
    },
    {
      "cell_type": "code",
      "metadata": {
        "colab": {
          "base_uri": "https://localhost:8080/",
          "height": 622
        },
        "id": "YzIwYaXAD9ga",
        "outputId": "63cb5ede-47fb-428c-c6c9-284b8644404f"
      },
      "source": [
        "plt.figure(figsize=(14,10))\n",
        "sns.boxplot(x=data_reviews2[~data_reviews2[\"hours\"].isna()][\"hours\"])"
      ],
      "execution_count": null,
      "outputs": [
        {
          "output_type": "execute_result",
          "data": {
            "text/plain": [
              "<matplotlib.axes._subplots.AxesSubplot at 0x7f474e89c850>"
            ]
          },
          "metadata": {},
          "execution_count": 24
        },
        {
          "output_type": "display_data",
          "data": {
            "image/png": "[encoded data removed]",
            "text/plain": [
              "<Figure size 1008x720 with 1 Axes>"
            ]
          },
          "metadata": {
            "needs_background": "light"
          }
        }
      ]
    },
    {
      "cell_type": "code",
      "metadata": {
        "id": "Ha_SN_GyAT-w"
      },
      "source": [
        "data_reviews2 = data_reviews2[(data_reviews2.hours <= 5000) & (data_reviews2.hours >= 3)]"
      ],
      "execution_count": null,
      "outputs": []
    },
    {
      "cell_type": "markdown",
      "metadata": {
        "id": "HaVMalIPE5FL"
      },
      "source": [
        "En base a mi experiencia como player, con tan solo tres horas de gameplay dentro de un juego, ya se puede dar una cierta impresíon o valorización."
      ]
    },
    {
      "cell_type": "code",
      "metadata": {
        "colab": {
          "base_uri": "https://localhost:8080/",
          "height": 622
        },
        "id": "GfH2_SS1Mkpi",
        "outputId": "2418fec4-fee6-401f-da8d-a84bb481de29"
      },
      "source": [
        "plt.figure(figsize=(14,10))\n",
        "sns.boxplot(x=data_reviews2[~data_reviews2[\"hours\"].isna()][\"hours\"])"
      ],
      "execution_count": null,
      "outputs": [
        {
          "output_type": "execute_result",
          "data": {
            "text/plain": [
              "<matplotlib.axes._subplots.AxesSubplot at 0x7f474db9cc10>"
            ]
          },
          "metadata": {},
          "execution_count": 26
        },
        {
          "output_type": "display_data",
          "data": {
            "image/png": "[encoded data removed]",
            "text/plain": [
              "<Figure size 1008x720 with 1 Axes>"
            ]
          },
          "metadata": {
            "needs_background": "light"
          }
        }
      ]
    },
    {
      "cell_type": "markdown",
      "metadata": {
        "id": "Zu_ZadC5ZIkL"
      },
      "source": [
        "A continuación se verán como estan distribuidos los valores de found_funny."
      ]
    },
    {
      "cell_type": "code",
      "metadata": {
        "colab": {
          "base_uri": "https://localhost:8080/",
          "height": 401
        },
        "id": "jIbu_t6xEYBj",
        "outputId": "7b0a24f9-9ed6-4ac0-99bc-a83bb88308db"
      },
      "source": [
        "plt.figure(figsize=(10,20))\n",
        "sns.displot(x=data_reviews2['found_funny'])"
      ],
      "execution_count": null,
      "outputs": [
        {
          "output_type": "execute_result",
          "data": {
            "text/plain": [
              "<seaborn.axisgrid.FacetGrid at 0x7f474d4d6550>"
            ]
          },
          "metadata": {},
          "execution_count": 27
        },
        {
          "output_type": "display_data",
          "data": {
            "text/plain": [
              "<Figure size 720x1440 with 0 Axes>"
            ]
          },
          "metadata": {}
        },
        {
          "output_type": "display_data",
          "data": {
            "image/png": "[encoded data removed]",
            "text/plain": [
              "<Figure size 360x360 with 1 Axes>"
            ]
          },
          "metadata": {
            "needs_background": "light"
          }
        }
      ]
    },
    {
      "cell_type": "code",
      "metadata": {
        "id": "_CC3cDkRhhZc"
      },
      "source": [
        "# Vamos a tratar la columna de generos.\n",
        "data_reviews2.dropna(subset = [\"genres\"], inplace=True)"
      ],
      "execution_count": null,
      "outputs": []
    },
    {
      "cell_type": "code",
      "metadata": {
        "id": "Qvmfz5jZj-6N"
      },
      "source": [
        "data_reviews3 = data_reviews2.copy()"
      ],
      "execution_count": null,
      "outputs": []
    },
    {
      "cell_type": "code",
      "metadata": {
        "id": "tzlR03trV8bh"
      },
      "source": [
        "data_reviews4 = data_reviews2.copy()"
      ],
      "execution_count": null,
      "outputs": []
    },
    {
      "cell_type": "markdown",
      "metadata": {
        "id": "j964kklFfa6N"
      },
      "source": [
        "Aqui lo que haremos es encodear las variables de generos."
      ]
    },
    {
      "cell_type": "code",
      "metadata": {
        "id": "w2CsbG4tkGP7"
      },
      "source": [
        "for index, row in data_reviews3.iterrows():\n",
        "  for genres in row[\"genres\"]:\n",
        "    data_reviews3.at[index, genres] = 1\n"
      ],
      "execution_count": null,
      "outputs": []
    },
    {
      "cell_type": "code",
      "metadata": {
        "id": "gJ3DXSP1YqzD"
      },
      "source": [
        "for index, row in data_reviews4.iterrows():\n",
        "  for genres in row[\"genres\"]:\n",
        "    data_reviews4.at[index, genres] = 1"
      ],
      "execution_count": null,
      "outputs": []
    },
    {
      "cell_type": "markdown",
      "metadata": {
        "id": "59l5wkxUfiN4"
      },
      "source": [
        "Llenamos de 0 las variables de encodeo que estan con nan."
      ]
    },
    {
      "cell_type": "code",
      "metadata": {
        "id": "QMbQVqepktoO"
      },
      "source": [
        "data_reviews3 = data_reviews3.fillna(0)"
      ],
      "execution_count": null,
      "outputs": []
    },
    {
      "cell_type": "code",
      "metadata": {
        "id": "Y1vi1KPdZSES"
      },
      "source": [
        "data_reviews4 = data_reviews4.fillna(0)"
      ],
      "execution_count": null,
      "outputs": []
    },
    {
      "cell_type": "code",
      "metadata": {
        "colab": {
          "base_uri": "https://localhost:8080/"
        },
        "id": "vzJ-qZkFZBea",
        "outputId": "fd134493-9379-44f5-831e-586dc99a8d22"
      },
      "source": [
        "data_reviews4.isna().sum()"
      ],
      "execution_count": null,
      "outputs": [
        {
          "output_type": "execute_result",
          "data": {
            "text/plain": [
              "user_id                  0\n",
              "product_id               0\n",
              "found_funny              0\n",
              "metascore                0\n",
              "hours                    0\n",
              "title                    0\n",
              "text                     0\n",
              "genres                   0\n",
              "Action                   0\n",
              "Adventure                0\n",
              "Casual                   0\n",
              "Indie                    0\n",
              "RPG                      0\n",
              "Strategy                 0\n",
              "Simulation               0\n",
              "Sports                   0\n",
              "Free to Play             0\n",
              "Racing                   0\n",
              "Massively Multiplayer    0\n",
              "Early Access             0\n",
              "dtype: int64"
            ]
          },
          "metadata": {},
          "execution_count": 29
        }
      ]
    },
    {
      "cell_type": "code",
      "metadata": {
        "colab": {
          "base_uri": "https://localhost:8080/",
          "height": 977
        },
        "id": "BQWoo1gMk30j",
        "outputId": "825a3cd2-24eb-4869-b3a6-eb88cb67ea74"
      },
      "source": [
        "data_reviews3"
      ],
      "execution_count": null,
      "outputs": [
        {
          "output_type": "execute_result",
          "data": {
            "text/html": [
              "<div>\n",
              "<style scoped>\n",
              "    .dataframe tbody tr th:only-of-type {\n",
              "        vertical-align: middle;\n",
              "    }\n",
              "\n",
              "    .dataframe tbody tr th {\n",
              "        vertical-align: top;\n",
              "    }\n",
              "\n",
              "    .dataframe thead th {\n",
              "        text-align: right;\n",
              "    }\n",
              "</style>\n",
              "<table border=\"1\" class=\"dataframe\">\n",
              "  <thead>\n",
              "    <tr style=\"text-align: right;\">\n",
              "      <th></th>\n",
              "      <th>user_id</th>\n",
              "      <th>product_id</th>\n",
              "      <th>found_funny</th>\n",
              "      <th>metascore</th>\n",
              "      <th>hours</th>\n",
              "      <th>title</th>\n",
              "      <th>text</th>\n",
              "      <th>genres</th>\n",
              "      <th>Action</th>\n",
              "      <th>Adventure</th>\n",
              "      <th>Casual</th>\n",
              "      <th>Indie</th>\n",
              "      <th>RPG</th>\n",
              "      <th>Strategy</th>\n",
              "      <th>Simulation</th>\n",
              "      <th>Sports</th>\n",
              "      <th>Free to Play</th>\n",
              "      <th>Racing</th>\n",
              "      <th>Massively Multiplayer</th>\n",
              "      <th>Early Access</th>\n",
              "    </tr>\n",
              "  </thead>\n",
              "  <tbody>\n",
              "    <tr>\n",
              "      <th>2</th>\n",
              "      <td>76561198353396844</td>\n",
              "      <td>91.0</td>\n",
              "      <td>0.0</td>\n",
              "      <td>91</td>\n",
              "      <td>8.2</td>\n",
              "      <td>Batman: Arkham Asylum Game of the Year Edition</td>\n",
              "      <td>This game was way to linear for me, and compar...</td>\n",
              "      <td>[Action, Adventure]</td>\n",
              "      <td>1.0</td>\n",
              "      <td>1.0</td>\n",
              "      <td>0.0</td>\n",
              "      <td>0.0</td>\n",
              "      <td>0.0</td>\n",
              "      <td>0.0</td>\n",
              "      <td>0.0</td>\n",
              "      <td>0.0</td>\n",
              "      <td>0.0</td>\n",
              "      <td>0.0</td>\n",
              "      <td>0.0</td>\n",
              "      <td>0.0</td>\n",
              "    </tr>\n",
              "    <tr>\n",
              "      <th>3</th>\n",
              "      <td>76561198292325099</td>\n",
              "      <td>91.0</td>\n",
              "      <td>0.0</td>\n",
              "      <td>91</td>\n",
              "      <td>9.5</td>\n",
              "      <td>Batman: Arkham Asylum Game of the Year Edition</td>\n",
              "      <td>Fun Game. I played shadow of mordor before pla...</td>\n",
              "      <td>[Action, Adventure]</td>\n",
              "      <td>1.0</td>\n",
              "      <td>1.0</td>\n",
              "      <td>0.0</td>\n",
              "      <td>0.0</td>\n",
              "      <td>0.0</td>\n",
              "      <td>0.0</td>\n",
              "      <td>0.0</td>\n",
              "      <td>0.0</td>\n",
              "      <td>0.0</td>\n",
              "      <td>0.0</td>\n",
              "      <td>0.0</td>\n",
              "      <td>0.0</td>\n",
              "    </tr>\n",
              "    <tr>\n",
              "      <th>4</th>\n",
              "      <td>76561198382309565</td>\n",
              "      <td>91.0</td>\n",
              "      <td>0.0</td>\n",
              "      <td>91</td>\n",
              "      <td>16.1</td>\n",
              "      <td>Batman: Arkham Asylum Game of the Year Edition</td>\n",
              "      <td>Absolutely dark as a bag. Love this game.</td>\n",
              "      <td>[Action, Adventure]</td>\n",
              "      <td>1.0</td>\n",
              "      <td>1.0</td>\n",
              "      <td>0.0</td>\n",
              "      <td>0.0</td>\n",
              "      <td>0.0</td>\n",
              "      <td>0.0</td>\n",
              "      <td>0.0</td>\n",
              "      <td>0.0</td>\n",
              "      <td>0.0</td>\n",
              "      <td>0.0</td>\n",
              "      <td>0.0</td>\n",
              "      <td>0.0</td>\n",
              "    </tr>\n",
              "    <tr>\n",
              "      <th>5</th>\n",
              "      <td>76561198131701503</td>\n",
              "      <td>91.0</td>\n",
              "      <td>0.0</td>\n",
              "      <td>91</td>\n",
              "      <td>56.9</td>\n",
              "      <td>Batman: Arkham Asylum Game of the Year Edition</td>\n",
              "      <td>It may be close to a decade old, but don't let...</td>\n",
              "      <td>[Action, Adventure]</td>\n",
              "      <td>1.0</td>\n",
              "      <td>1.0</td>\n",
              "      <td>0.0</td>\n",
              "      <td>0.0</td>\n",
              "      <td>0.0</td>\n",
              "      <td>0.0</td>\n",
              "      <td>0.0</td>\n",
              "      <td>0.0</td>\n",
              "      <td>0.0</td>\n",
              "      <td>0.0</td>\n",
              "      <td>0.0</td>\n",
              "      <td>0.0</td>\n",
              "    </tr>\n",
              "    <tr>\n",
              "      <th>6</th>\n",
              "      <td>76561198265084773</td>\n",
              "      <td>91.0</td>\n",
              "      <td>0.0</td>\n",
              "      <td>91</td>\n",
              "      <td>54.2</td>\n",
              "      <td>Batman: Arkham Asylum Game of the Year Edition</td>\n",
              "      <td>Good story and graphics for 2009, only downsid...</td>\n",
              "      <td>[Action, Adventure]</td>\n",
              "      <td>1.0</td>\n",
              "      <td>1.0</td>\n",
              "      <td>0.0</td>\n",
              "      <td>0.0</td>\n",
              "      <td>0.0</td>\n",
              "      <td>0.0</td>\n",
              "      <td>0.0</td>\n",
              "      <td>0.0</td>\n",
              "      <td>0.0</td>\n",
              "      <td>0.0</td>\n",
              "      <td>0.0</td>\n",
              "      <td>0.0</td>\n",
              "    </tr>\n",
              "    <tr>\n",
              "      <th>...</th>\n",
              "      <td>...</td>\n",
              "      <td>...</td>\n",
              "      <td>...</td>\n",
              "      <td>...</td>\n",
              "      <td>...</td>\n",
              "      <td>...</td>\n",
              "      <td>...</td>\n",
              "      <td>...</td>\n",
              "      <td>...</td>\n",
              "      <td>...</td>\n",
              "      <td>...</td>\n",
              "      <td>...</td>\n",
              "      <td>...</td>\n",
              "      <td>...</td>\n",
              "      <td>...</td>\n",
              "      <td>...</td>\n",
              "      <td>...</td>\n",
              "      <td>...</td>\n",
              "      <td>...</td>\n",
              "      <td>...</td>\n",
              "    </tr>\n",
              "    <tr>\n",
              "      <th>389710</th>\n",
              "      <td>76561198073243816</td>\n",
              "      <td>79.0</td>\n",
              "      <td>0.0</td>\n",
              "      <td>79</td>\n",
              "      <td>11.9</td>\n",
              "      <td>Life is Strange: Before the Storm</td>\n",
              "      <td>Wow... It is definitely different from the ori...</td>\n",
              "      <td>[Action, Adventure]</td>\n",
              "      <td>1.0</td>\n",
              "      <td>1.0</td>\n",
              "      <td>0.0</td>\n",
              "      <td>0.0</td>\n",
              "      <td>0.0</td>\n",
              "      <td>0.0</td>\n",
              "      <td>0.0</td>\n",
              "      <td>0.0</td>\n",
              "      <td>0.0</td>\n",
              "      <td>0.0</td>\n",
              "      <td>0.0</td>\n",
              "      <td>0.0</td>\n",
              "    </tr>\n",
              "    <tr>\n",
              "      <th>389713</th>\n",
              "      <td>76561197980301339</td>\n",
              "      <td>79.0</td>\n",
              "      <td>0.0</td>\n",
              "      <td>79</td>\n",
              "      <td>18.3</td>\n",
              "      <td>Life is Strange: Before the Storm</td>\n",
              "      <td>Hella great.</td>\n",
              "      <td>[Action, Adventure]</td>\n",
              "      <td>1.0</td>\n",
              "      <td>1.0</td>\n",
              "      <td>0.0</td>\n",
              "      <td>0.0</td>\n",
              "      <td>0.0</td>\n",
              "      <td>0.0</td>\n",
              "      <td>0.0</td>\n",
              "      <td>0.0</td>\n",
              "      <td>0.0</td>\n",
              "      <td>0.0</td>\n",
              "      <td>0.0</td>\n",
              "      <td>0.0</td>\n",
              "    </tr>\n",
              "    <tr>\n",
              "      <th>389788</th>\n",
              "      <td>76561198276798449</td>\n",
              "      <td>49.0</td>\n",
              "      <td>0.0</td>\n",
              "      <td>49</td>\n",
              "      <td>4.7</td>\n",
              "      <td>Guards</td>\n",
              "      <td>First of all, I want to note the style of figh...</td>\n",
              "      <td>[Adventure, Indie, Strategy]</td>\n",
              "      <td>0.0</td>\n",
              "      <td>1.0</td>\n",
              "      <td>0.0</td>\n",
              "      <td>1.0</td>\n",
              "      <td>0.0</td>\n",
              "      <td>1.0</td>\n",
              "      <td>0.0</td>\n",
              "      <td>0.0</td>\n",
              "      <td>0.0</td>\n",
              "      <td>0.0</td>\n",
              "      <td>0.0</td>\n",
              "      <td>0.0</td>\n",
              "    </tr>\n",
              "    <tr>\n",
              "      <th>389789</th>\n",
              "      <td>76561197992674721</td>\n",
              "      <td>49.0</td>\n",
              "      <td>0.0</td>\n",
              "      <td>49</td>\n",
              "      <td>5.8</td>\n",
              "      <td>Guards</td>\n",
              "      <td>A pure GEM !!!\\nIdle turn based game, just swi...</td>\n",
              "      <td>[Adventure, Indie, Strategy]</td>\n",
              "      <td>0.0</td>\n",
              "      <td>1.0</td>\n",
              "      <td>0.0</td>\n",
              "      <td>1.0</td>\n",
              "      <td>0.0</td>\n",
              "      <td>1.0</td>\n",
              "      <td>0.0</td>\n",
              "      <td>0.0</td>\n",
              "      <td>0.0</td>\n",
              "      <td>0.0</td>\n",
              "      <td>0.0</td>\n",
              "      <td>0.0</td>\n",
              "    </tr>\n",
              "    <tr>\n",
              "      <th>389790</th>\n",
              "      <td>76561198047193316</td>\n",
              "      <td>49.0</td>\n",
              "      <td>3.0</td>\n",
              "      <td>49</td>\n",
              "      <td>39.1</td>\n",
              "      <td>Guards</td>\n",
              "      <td>I can describe this game as unusual one!\\nAt f...</td>\n",
              "      <td>[Adventure, Indie, Strategy]</td>\n",
              "      <td>0.0</td>\n",
              "      <td>1.0</td>\n",
              "      <td>0.0</td>\n",
              "      <td>1.0</td>\n",
              "      <td>0.0</td>\n",
              "      <td>1.0</td>\n",
              "      <td>0.0</td>\n",
              "      <td>0.0</td>\n",
              "      <td>0.0</td>\n",
              "      <td>0.0</td>\n",
              "      <td>0.0</td>\n",
              "      <td>0.0</td>\n",
              "    </tr>\n",
              "  </tbody>\n",
              "</table>\n",
              "<p>80871 rows × 20 columns</p>\n",
              "</div>"
            ],
            "text/plain": [
              "                  user_id  product_id  ...  Massively Multiplayer  Early Access\n",
              "2       76561198353396844        91.0  ...                    0.0           0.0\n",
              "3       76561198292325099        91.0  ...                    0.0           0.0\n",
              "4       76561198382309565        91.0  ...                    0.0           0.0\n",
              "5       76561198131701503        91.0  ...                    0.0           0.0\n",
              "6       76561198265084773        91.0  ...                    0.0           0.0\n",
              "...                   ...         ...  ...                    ...           ...\n",
              "389710  76561198073243816        79.0  ...                    0.0           0.0\n",
              "389713  76561197980301339        79.0  ...                    0.0           0.0\n",
              "389788  76561198276798449        49.0  ...                    0.0           0.0\n",
              "389789  76561197992674721        49.0  ...                    0.0           0.0\n",
              "389790  76561198047193316        49.0  ...                    0.0           0.0\n",
              "\n",
              "[80871 rows x 20 columns]"
            ]
          },
          "metadata": {},
          "execution_count": 28
        }
      ]
    },
    {
      "cell_type": "code",
      "metadata": {
        "colab": {
          "base_uri": "https://localhost:8080/",
          "height": 977
        },
        "id": "io28Oe8PWRcU",
        "outputId": "b8024fd5-4632-4291-8058-8467b0d69690"
      },
      "source": [
        "data_reviews4"
      ],
      "execution_count": null,
      "outputs": [
        {
          "output_type": "execute_result",
          "data": {
            "text/html": [
              "<div>\n",
              "<style scoped>\n",
              "    .dataframe tbody tr th:only-of-type {\n",
              "        vertical-align: middle;\n",
              "    }\n",
              "\n",
              "    .dataframe tbody tr th {\n",
              "        vertical-align: top;\n",
              "    }\n",
              "\n",
              "    .dataframe thead th {\n",
              "        text-align: right;\n",
              "    }\n",
              "</style>\n",
              "<table border=\"1\" class=\"dataframe\">\n",
              "  <thead>\n",
              "    <tr style=\"text-align: right;\">\n",
              "      <th></th>\n",
              "      <th>user_id</th>\n",
              "      <th>product_id</th>\n",
              "      <th>found_funny</th>\n",
              "      <th>metascore</th>\n",
              "      <th>hours</th>\n",
              "      <th>title</th>\n",
              "      <th>text</th>\n",
              "      <th>genres</th>\n",
              "      <th>Action</th>\n",
              "      <th>Adventure</th>\n",
              "      <th>Casual</th>\n",
              "      <th>Indie</th>\n",
              "      <th>RPG</th>\n",
              "      <th>Strategy</th>\n",
              "      <th>Simulation</th>\n",
              "      <th>Sports</th>\n",
              "      <th>Free to Play</th>\n",
              "      <th>Racing</th>\n",
              "      <th>Massively Multiplayer</th>\n",
              "      <th>Early Access</th>\n",
              "    </tr>\n",
              "  </thead>\n",
              "  <tbody>\n",
              "    <tr>\n",
              "      <th>2</th>\n",
              "      <td>76561198353396844</td>\n",
              "      <td>91.0</td>\n",
              "      <td>0.0</td>\n",
              "      <td>91</td>\n",
              "      <td>8.2</td>\n",
              "      <td>Batman: Arkham Asylum Game of the Year Edition</td>\n",
              "      <td>This game was way to linear for me, and compar...</td>\n",
              "      <td>[Action, Adventure]</td>\n",
              "      <td>1.0</td>\n",
              "      <td>1.0</td>\n",
              "      <td>0.0</td>\n",
              "      <td>0.0</td>\n",
              "      <td>0.0</td>\n",
              "      <td>0.0</td>\n",
              "      <td>0.0</td>\n",
              "      <td>0.0</td>\n",
              "      <td>0.0</td>\n",
              "      <td>0.0</td>\n",
              "      <td>0.0</td>\n",
              "      <td>0.0</td>\n",
              "    </tr>\n",
              "    <tr>\n",
              "      <th>3</th>\n",
              "      <td>76561198292325099</td>\n",
              "      <td>91.0</td>\n",
              "      <td>0.0</td>\n",
              "      <td>91</td>\n",
              "      <td>9.5</td>\n",
              "      <td>Batman: Arkham Asylum Game of the Year Edition</td>\n",
              "      <td>Fun Game. I played shadow of mordor before pla...</td>\n",
              "      <td>[Action, Adventure]</td>\n",
              "      <td>1.0</td>\n",
              "      <td>1.0</td>\n",
              "      <td>0.0</td>\n",
              "      <td>0.0</td>\n",
              "      <td>0.0</td>\n",
              "      <td>0.0</td>\n",
              "      <td>0.0</td>\n",
              "      <td>0.0</td>\n",
              "      <td>0.0</td>\n",
              "      <td>0.0</td>\n",
              "      <td>0.0</td>\n",
              "      <td>0.0</td>\n",
              "    </tr>\n",
              "    <tr>\n",
              "      <th>4</th>\n",
              "      <td>76561198382309565</td>\n",
              "      <td>91.0</td>\n",
              "      <td>0.0</td>\n",
              "      <td>91</td>\n",
              "      <td>16.1</td>\n",
              "      <td>Batman: Arkham Asylum Game of the Year Edition</td>\n",
              "      <td>Absolutely dark as a bag. Love this game.</td>\n",
              "      <td>[Action, Adventure]</td>\n",
              "      <td>1.0</td>\n",
              "      <td>1.0</td>\n",
              "      <td>0.0</td>\n",
              "      <td>0.0</td>\n",
              "      <td>0.0</td>\n",
              "      <td>0.0</td>\n",
              "      <td>0.0</td>\n",
              "      <td>0.0</td>\n",
              "      <td>0.0</td>\n",
              "      <td>0.0</td>\n",
              "      <td>0.0</td>\n",
              "      <td>0.0</td>\n",
              "    </tr>\n",
              "    <tr>\n",
              "      <th>5</th>\n",
              "      <td>76561198131701503</td>\n",
              "      <td>91.0</td>\n",
              "      <td>0.0</td>\n",
              "      <td>91</td>\n",
              "      <td>56.9</td>\n",
              "      <td>Batman: Arkham Asylum Game of the Year Edition</td>\n",
              "      <td>It may be close to a decade old, but don't let...</td>\n",
              "      <td>[Action, Adventure]</td>\n",
              "      <td>1.0</td>\n",
              "      <td>1.0</td>\n",
              "      <td>0.0</td>\n",
              "      <td>0.0</td>\n",
              "      <td>0.0</td>\n",
              "      <td>0.0</td>\n",
              "      <td>0.0</td>\n",
              "      <td>0.0</td>\n",
              "      <td>0.0</td>\n",
              "      <td>0.0</td>\n",
              "      <td>0.0</td>\n",
              "      <td>0.0</td>\n",
              "    </tr>\n",
              "    <tr>\n",
              "      <th>6</th>\n",
              "      <td>76561198265084773</td>\n",
              "      <td>91.0</td>\n",
              "      <td>0.0</td>\n",
              "      <td>91</td>\n",
              "      <td>54.2</td>\n",
              "      <td>Batman: Arkham Asylum Game of the Year Edition</td>\n",
              "      <td>Good story and graphics for 2009, only downsid...</td>\n",
              "      <td>[Action, Adventure]</td>\n",
              "      <td>1.0</td>\n",
              "      <td>1.0</td>\n",
              "      <td>0.0</td>\n",
              "      <td>0.0</td>\n",
              "      <td>0.0</td>\n",
              "      <td>0.0</td>\n",
              "      <td>0.0</td>\n",
              "      <td>0.0</td>\n",
              "      <td>0.0</td>\n",
              "      <td>0.0</td>\n",
              "      <td>0.0</td>\n",
              "      <td>0.0</td>\n",
              "    </tr>\n",
              "    <tr>\n",
              "      <th>...</th>\n",
              "      <td>...</td>\n",
              "      <td>...</td>\n",
              "      <td>...</td>\n",
              "      <td>...</td>\n",
              "      <td>...</td>\n",
              "      <td>...</td>\n",
              "      <td>...</td>\n",
              "      <td>...</td>\n",
              "      <td>...</td>\n",
              "      <td>...</td>\n",
              "      <td>...</td>\n",
              "      <td>...</td>\n",
              "      <td>...</td>\n",
              "      <td>...</td>\n",
              "      <td>...</td>\n",
              "      <td>...</td>\n",
              "      <td>...</td>\n",
              "      <td>...</td>\n",
              "      <td>...</td>\n",
              "      <td>...</td>\n",
              "    </tr>\n",
              "    <tr>\n",
              "      <th>389710</th>\n",
              "      <td>76561198073243816</td>\n",
              "      <td>79.0</td>\n",
              "      <td>0.0</td>\n",
              "      <td>79</td>\n",
              "      <td>11.9</td>\n",
              "      <td>Life is Strange: Before the Storm</td>\n",
              "      <td>Wow... It is definitely different from the ori...</td>\n",
              "      <td>[Action, Adventure]</td>\n",
              "      <td>1.0</td>\n",
              "      <td>1.0</td>\n",
              "      <td>0.0</td>\n",
              "      <td>0.0</td>\n",
              "      <td>0.0</td>\n",
              "      <td>0.0</td>\n",
              "      <td>0.0</td>\n",
              "      <td>0.0</td>\n",
              "      <td>0.0</td>\n",
              "      <td>0.0</td>\n",
              "      <td>0.0</td>\n",
              "      <td>0.0</td>\n",
              "    </tr>\n",
              "    <tr>\n",
              "      <th>389713</th>\n",
              "      <td>76561197980301339</td>\n",
              "      <td>79.0</td>\n",
              "      <td>0.0</td>\n",
              "      <td>79</td>\n",
              "      <td>18.3</td>\n",
              "      <td>Life is Strange: Before the Storm</td>\n",
              "      <td>Hella great.</td>\n",
              "      <td>[Action, Adventure]</td>\n",
              "      <td>1.0</td>\n",
              "      <td>1.0</td>\n",
              "      <td>0.0</td>\n",
              "      <td>0.0</td>\n",
              "      <td>0.0</td>\n",
              "      <td>0.0</td>\n",
              "      <td>0.0</td>\n",
              "      <td>0.0</td>\n",
              "      <td>0.0</td>\n",
              "      <td>0.0</td>\n",
              "      <td>0.0</td>\n",
              "      <td>0.0</td>\n",
              "    </tr>\n",
              "    <tr>\n",
              "      <th>389788</th>\n",
              "      <td>76561198276798449</td>\n",
              "      <td>49.0</td>\n",
              "      <td>0.0</td>\n",
              "      <td>49</td>\n",
              "      <td>4.7</td>\n",
              "      <td>Guards</td>\n",
              "      <td>First of all, I want to note the style of figh...</td>\n",
              "      <td>[Adventure, Indie, Strategy]</td>\n",
              "      <td>0.0</td>\n",
              "      <td>1.0</td>\n",
              "      <td>0.0</td>\n",
              "      <td>1.0</td>\n",
              "      <td>0.0</td>\n",
              "      <td>1.0</td>\n",
              "      <td>0.0</td>\n",
              "      <td>0.0</td>\n",
              "      <td>0.0</td>\n",
              "      <td>0.0</td>\n",
              "      <td>0.0</td>\n",
              "      <td>0.0</td>\n",
              "    </tr>\n",
              "    <tr>\n",
              "      <th>389789</th>\n",
              "      <td>76561197992674721</td>\n",
              "      <td>49.0</td>\n",
              "      <td>0.0</td>\n",
              "      <td>49</td>\n",
              "      <td>5.8</td>\n",
              "      <td>Guards</td>\n",
              "      <td>A pure GEM !!!\\nIdle turn based game, just swi...</td>\n",
              "      <td>[Adventure, Indie, Strategy]</td>\n",
              "      <td>0.0</td>\n",
              "      <td>1.0</td>\n",
              "      <td>0.0</td>\n",
              "      <td>1.0</td>\n",
              "      <td>0.0</td>\n",
              "      <td>1.0</td>\n",
              "      <td>0.0</td>\n",
              "      <td>0.0</td>\n",
              "      <td>0.0</td>\n",
              "      <td>0.0</td>\n",
              "      <td>0.0</td>\n",
              "      <td>0.0</td>\n",
              "    </tr>\n",
              "    <tr>\n",
              "      <th>389790</th>\n",
              "      <td>76561198047193316</td>\n",
              "      <td>49.0</td>\n",
              "      <td>3.0</td>\n",
              "      <td>49</td>\n",
              "      <td>39.1</td>\n",
              "      <td>Guards</td>\n",
              "      <td>I can describe this game as unusual one!\\nAt f...</td>\n",
              "      <td>[Adventure, Indie, Strategy]</td>\n",
              "      <td>0.0</td>\n",
              "      <td>1.0</td>\n",
              "      <td>0.0</td>\n",
              "      <td>1.0</td>\n",
              "      <td>0.0</td>\n",
              "      <td>1.0</td>\n",
              "      <td>0.0</td>\n",
              "      <td>0.0</td>\n",
              "      <td>0.0</td>\n",
              "      <td>0.0</td>\n",
              "      <td>0.0</td>\n",
              "      <td>0.0</td>\n",
              "    </tr>\n",
              "  </tbody>\n",
              "</table>\n",
              "<p>80871 rows × 20 columns</p>\n",
              "</div>"
            ],
            "text/plain": [
              "                  user_id  product_id  ...  Massively Multiplayer  Early Access\n",
              "2       76561198353396844        91.0  ...                    0.0           0.0\n",
              "3       76561198292325099        91.0  ...                    0.0           0.0\n",
              "4       76561198382309565        91.0  ...                    0.0           0.0\n",
              "5       76561198131701503        91.0  ...                    0.0           0.0\n",
              "6       76561198265084773        91.0  ...                    0.0           0.0\n",
              "...                   ...         ...  ...                    ...           ...\n",
              "389710  76561198073243816        79.0  ...                    0.0           0.0\n",
              "389713  76561197980301339        79.0  ...                    0.0           0.0\n",
              "389788  76561198276798449        49.0  ...                    0.0           0.0\n",
              "389789  76561197992674721        49.0  ...                    0.0           0.0\n",
              "389790  76561198047193316        49.0  ...                    0.0           0.0\n",
              "\n",
              "[80871 rows x 20 columns]"
            ]
          },
          "metadata": {},
          "execution_count": 29
        }
      ]
    },
    {
      "cell_type": "markdown",
      "metadata": {
        "id": "5ZxJMCt8i_SO"
      },
      "source": [
        "# MACHINE LEARNING"
      ]
    },
    {
      "cell_type": "markdown",
      "metadata": {
        "id": "IpH0qYEDfnve"
      },
      "source": [
        "Reordenamos nuestra futura data de entrenamiento."
      ]
    },
    {
      "cell_type": "code",
      "metadata": {
        "id": "aguRRyuKU1_J"
      },
      "source": [
        "data_train = data_reviews3[[\"user_id\", \"product_id\", \"found_funny\", \"hours\",\"Action\",\"Adventure\",\"Casual\",\"RPG\",\"Strategy\",\"Free to Play\",\"Massively Multiplayer\",\"Indie\",\"Early Access\",\"Simulation\",\"Sports\",\"Racing\"]]"
      ],
      "execution_count": null,
      "outputs": []
    },
    {
      "cell_type": "code",
      "metadata": {
        "id": "aOrzH0FmWYE6"
      },
      "source": [
        "data_train1 = data_reviews4[[\"user_id\", \"product_id\", \"metascore\", \"hours\",\"Action\",\"Adventure\",\"Casual\",\"RPG\",\"Strategy\",\"Free to Play\",\"Massively Multiplayer\",\"Indie\",\"Early Access\",\"Simulation\",\"Sports\",\"Racing\"]]"
      ],
      "execution_count": null,
      "outputs": []
    },
    {
      "cell_type": "code",
      "metadata": {
        "colab": {
          "base_uri": "https://localhost:8080/",
          "height": 408
        },
        "id": "2nCwZHKJYL9v",
        "outputId": "10b7514e-3d28-4bb6-8c45-0dbc6cd5de0c"
      },
      "source": [
        "data_train"
      ],
      "execution_count": null,
      "outputs": [
        {
          "output_type": "execute_result",
          "data": {
            "text/html": [
              "<div>\n",
              "<style scoped>\n",
              "    .dataframe tbody tr th:only-of-type {\n",
              "        vertical-align: middle;\n",
              "    }\n",
              "\n",
              "    .dataframe tbody tr th {\n",
              "        vertical-align: top;\n",
              "    }\n",
              "\n",
              "    .dataframe thead th {\n",
              "        text-align: right;\n",
              "    }\n",
              "</style>\n",
              "<table border=\"1\" class=\"dataframe\">\n",
              "  <thead>\n",
              "    <tr style=\"text-align: right;\">\n",
              "      <th></th>\n",
              "      <th>user_id</th>\n",
              "      <th>product_id</th>\n",
              "      <th>found_funny</th>\n",
              "      <th>hours</th>\n",
              "      <th>Action</th>\n",
              "      <th>Adventure</th>\n",
              "      <th>Casual</th>\n",
              "      <th>RPG</th>\n",
              "      <th>Strategy</th>\n",
              "      <th>Free to Play</th>\n",
              "      <th>Massively Multiplayer</th>\n",
              "      <th>Indie</th>\n",
              "      <th>Early Access</th>\n",
              "      <th>Simulation</th>\n",
              "      <th>Sports</th>\n",
              "      <th>Racing</th>\n",
              "    </tr>\n",
              "  </thead>\n",
              "  <tbody>\n",
              "    <tr>\n",
              "      <th>2</th>\n",
              "      <td>76561198353396844</td>\n",
              "      <td>91.0</td>\n",
              "      <td>0.0</td>\n",
              "      <td>8.2</td>\n",
              "      <td>1.0</td>\n",
              "      <td>1.0</td>\n",
              "      <td>0.0</td>\n",
              "      <td>0.0</td>\n",
              "      <td>0.0</td>\n",
              "      <td>0.0</td>\n",
              "      <td>0.0</td>\n",
              "      <td>0.0</td>\n",
              "      <td>0.0</td>\n",
              "      <td>0.0</td>\n",
              "      <td>0.0</td>\n",
              "      <td>0.0</td>\n",
              "    </tr>\n",
              "    <tr>\n",
              "      <th>3</th>\n",
              "      <td>76561198292325099</td>\n",
              "      <td>91.0</td>\n",
              "      <td>0.0</td>\n",
              "      <td>9.5</td>\n",
              "      <td>1.0</td>\n",
              "      <td>1.0</td>\n",
              "      <td>0.0</td>\n",
              "      <td>0.0</td>\n",
              "      <td>0.0</td>\n",
              "      <td>0.0</td>\n",
              "      <td>0.0</td>\n",
              "      <td>0.0</td>\n",
              "      <td>0.0</td>\n",
              "      <td>0.0</td>\n",
              "      <td>0.0</td>\n",
              "      <td>0.0</td>\n",
              "    </tr>\n",
              "    <tr>\n",
              "      <th>4</th>\n",
              "      <td>76561198382309565</td>\n",
              "      <td>91.0</td>\n",
              "      <td>0.0</td>\n",
              "      <td>16.1</td>\n",
              "      <td>1.0</td>\n",
              "      <td>1.0</td>\n",
              "      <td>0.0</td>\n",
              "      <td>0.0</td>\n",
              "      <td>0.0</td>\n",
              "      <td>0.0</td>\n",
              "      <td>0.0</td>\n",
              "      <td>0.0</td>\n",
              "      <td>0.0</td>\n",
              "      <td>0.0</td>\n",
              "      <td>0.0</td>\n",
              "      <td>0.0</td>\n",
              "    </tr>\n",
              "    <tr>\n",
              "      <th>5</th>\n",
              "      <td>76561198131701503</td>\n",
              "      <td>91.0</td>\n",
              "      <td>0.0</td>\n",
              "      <td>56.9</td>\n",
              "      <td>1.0</td>\n",
              "      <td>1.0</td>\n",
              "      <td>0.0</td>\n",
              "      <td>0.0</td>\n",
              "      <td>0.0</td>\n",
              "      <td>0.0</td>\n",
              "      <td>0.0</td>\n",
              "      <td>0.0</td>\n",
              "      <td>0.0</td>\n",
              "      <td>0.0</td>\n",
              "      <td>0.0</td>\n",
              "      <td>0.0</td>\n",
              "    </tr>\n",
              "    <tr>\n",
              "      <th>6</th>\n",
              "      <td>76561198265084773</td>\n",
              "      <td>91.0</td>\n",
              "      <td>0.0</td>\n",
              "      <td>54.2</td>\n",
              "      <td>1.0</td>\n",
              "      <td>1.0</td>\n",
              "      <td>0.0</td>\n",
              "      <td>0.0</td>\n",
              "      <td>0.0</td>\n",
              "      <td>0.0</td>\n",
              "      <td>0.0</td>\n",
              "      <td>0.0</td>\n",
              "      <td>0.0</td>\n",
              "      <td>0.0</td>\n",
              "      <td>0.0</td>\n",
              "      <td>0.0</td>\n",
              "    </tr>\n",
              "    <tr>\n",
              "      <th>...</th>\n",
              "      <td>...</td>\n",
              "      <td>...</td>\n",
              "      <td>...</td>\n",
              "      <td>...</td>\n",
              "      <td>...</td>\n",
              "      <td>...</td>\n",
              "      <td>...</td>\n",
              "      <td>...</td>\n",
              "      <td>...</td>\n",
              "      <td>...</td>\n",
              "      <td>...</td>\n",
              "      <td>...</td>\n",
              "      <td>...</td>\n",
              "      <td>...</td>\n",
              "      <td>...</td>\n",
              "      <td>...</td>\n",
              "    </tr>\n",
              "    <tr>\n",
              "      <th>389710</th>\n",
              "      <td>76561198073243816</td>\n",
              "      <td>79.0</td>\n",
              "      <td>0.0</td>\n",
              "      <td>11.9</td>\n",
              "      <td>1.0</td>\n",
              "      <td>1.0</td>\n",
              "      <td>0.0</td>\n",
              "      <td>0.0</td>\n",
              "      <td>0.0</td>\n",
              "      <td>0.0</td>\n",
              "      <td>0.0</td>\n",
              "      <td>0.0</td>\n",
              "      <td>0.0</td>\n",
              "      <td>0.0</td>\n",
              "      <td>0.0</td>\n",
              "      <td>0.0</td>\n",
              "    </tr>\n",
              "    <tr>\n",
              "      <th>389713</th>\n",
              "      <td>76561197980301339</td>\n",
              "      <td>79.0</td>\n",
              "      <td>0.0</td>\n",
              "      <td>18.3</td>\n",
              "      <td>1.0</td>\n",
              "      <td>1.0</td>\n",
              "      <td>0.0</td>\n",
              "      <td>0.0</td>\n",
              "      <td>0.0</td>\n",
              "      <td>0.0</td>\n",
              "      <td>0.0</td>\n",
              "      <td>0.0</td>\n",
              "      <td>0.0</td>\n",
              "      <td>0.0</td>\n",
              "      <td>0.0</td>\n",
              "      <td>0.0</td>\n",
              "    </tr>\n",
              "    <tr>\n",
              "      <th>389788</th>\n",
              "      <td>76561198276798449</td>\n",
              "      <td>49.0</td>\n",
              "      <td>0.0</td>\n",
              "      <td>4.7</td>\n",
              "      <td>0.0</td>\n",
              "      <td>1.0</td>\n",
              "      <td>0.0</td>\n",
              "      <td>0.0</td>\n",
              "      <td>1.0</td>\n",
              "      <td>0.0</td>\n",
              "      <td>0.0</td>\n",
              "      <td>1.0</td>\n",
              "      <td>0.0</td>\n",
              "      <td>0.0</td>\n",
              "      <td>0.0</td>\n",
              "      <td>0.0</td>\n",
              "    </tr>\n",
              "    <tr>\n",
              "      <th>389789</th>\n",
              "      <td>76561197992674721</td>\n",
              "      <td>49.0</td>\n",
              "      <td>0.0</td>\n",
              "      <td>5.8</td>\n",
              "      <td>0.0</td>\n",
              "      <td>1.0</td>\n",
              "      <td>0.0</td>\n",
              "      <td>0.0</td>\n",
              "      <td>1.0</td>\n",
              "      <td>0.0</td>\n",
              "      <td>0.0</td>\n",
              "      <td>1.0</td>\n",
              "      <td>0.0</td>\n",
              "      <td>0.0</td>\n",
              "      <td>0.0</td>\n",
              "      <td>0.0</td>\n",
              "    </tr>\n",
              "    <tr>\n",
              "      <th>389790</th>\n",
              "      <td>76561198047193316</td>\n",
              "      <td>49.0</td>\n",
              "      <td>3.0</td>\n",
              "      <td>39.1</td>\n",
              "      <td>0.0</td>\n",
              "      <td>1.0</td>\n",
              "      <td>0.0</td>\n",
              "      <td>0.0</td>\n",
              "      <td>1.0</td>\n",
              "      <td>0.0</td>\n",
              "      <td>0.0</td>\n",
              "      <td>1.0</td>\n",
              "      <td>0.0</td>\n",
              "      <td>0.0</td>\n",
              "      <td>0.0</td>\n",
              "      <td>0.0</td>\n",
              "    </tr>\n",
              "  </tbody>\n",
              "</table>\n",
              "<p>80871 rows × 16 columns</p>\n",
              "</div>"
            ],
            "text/plain": [
              "                  user_id  product_id  found_funny  ...  Simulation  Sports  Racing\n",
              "2       76561198353396844        91.0          0.0  ...         0.0     0.0     0.0\n",
              "3       76561198292325099        91.0          0.0  ...         0.0     0.0     0.0\n",
              "4       76561198382309565        91.0          0.0  ...         0.0     0.0     0.0\n",
              "5       76561198131701503        91.0          0.0  ...         0.0     0.0     0.0\n",
              "6       76561198265084773        91.0          0.0  ...         0.0     0.0     0.0\n",
              "...                   ...         ...          ...  ...         ...     ...     ...\n",
              "389710  76561198073243816        79.0          0.0  ...         0.0     0.0     0.0\n",
              "389713  76561197980301339        79.0          0.0  ...         0.0     0.0     0.0\n",
              "389788  76561198276798449        49.0          0.0  ...         0.0     0.0     0.0\n",
              "389789  76561197992674721        49.0          0.0  ...         0.0     0.0     0.0\n",
              "389790  76561198047193316        49.0          3.0  ...         0.0     0.0     0.0\n",
              "\n",
              "[80871 rows x 16 columns]"
            ]
          },
          "metadata": {},
          "execution_count": 32
        }
      ]
    },
    {
      "cell_type": "markdown",
      "metadata": {
        "id": "oRCeMzhzfsnX"
      },
      "source": [
        "La librería a usar para los modelos sera surprise de scikit."
      ]
    },
    {
      "cell_type": "code",
      "metadata": {
        "colab": {
          "base_uri": "https://localhost:8080/"
        },
        "id": "ObrUFOhAjCXH",
        "outputId": "3071a4c8-8fe6-4493-c711-b526ccd125bd"
      },
      "source": [
        "!pip install surprise"
      ],
      "execution_count": null,
      "outputs": [
        {
          "output_type": "stream",
          "name": "stdout",
          "text": [
            "Requirement already satisfied: surprise in /usr/local/lib/python3.7/dist-packages (0.1)\n",
            "Requirement already satisfied: scikit-surprise in /usr/local/lib/python3.7/dist-packages (from surprise) (1.1.1)\n",
            "Requirement already satisfied: scipy>=1.0.0 in /usr/local/lib/python3.7/dist-packages (from scikit-surprise->surprise) (1.4.1)\n",
            "Requirement already satisfied: six>=1.10.0 in /usr/local/lib/python3.7/dist-packages (from scikit-surprise->surprise) (1.15.0)\n",
            "Requirement already satisfied: numpy>=1.11.2 in /usr/local/lib/python3.7/dist-packages (from scikit-surprise->surprise) (1.19.5)\n",
            "Requirement already satisfied: joblib>=0.11 in /usr/local/lib/python3.7/dist-packages (from scikit-surprise->surprise) (1.0.1)\n"
          ]
        }
      ]
    },
    {
      "cell_type": "code",
      "metadata": {
        "id": "XCg29QCCXjT4"
      },
      "source": [
        "from surprise import Dataset\n",
        "from surprise import Reader"
      ],
      "execution_count": null,
      "outputs": []
    },
    {
      "cell_type": "markdown",
      "metadata": {
        "id": "Is96bW7nhRNZ"
      },
      "source": [
        "Reader contendra el rango en el que va nuestro por asi decir \"rating\""
      ]
    },
    {
      "cell_type": "code",
      "metadata": {
        "id": "_OcufmiNXm5L"
      },
      "source": [
        "reader = Reader(rating_scale=(1,20))"
      ],
      "execution_count": null,
      "outputs": []
    },
    {
      "cell_type": "markdown",
      "metadata": {
        "id": "oXuKsZbahXuR"
      },
      "source": [
        "Aca le indicamos a data, cual es la id de usuario única, cual es la id de producto única, y cual es la variable que contiene el rating."
      ]
    },
    {
      "cell_type": "code",
      "metadata": {
        "id": "uUHB0d9_X8GB"
      },
      "source": [
        "data = Dataset.load_from_df(data_train[['user_id', 'product_id', 'found_funny']], reader)"
      ],
      "execution_count": null,
      "outputs": []
    },
    {
      "cell_type": "code",
      "metadata": {
        "id": "Fiik2xXZj70P"
      },
      "source": [
        "from surprise import SVD\n",
        "from surprise.model_selection import train_test_split"
      ],
      "execution_count": null,
      "outputs": []
    },
    {
      "cell_type": "code",
      "metadata": {
        "id": "q2s3FaBsSrP6"
      },
      "source": [
        "trainset, testset = train_test_split(data, test_size=.25)"
      ],
      "execution_count": null,
      "outputs": []
    },
    {
      "cell_type": "code",
      "metadata": {
        "id": "GcCJKdHzhjbV"
      },
      "source": [
        "Creamos la variable que contiene el algoritmo."
      ],
      "execution_count": null,
      "outputs": []
    },
    {
      "cell_type": "code",
      "metadata": {
        "id": "O4wcUomekJhV"
      },
      "source": [
        "# Use the famous SVD algorithm.\n",
        "algo = SVD()"
      ],
      "execution_count": null,
      "outputs": []
    },
    {
      "cell_type": "markdown",
      "metadata": {
        "id": "x--GA5HYhoT2"
      },
      "source": [
        "Lo entrenamos con nuestro conjunto de entrenamiento"
      ]
    },
    {
      "cell_type": "code",
      "metadata": {
        "id": "2pIHifbJkJki",
        "colab": {
          "base_uri": "https://localhost:8080/"
        },
        "outputId": "943fc48b-2608-4861-fa6d-161da1366d80"
      },
      "source": [
        "algo.fit(trainset)"
      ],
      "execution_count": null,
      "outputs": [
        {
          "output_type": "execute_result",
          "data": {
            "text/plain": [
              "<surprise.prediction_algorithms.matrix_factorization.SVD at 0x7fca8e809250>"
            ]
          },
          "metadata": {},
          "execution_count": 34
        }
      ]
    },
    {
      "cell_type": "markdown",
      "metadata": {
        "id": "wVVdiZi5hrOn"
      },
      "source": [
        "Hacemos las predicciones del conjunto de testeo"
      ]
    },
    {
      "cell_type": "code",
      "metadata": {
        "id": "e6DlGu_DSjmA"
      },
      "source": [
        "predictions = algo.test(testset)"
      ],
      "execution_count": null,
      "outputs": []
    },
    {
      "cell_type": "code",
      "metadata": {
        "id": "g72KVkae2ken"
      },
      "source": [
        "usuario = 76561198382309565"
      ],
      "execution_count": null,
      "outputs": []
    },
    {
      "cell_type": "markdown",
      "metadata": {
        "id": "rPXh3dSChwq5"
      },
      "source": [
        "Ahora veamos como predice nuestro algoritmo."
      ]
    },
    {
      "cell_type": "markdown",
      "metadata": {
        "id": "P5NDMjSsiZ2c"
      },
      "source": [
        "**Ahora a continuación veremos cuanto rmse nos da este algoritmo:**\""
      ]
    },
    {
      "cell_type": "code",
      "metadata": {
        "id": "o8Qv8XpHkJrL"
      },
      "source": [
        "from surprise import accuracy"
      ],
      "execution_count": null,
      "outputs": []
    },
    {
      "cell_type": "code",
      "metadata": {
        "id": "rCTe9CwNoBSB"
      },
      "source": [
        "accuracy.rmse(predictions)"
      ],
      "execution_count": null,
      "outputs": []
    },
    {
      "cell_type": "markdown",
      "metadata": {
        "id": "QBFiSU6Mihrg"
      },
      "source": [
        "Trataremos de mejorarlo tuneando el modelo:"
      ]
    },
    {
      "cell_type": "code",
      "metadata": {
        "id": "11Bs7ZnBkJsy"
      },
      "source": [
        "from surprise import SVD,NormalPredictor\n",
        "from surprise.model_selection import GridSearchCV\n",
        "param_grid = {'n_factors':[50,100,150],'n_epochs':[20,30],  'lr_all':[0.005,0.01],'reg_all':[0.02,0.1]}\n",
        "gs = GridSearchCV(SVD, param_grid, measures=['rmse'], cv=3)\n",
        "gs.fit(data)\n",
        "params = gs.best_params['rmse']\n",
        "svdtuned = SVD(n_factors=params['n_factors'], n_epochs=params['n_epochs'],lr_all=params['lr_all'], reg_all=params['reg_all'])"
      ],
      "execution_count": null,
      "outputs": []
    },
    {
      "cell_type": "code",
      "metadata": {
        "colab": {
          "base_uri": "https://localhost:8080/"
        },
        "id": "httbRyrsx3ZG",
        "outputId": "d965e4c4-930c-41be-c211-db0d82b49863"
      },
      "source": [
        "gs.best_params"
      ],
      "execution_count": null,
      "outputs": [
        {
          "output_type": "execute_result",
          "data": {
            "text/plain": [
              "{'rmse': {'lr_all': 0.005, 'n_epochs': 20, 'n_factors': 150, 'reg_all': 0.1}}"
            ]
          },
          "metadata": {},
          "execution_count": 41
        }
      ]
    },
    {
      "cell_type": "code",
      "metadata": {
        "id": "7y9qkIHsynlv",
        "colab": {
          "base_uri": "https://localhost:8080/"
        },
        "outputId": "5718e9a8-a685-4946-d477-f1e83bd67645"
      },
      "source": [
        "gs.best_score"
      ],
      "execution_count": null,
      "outputs": [
        {
          "output_type": "execute_result",
          "data": {
            "text/plain": [
              "{'rmse': 1.4186956058126619}"
            ]
          },
          "metadata": {},
          "execution_count": 42
        }
      ]
    },
    {
      "cell_type": "markdown",
      "metadata": {
        "id": "1zoYLZ6_ilM1"
      },
      "source": [
        "El modelo mejoró considerablemente, pero ahora, ¿a qué lo podemos comparar?"
      ]
    },
    {
      "cell_type": "markdown",
      "metadata": {
        "id": "rMp0Wt7G5n6m"
      },
      "source": [
        "Lo que se hizo a continuación, fue crear otro algoritmo de svd, pero esta vez usando de variable de rating a METASCORE, como dijimos el metascore segun nuestra investigación, no es tan relevante a la hora de predecir, ya que realmente a la hora de poner un puntuaje sigue siendo un promedio de distintas páginas de criticas de juegos en internet, y yo no he visto si esos promedios, a la hora de sacarlos, han hecho un EDA correspondiente a sus datos, y ya de por si con la mala fama que tiene metacritics, me alcanza como para saber que no tendra buenos resultados.\n",
        "**En fin hice el modelo simplemente para aprender cuanto daría por mas que no tenga validez y estos fueron los resultados**"
      ]
    },
    {
      "cell_type": "code",
      "metadata": {
        "id": "-jqUQCilZ0Wy"
      },
      "source": [
        "reader1 = Reader(rating_scale=(1,100))"
      ],
      "execution_count": null,
      "outputs": []
    },
    {
      "cell_type": "code",
      "metadata": {
        "id": "BW0yILIvZ7uZ"
      },
      "source": [
        "data1 = Dataset.load_from_df(data_train1[['user_id', 'product_id', 'metascore']], reader1)"
      ],
      "execution_count": null,
      "outputs": []
    },
    {
      "cell_type": "code",
      "metadata": {
        "id": "-I-1G7MaZ7w0"
      },
      "source": [
        "trainset1, testset1 = train_test_split(data1, test_size=.25)"
      ],
      "execution_count": null,
      "outputs": []
    },
    {
      "cell_type": "code",
      "metadata": {
        "id": "towC27mlZ7zS"
      },
      "source": [
        "# Use the famous SVD algorithm.\n",
        "algo1 = SVD()"
      ],
      "execution_count": null,
      "outputs": []
    },
    {
      "cell_type": "code",
      "metadata": {
        "colab": {
          "base_uri": "https://localhost:8080/"
        },
        "id": "sJKe59SsaI0a",
        "outputId": "3b7c4783-893b-4364-c660-171f38305dd7"
      },
      "source": [
        "algo1.fit(trainset1)"
      ],
      "execution_count": null,
      "outputs": [
        {
          "output_type": "execute_result",
          "data": {
            "text/plain": [
              "<surprise.prediction_algorithms.matrix_factorization.SVD at 0x7f514fbf5590>"
            ]
          },
          "metadata": {},
          "execution_count": 78
        }
      ]
    },
    {
      "cell_type": "code",
      "metadata": {
        "id": "fFx6PLR0aI2i"
      },
      "source": [
        "predictions1 = algo1.test(testset1)"
      ],
      "execution_count": null,
      "outputs": []
    },
    {
      "cell_type": "markdown",
      "metadata": {
        "id": "7o01dwaL6mxF"
      },
      "source": [
        "**Accuracy rmse final del modelo svd con metascore en el rating:**"
      ]
    },
    {
      "cell_type": "code",
      "metadata": {
        "colab": {
          "base_uri": "https://localhost:8080/"
        },
        "id": "KuJRtN2raI43",
        "outputId": "81ad4627-4c44-4d50-b339-da03a942b400"
      },
      "source": [
        "accuracy.rmse(predictions1)"
      ],
      "execution_count": null,
      "outputs": [
        {
          "output_type": "stream",
          "name": "stdout",
          "text": [
            "RMSE: 1.6956\n"
          ]
        },
        {
          "output_type": "execute_result",
          "data": {
            "text/plain": [
              "1.6955859284237322"
            ]
          },
          "metadata": {},
          "execution_count": 81
        }
      ]
    },
    {
      "cell_type": "markdown",
      "metadata": {
        "id": "PdoWvsnAZyBf"
      },
      "source": [
        "## Modelo benchmark."
      ]
    },
    {
      "cell_type": "markdown",
      "metadata": {
        "id": "1IHHGLi57d9g"
      },
      "source": [
        "Vamos a comparar el algoritmo svd con otro modelo de la librería surprise, el cual es SVD++, vamos a ver que resultados obtenemos."
      ]
    },
    {
      "cell_type": "code",
      "metadata": {
        "id": "JQIuR2nJfIFQ"
      },
      "source": [
        "### Usando SVD ++\n",
        "from surprise import SVDpp\n",
        "from surprise.model_selection import cross_validate\n",
        "algo = SVDpp()"
      ],
      "execution_count": null,
      "outputs": []
    },
    {
      "cell_type": "code",
      "metadata": {
        "colab": {
          "base_uri": "https://localhost:8080/"
        },
        "id": "Z1yk5kOuMJ0d",
        "outputId": "9d808041-85b5-48b9-fb14-fe7aae630684"
      },
      "source": [
        "perf = cross_validate(algo, data, measures=['RMSE', 'MAE'], cv=3)\n",
        "print(perf)"
      ],
      "execution_count": null,
      "outputs": [
        {
          "output_type": "stream",
          "name": "stdout",
          "text": [
            "{'test_rmse': array([1.27020087, 1.28664196, 1.26218712]), 'test_mae': array([1.00508583, 1.00352723, 1.0020374 ]), 'fit_time': (5.826747179031372, 5.825524806976318, 5.797525882720947), 'test_time': (0.2934384346008301, 0.3098878860473633, 0.2714695930480957)}\n"
          ]
        }
      ]
    },
    {
      "cell_type": "markdown",
      "metadata": {
        "id": "DdfQOh_L7m0H"
      },
      "source": [
        "**Sin un tuneo de hiper-parámetros obtuvimos mejores resultados que con el SVD tuneado.**\n",
        "\n",
        "\n",
        "**Accuracy rmse svd con grid search: 1.4186956058126619**\n",
        "\n",
        "**Accuracy rmse svd++ sin grid search: 1.26218712**"
      ]
    },
    {
      "cell_type": "markdown",
      "metadata": {
        "id": "afWL88Alhww1"
      },
      "source": [
        "# INVESTIGACIÓN\n",
        "### COMO PREDICE NUESTRO ALGORITMO?\n",
        "\n"
      ]
    },
    {
      "cell_type": "markdown",
      "source": [
        "Procedo a guardar en un dataset información de el id de los productos y su respectivo nombre."
      ],
      "metadata": {
        "id": "dueOH1J4vXtw"
      }
    },
    {
      "cell_type": "code",
      "metadata": {
        "colab": {
          "base_uri": "https://localhost:8080/",
          "height": 246
        },
        "id": "VfsfMF0_2nyK",
        "outputId": "944af569-2f04-45b9-95ba-65b63bd89d65"
      },
      "source": [
        "recomendaciones_usuario = data_games[['game','product_id']].iloc[:4499].copy()\n",
        "recomendaciones_usuario.index = recomendaciones_usuario.product_id\n",
        "recomendaciones_usuario = recomendaciones_usuario.drop(['product_id'], axis=1)\n",
        "print(recomendaciones_usuario.shape)\n",
        "recomendaciones_usuario.head()"
      ],
      "execution_count": null,
      "outputs": [
        {
          "output_type": "stream",
          "name": "stdout",
          "text": [
            "(4499, 1)\n"
          ]
        },
        {
          "output_type": "execute_result",
          "data": {
            "text/html": [
              "<div>\n",
              "<style scoped>\n",
              "    .dataframe tbody tr th:only-of-type {\n",
              "        vertical-align: middle;\n",
              "    }\n",
              "\n",
              "    .dataframe tbody tr th {\n",
              "        vertical-align: top;\n",
              "    }\n",
              "\n",
              "    .dataframe thead th {\n",
              "        text-align: right;\n",
              "    }\n",
              "</style>\n",
              "<table border=\"1\" class=\"dataframe\">\n",
              "  <thead>\n",
              "    <tr style=\"text-align: right;\">\n",
              "      <th></th>\n",
              "      <th>game</th>\n",
              "    </tr>\n",
              "    <tr>\n",
              "      <th>product_id</th>\n",
              "      <th></th>\n",
              "    </tr>\n",
              "  </thead>\n",
              "  <tbody>\n",
              "    <tr>\n",
              "      <th>761140</th>\n",
              "      <td>Lost Summoner Kitty</td>\n",
              "    </tr>\n",
              "    <tr>\n",
              "      <th>643980</th>\n",
              "      <td>Ironbound</td>\n",
              "    </tr>\n",
              "    <tr>\n",
              "      <th>670290</th>\n",
              "      <td>Real Pool 3D - Poolians</td>\n",
              "    </tr>\n",
              "    <tr>\n",
              "      <th>767400</th>\n",
              "      <td>弹炸人2222</td>\n",
              "    </tr>\n",
              "    <tr>\n",
              "      <th>773570</th>\n",
              "      <td>Log Challenge</td>\n",
              "    </tr>\n",
              "  </tbody>\n",
              "</table>\n",
              "</div>"
            ],
            "text/plain": [
              "                               game\n",
              "product_id                         \n",
              "761140          Lost Summoner Kitty\n",
              "643980                    Ironbound\n",
              "670290      Real Pool 3D - Poolians\n",
              "767400                      弹炸人2222\n",
              "773570                Log Challenge"
            ]
          },
          "metadata": {},
          "execution_count": 83
        }
      ]
    },
    {
      "cell_type": "markdown",
      "source": [
        "Por otro lado nuevamente armo un dataset con product_id para emparejarlo con el anterior, y meto el user_id y el found_funny que seria lo que me indicaria la puntuación."
      ],
      "metadata": {
        "id": "hUXLLvWCvfcH"
      }
    },
    {
      "cell_type": "code",
      "metadata": {
        "colab": {
          "base_uri": "https://localhost:8080/",
          "height": 65
        },
        "id": "ZTa6Bb9-4qKM",
        "outputId": "45665d4c-feef-467f-a30e-7b50345a70b8"
      },
      "source": [
        "usuario_vistas = data_train[['user_id', 'product_id', 'found_funny']][data_train['user_id'] == usuario]\n",
        "print(usuario_vistas.shape)\n",
        "usuario_vistas.head()"
      ],
      "execution_count": null,
      "outputs": [
        {
          "output_type": "stream",
          "name": "stdout",
          "text": [
            "(0, 3)\n"
          ]
        },
        {
          "output_type": "execute_result",
          "data": {
            "text/html": [
              "<div>\n",
              "<style scoped>\n",
              "    .dataframe tbody tr th:only-of-type {\n",
              "        vertical-align: middle;\n",
              "    }\n",
              "\n",
              "    .dataframe tbody tr th {\n",
              "        vertical-align: top;\n",
              "    }\n",
              "\n",
              "    .dataframe thead th {\n",
              "        text-align: right;\n",
              "    }\n",
              "</style>\n",
              "<table border=\"1\" class=\"dataframe\">\n",
              "  <thead>\n",
              "    <tr style=\"text-align: right;\">\n",
              "      <th></th>\n",
              "      <th>user_id</th>\n",
              "      <th>product_id</th>\n",
              "      <th>found_funny</th>\n",
              "    </tr>\n",
              "  </thead>\n",
              "  <tbody>\n",
              "  </tbody>\n",
              "</table>\n",
              "</div>"
            ],
            "text/plain": [
              "Empty DataFrame\n",
              "Columns: [user_id, product_id, found_funny]\n",
              "Index: []"
            ]
          },
          "metadata": {},
          "execution_count": 85
        }
      ]
    },
    {
      "cell_type": "code",
      "metadata": {
        "colab": {
          "base_uri": "https://localhost:8080/",
          "height": 200
        },
        "id": "OXqEwftXK2ti",
        "outputId": "4c8027b4-3dc7-4a81-d7f9-6d7dc7298e8d"
      },
      "source": [
        "recomendaciones_usuario = recomendaciones_usuario.reset_index()\n",
        "recomendaciones_usuario.head()"
      ],
      "execution_count": null,
      "outputs": [
        {
          "output_type": "execute_result",
          "data": {
            "text/html": [
              "<div>\n",
              "<style scoped>\n",
              "    .dataframe tbody tr th:only-of-type {\n",
              "        vertical-align: middle;\n",
              "    }\n",
              "\n",
              "    .dataframe tbody tr th {\n",
              "        vertical-align: top;\n",
              "    }\n",
              "\n",
              "    .dataframe thead th {\n",
              "        text-align: right;\n",
              "    }\n",
              "</style>\n",
              "<table border=\"1\" class=\"dataframe\">\n",
              "  <thead>\n",
              "    <tr style=\"text-align: right;\">\n",
              "      <th></th>\n",
              "      <th>product_id</th>\n",
              "      <th>game</th>\n",
              "    </tr>\n",
              "  </thead>\n",
              "  <tbody>\n",
              "    <tr>\n",
              "      <th>0</th>\n",
              "      <td>761140</td>\n",
              "      <td>Lost Summoner Kitty</td>\n",
              "    </tr>\n",
              "    <tr>\n",
              "      <th>1</th>\n",
              "      <td>643980</td>\n",
              "      <td>Ironbound</td>\n",
              "    </tr>\n",
              "    <tr>\n",
              "      <th>2</th>\n",
              "      <td>670290</td>\n",
              "      <td>Real Pool 3D - Poolians</td>\n",
              "    </tr>\n",
              "    <tr>\n",
              "      <th>3</th>\n",
              "      <td>767400</td>\n",
              "      <td>弹炸人2222</td>\n",
              "    </tr>\n",
              "    <tr>\n",
              "      <th>4</th>\n",
              "      <td>773570</td>\n",
              "      <td>Log Challenge</td>\n",
              "    </tr>\n",
              "  </tbody>\n",
              "</table>\n",
              "</div>"
            ],
            "text/plain": [
              "  product_id                     game\n",
              "0     761140      Lost Summoner Kitty\n",
              "1     643980                Ironbound\n",
              "2     670290  Real Pool 3D - Poolians\n",
              "3     767400                  弹炸人2222\n",
              "4     773570            Log Challenge"
            ]
          },
          "metadata": {},
          "execution_count": 87
        }
      ]
    },
    {
      "cell_type": "markdown",
      "metadata": {
        "id": "3PDdzG-2iBuW"
      },
      "source": [
        "Esta es la review del usuario a predecir."
      ]
    },
    {
      "cell_type": "code",
      "metadata": {
        "colab": {
          "base_uri": "https://localhost:8080/",
          "height": 80
        },
        "id": "SOH1GNR4GsWT",
        "outputId": "caa59a38-f66c-4eba-cb72-964e6c1ec3cb"
      },
      "source": [
        "data_reviews2[data_reviews2.user_id == '76561198382309565']"
      ],
      "execution_count": null,
      "outputs": [
        {
          "output_type": "execute_result",
          "data": {
            "text/html": [
              "<div>\n",
              "<style scoped>\n",
              "    .dataframe tbody tr th:only-of-type {\n",
              "        vertical-align: middle;\n",
              "    }\n",
              "\n",
              "    .dataframe tbody tr th {\n",
              "        vertical-align: top;\n",
              "    }\n",
              "\n",
              "    .dataframe thead th {\n",
              "        text-align: right;\n",
              "    }\n",
              "</style>\n",
              "<table border=\"1\" class=\"dataframe\">\n",
              "  <thead>\n",
              "    <tr style=\"text-align: right;\">\n",
              "      <th></th>\n",
              "      <th>user_id</th>\n",
              "      <th>product_id</th>\n",
              "      <th>found_funny</th>\n",
              "      <th>metascore</th>\n",
              "      <th>hours</th>\n",
              "      <th>title</th>\n",
              "      <th>text</th>\n",
              "      <th>genres</th>\n",
              "    </tr>\n",
              "  </thead>\n",
              "  <tbody>\n",
              "    <tr>\n",
              "      <th>4</th>\n",
              "      <td>76561198382309565</td>\n",
              "      <td>91.0</td>\n",
              "      <td>0.0</td>\n",
              "      <td>91</td>\n",
              "      <td>16.1</td>\n",
              "      <td>Batman: Arkham Asylum Game of the Year Edition</td>\n",
              "      <td>Absolutely dark as a bag. Love this game.</td>\n",
              "      <td>[Action, Adventure]</td>\n",
              "    </tr>\n",
              "  </tbody>\n",
              "</table>\n",
              "</div>"
            ],
            "text/plain": [
              "             user_id  ...               genres\n",
              "4  76561198382309565  ...  [Action, Adventure]\n",
              "\n",
              "[1 rows x 8 columns]"
            ]
          },
          "metadata": {},
          "execution_count": 38
        }
      ]
    },
    {
      "cell_type": "code",
      "metadata": {
        "colab": {
          "base_uri": "https://localhost:8080/",
          "height": 502
        },
        "id": "MjDopyvxLDtk",
        "outputId": "4688fd5f-3205-4573-e58e-8de24721b297"
      },
      "source": [
        "recomendaciones_usuario[\"Estimate_Score\"] = recomendaciones_usuario[\"product_id\"].apply(lambda x: algo.predict(usuario, x).est)\n",
        "recomendaciones_usuario = recomendaciones_usuario.sort_values(\"Estimate_Score\", ascending=False)\n",
        "recomendaciones_usuario.head(15)"
      ],
      "execution_count": null,
      "outputs": [
        {
          "output_type": "execute_result",
          "data": {
            "text/html": [
              "<div>\n",
              "<style scoped>\n",
              "    .dataframe tbody tr th:only-of-type {\n",
              "        vertical-align: middle;\n",
              "    }\n",
              "\n",
              "    .dataframe tbody tr th {\n",
              "        vertical-align: top;\n",
              "    }\n",
              "\n",
              "    .dataframe thead th {\n",
              "        text-align: right;\n",
              "    }\n",
              "</style>\n",
              "<table border=\"1\" class=\"dataframe\">\n",
              "  <thead>\n",
              "    <tr style=\"text-align: right;\">\n",
              "      <th></th>\n",
              "      <th>product_id</th>\n",
              "      <th>game</th>\n",
              "      <th>Estimate_Score</th>\n",
              "    </tr>\n",
              "  </thead>\n",
              "  <tbody>\n",
              "    <tr>\n",
              "      <th>3405</th>\n",
              "      <td>331200</td>\n",
              "      <td>Grass Simulator</td>\n",
              "      <td>2.389773</td>\n",
              "    </tr>\n",
              "    <tr>\n",
              "      <th>102</th>\n",
              "      <td>12170</td>\n",
              "      <td>Grand Theft Auto</td>\n",
              "      <td>2.215742</td>\n",
              "    </tr>\n",
              "    <tr>\n",
              "      <th>4351</th>\n",
              "      <td>282660</td>\n",
              "      <td>EasyAntiCheat eSports</td>\n",
              "      <td>2.200131</td>\n",
              "    </tr>\n",
              "    <tr>\n",
              "      <th>2392</th>\n",
              "      <td>292180</td>\n",
              "      <td>X-Plane 10 Global - 64 Bit</td>\n",
              "      <td>2.083448</td>\n",
              "    </tr>\n",
              "    <tr>\n",
              "      <th>3596</th>\n",
              "      <td>360870</td>\n",
              "      <td>Ultimate Tic-Tac-Toe</td>\n",
              "      <td>1.779715</td>\n",
              "    </tr>\n",
              "    <tr>\n",
              "      <th>3586</th>\n",
              "      <td>351150</td>\n",
              "      <td>DRAGON: A Game About a Dragon</td>\n",
              "      <td>1.757348</td>\n",
              "    </tr>\n",
              "    <tr>\n",
              "      <th>4193</th>\n",
              "      <td>339230</td>\n",
              "      <td>ZOMBI</td>\n",
              "      <td>1.718601</td>\n",
              "    </tr>\n",
              "    <tr>\n",
              "      <th>1094</th>\n",
              "      <td>100980</td>\n",
              "      <td>3D-Coat V4.8</td>\n",
              "      <td>1.696593</td>\n",
              "    </tr>\n",
              "    <tr>\n",
              "      <th>3030</th>\n",
              "      <td>337850</td>\n",
              "      <td>Avernum 2: Crystal Souls</td>\n",
              "      <td>1.620793</td>\n",
              "    </tr>\n",
              "    <tr>\n",
              "      <th>3772</th>\n",
              "      <td>341940</td>\n",
              "      <td>Hatred</td>\n",
              "      <td>1.561729</td>\n",
              "    </tr>\n",
              "    <tr>\n",
              "      <th>295</th>\n",
              "      <td>38420</td>\n",
              "      <td>Fallout Tactics: Brotherhood of Steel</td>\n",
              "      <td>1.530856</td>\n",
              "    </tr>\n",
              "    <tr>\n",
              "      <th>3954</th>\n",
              "      <td>381560</td>\n",
              "      <td>Epic Cards Battle(TCG)</td>\n",
              "      <td>1.502609</td>\n",
              "    </tr>\n",
              "    <tr>\n",
              "      <th>274</th>\n",
              "      <td>32330</td>\n",
              "      <td>LEGO® Indiana Jones™: The Original Adventures</td>\n",
              "      <td>1.455342</td>\n",
              "    </tr>\n",
              "    <tr>\n",
              "      <th>3222</th>\n",
              "      <td>273500</td>\n",
              "      <td>Over 9000 Zombies!</td>\n",
              "      <td>1.448610</td>\n",
              "    </tr>\n",
              "    <tr>\n",
              "      <th>3947</th>\n",
              "      <td>370600</td>\n",
              "      <td>Hello Kitty and Sanrio Friends Racing</td>\n",
              "      <td>1.436993</td>\n",
              "    </tr>\n",
              "  </tbody>\n",
              "</table>\n",
              "</div>"
            ],
            "text/plain": [
              "     product_id                                           game  Estimate_Score\n",
              "3405     331200                                Grass Simulator        2.389773\n",
              "102       12170                               Grand Theft Auto        2.215742\n",
              "4351     282660                          EasyAntiCheat eSports        2.200131\n",
              "2392     292180                     X-Plane 10 Global - 64 Bit        2.083448\n",
              "3596     360870                           Ultimate Tic-Tac-Toe        1.779715\n",
              "3586     351150                  DRAGON: A Game About a Dragon        1.757348\n",
              "4193     339230                                          ZOMBI        1.718601\n",
              "1094     100980                                   3D-Coat V4.8        1.696593\n",
              "3030     337850                       Avernum 2: Crystal Souls        1.620793\n",
              "3772     341940                                         Hatred        1.561729\n",
              "295       38420          Fallout Tactics: Brotherhood of Steel        1.530856\n",
              "3954     381560                         Epic Cards Battle(TCG)        1.502609\n",
              "274       32330  LEGO® Indiana Jones™: The Original Adventures        1.455342\n",
              "3222     273500                             Over 9000 Zombies!        1.448610\n",
              "3947     370600          Hello Kitty and Sanrio Friends Racing        1.436993"
            ]
          },
          "metadata": {},
          "execution_count": 88
        }
      ]
    },
    {
      "cell_type": "markdown",
      "metadata": {
        "id": "qCSW91maiMBF"
      },
      "source": [
        "Como resultado principal recomienda con 2.39 de score GRASS SIMULATOR.\n",
        "como segundo resultado recomienda con 2.21 GRAND THEFT AUTO."
      ]
    }
  ]
}